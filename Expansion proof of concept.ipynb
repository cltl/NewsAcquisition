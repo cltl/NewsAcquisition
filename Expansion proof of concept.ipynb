{
 "cells": [
  {
   "cell_type": "markdown",
   "metadata": {},
   "source": [
    "## Obtain seed set of document using Elasticsearch"
   ]
  },
  {
   "cell_type": "code",
   "execution_count": 1,
   "metadata": {
    "collapsed": false
   },
   "outputs": [],
   "source": [
    "import utils"
   ]
  },
  {
   "cell_type": "code",
   "execution_count": 2,
   "metadata": {
    "collapsed": true
   },
   "outputs": [],
   "source": [
    "import urllib.parse\n",
    "import urllib.request\n",
    "import requests"
   ]
  },
  {
   "cell_type": "code",
   "execution_count": 3,
   "metadata": {
    "collapsed": true
   },
   "outputs": [],
   "source": [
    "base = 'http://news.fii800.lod.labs.vu.nl/news?'\n",
    "args = {\n",
    "    'q' : 'earthquake', # the query terms to look for\n",
    "    'in' : 'content', # look in title, content or both (supported values are: \"title\", \"content\", \"both\")\n",
    "    'from' : '2015-09-01T00:00:00Z', # from->starting datetime point\n",
    "    'to' : '2015-10-01T00:00:00Z', # ending datetime point\n",
    "    'source' : '', # source -> which source\n",
    "    'media' : 'News', # media -> media type (\"Blog\" or \"News\")\n",
    "    'size' : 1000, # size -> amount of results to return\n",
    "    'offset' : 0,  # offset ->skip the first offset results (useful for pagination)\n",
    "    'match' : 'conjunct'\n",
    "}"
   ]
  },
  {
   "cell_type": "code",
   "execution_count": 4,
   "metadata": {
    "collapsed": false
   },
   "outputs": [],
   "source": [
    "all_results = utils.get_all_hits(base, args)\n",
    "news_items_ids = set(all_results.keys())"
   ]
  },
  {
   "cell_type": "markdown",
   "metadata": {},
   "source": [
    "## Please point **path_signalmedia_json** to where the jsonl is stored\n",
    "* uncomment if you want to use it (is a bit slow)"
   ]
  },
  {
   "cell_type": "code",
   "execution_count": 5,
   "metadata": {
    "collapsed": false
   },
   "outputs": [],
   "source": [
    "#path_signalmedia_json = 'SignalMedia/signalmedia-1m.jsonl'\n",
    "#results_in_json = utils.obtain_specific_identifiers(path_signalmedia_json, news_items_ids)"
   ]
  },
  {
   "cell_type": "code",
   "execution_count": 6,
   "metadata": {
    "collapsed": false
   },
   "outputs": [
    {
     "name": "stdout",
     "output_type": "stream",
     "text": [
      "1913\n"
     ]
    }
   ],
   "source": [
    "print(len(news_items_ids))"
   ]
  },
  {
   "cell_type": "code",
   "execution_count": 7,
   "metadata": {
    "collapsed": false
   },
   "outputs": [],
   "source": [
    "ids=str(news_items_ids)[1:-1]"
   ]
  },
  {
   "cell_type": "markdown",
   "metadata": {
    "collapsed": true
   },
   "source": [
    "## SPARQLing earthquakes"
   ]
  },
  {
   "cell_type": "code",
   "execution_count": 8,
   "metadata": {
    "collapsed": true
   },
   "outputs": [],
   "source": [
    "def to_dbpedia(locs):\n",
    "    uris=set()\n",
    "    for l in locs:\n",
    "        uris.add(\"'http://dbpedia.org/resource/%s'\" % l)\n",
    "    return \",\".join(uris)"
   ]
  },
  {
   "cell_type": "code",
   "execution_count": 9,
   "metadata": {
    "collapsed": false
   },
   "outputs": [],
   "source": [
    "sparql_endpoint=\"http://sparql.fii800.lod.labs.vu.nl/sparql\"\n",
    "graph_uri=\"http://longtailcorpus.org\"\n",
    "boring_locations=[\"United_States\", \"United_Kingdom\", \"Africa\", \"Europe\"]\n",
    "boring_URIs=to_dbpedia(boring_locations)\n",
    "limit_secs=60*60*24 # seconds\n",
    "limit_days=1 "
   ]
  },
  {
   "cell_type": "code",
   "execution_count": 10,
   "metadata": {
    "collapsed": true
   },
   "outputs": [],
   "source": [
    "def get_sparql_top():\n",
    "    return \"\"\"PREFIX dct: <http://purl.org/dc/terms/>\n",
    "PREFIX dt: <http://dbpedia.org/datatype/>\n",
    "PREFIX dc: <http://purl.org/dc/elements/1.1/>\n",
    "PREFIX longtail: <http://longtailcorpus.org/>\n",
    "SELECT ?n1 ?src ?location ?dct WHERE {\n",
    "  GRAPH <http://longtailcorpus.org> {\n",
    "?n1 a longtail:NewsItem ;\n",
    "    dct:source ?src .\n",
    "    FILTER (?src IN (\"\"\" + ids + \"\"\")) .\n",
    "    ?n1 dct:created ?dct ;\n",
    "    dct:publisher ?pub .\n",
    "    ?pub dct:spatial ?location .\n",
    "    \"\"\""
   ]
  },
  {
   "cell_type": "code",
   "execution_count": 11,
   "metadata": {
    "collapsed": true
   },
   "outputs": [],
   "source": [
    "def get_sparql_bottom():\n",
    "    return \" } }\""
   ]
  },
  {
   "cell_type": "code",
   "execution_count": 12,
   "metadata": {
    "collapsed": true
   },
   "outputs": [],
   "source": [
    "def get_sparql_middle(factor):\n",
    "    if factor=='location':\n",
    "        return \"FILTER (str(?location) NOT IN (%s) ) . \" % boring_URIs"
   ]
  },
  {
   "cell_type": "code",
   "execution_count": 13,
   "metadata": {
    "collapsed": true
   },
   "outputs": [],
   "source": [
    "from SPARQLWrapper import SPARQLWrapper, JSON\n",
    "\n",
    "def get_sparql_results(query):\n",
    "\n",
    "    sparql = SPARQLWrapper(sparql_endpoint)\n",
    "    sparql.setQuery(query)\n",
    "    sparql.setReturnFormat(JSON)\n",
    "    sparql.method = 'POST'\n",
    "    results = sparql.query().convert()\n",
    "    return results[\"results\"][\"bindings\"]\n",
    "#    for result in results[\"results\"][\"bindings\"]:\n",
    "#        print(result[\"n1\"][\"value\"])\n"
   ]
  },
  {
   "cell_type": "code",
   "execution_count": 14,
   "metadata": {
    "collapsed": false
   },
   "outputs": [
    {
     "name": "stdout",
     "output_type": "stream",
     "text": [
      "PREFIX dct: <http://purl.org/dc/terms/>\n",
      "PREFIX dt: <http://dbpedia.org/datatype/>\n",
      "PREFIX dc: <http://purl.org/dc/elements/1.1/>\n",
      "PREFIX longtail: <http://longtailcorpus.org/>\n",
      "SELECT ?n1 ?src ?location ?dct WHERE {\n",
      "  GRAPH <http://longtailcorpus.org> {\n",
      "?n1 a longtail:NewsItem ;\n",
      "    dct:source ?src .\n",
      "    FILTER (?src IN ('da3d4859-0e9b-4ed7-b132-39a1302365cc', '0e5c2c57-e054-410c-8a7f-bbc13918499c', 'ccd90eac-6c2f-49ef-90a7-72c0cf8b98bb', 'ea531313-8e23-4523-b5e0-281eb66506da', 'e6f69446-77f0-4c73-9999-cce2aae6e5a4', 'f48c91c2-3eb1-4a3b-b8b9-bb9dbee85965', '31c854b5-89ea-4dd6-9ddc-d22b6021f689', '5785c538-9d34-478e-b611-b84b3798f7f4', '1fff56c6-8769-4ab3-89b0-7a450c11da93', 'a9a3a9a9-df4c-429c-9817-bc5c80a04b43', '873eb0b1-63a5-441b-bf8f-f0e9a4de183c', '4fc6f7fe-ffcd-44ad-9b23-73e732911061', '44b2a31e-ef23-4bd7-b2d0-a003c7d489d1', 'faae3d87-dd56-4866-b291-c8fac947f924', '82d81fdf-ede6-4eed-b0bd-1054438df9f9', 'fcceebb7-198a-4df6-af93-20c29a3b5be6', 'a31ec972-36be-45d6-85eb-83d922c1ad40', 'fca926d2-9369-4c78-bd25-fb5efec41e9d', 'aeb9e80c-b6fa-48d7-9e78-61fcd097b7a6', '90c6f502-fd88-4b60-a4cb-159bb1371dde', '951e9f1d-3447-4afd-a6fa-ab58e38f190c', 'edac6678-48eb-43bd-a31a-301039db9573', '8a77e0a8-6604-45fa-82cc-90cdc3ef06d5', '689cbf3f-0875-4cc4-a381-2164515df82a', '6305bccb-4326-4aa6-b9e8-cf4fcf752efa', '9d84230e-84ec-4bd7-a25e-f6d28922fc04', 'fde8e935-090e-4da2-9dc0-e92edaab0b5c', 'ba549e4f-e492-4689-b8b0-42a0c478e27b', '18da3de0-91f2-440c-ad05-c2296748fe70', 'bbb00a1c-a423-429d-b37c-49a52d9d68ed', '073c15bf-6fae-4b3c-ab2e-9790628eeab2', 'ba4da0c3-1b50-4f43-8ad2-5b27099ed472', 'b1d501ee-faad-457f-9ae7-9d73a26f9703', '11bbff2a-83d3-4e01-95c8-f9b9a6c4632b', '38fcf29f-75cf-42ed-9038-914d45b56eaf', '3b201364-8578-4a02-88e9-9fce72f4a606', 'a6aea74d-6916-451d-8ef2-fb54cd9f425d', '6886650c-e7bc-4ac7-b6f7-37909be97ee2', 'ea81e53b-c606-471e-af61-c68b64f41da3', '2ae2476e-bd8d-4c44-ac71-38e903f659b2', '7a4aa56e-6c16-4099-b430-b239bf96e160', '738f6e24-b715-4d45-b2f1-a8fa4d02cbc4', '1c9be770-babb-4218-990b-5d2f6aa4e9fa', '0fd860e8-6f53-4474-99b3-6cb2b305616a', '827d40e2-c97a-464f-b747-0340dc9dfe52', '2c3f4eb5-ec29-421d-b694-479aac751276', '3fb9b472-0868-4107-be97-7f2e60be0018', '2dc606a8-5441-4b55-99f2-ea884599fe85', '79612a02-d501-4b9a-8436-270f53eae7d3', 'bf322634-a36f-4b10-b152-e4afd13bf311', '21ef7003-bb19-46d9-a7c0-a873d8adbd72', '3ab6e342-ba8d-4527-a5f7-17fdb6d51028', '0254ea23-c473-4801-ac39-5ede109814b6', '48336409-aec3-4fd2-8b7d-bb3e0a5a7238', '65b11769-86b1-4da0-88eb-0f0cd767a405', 'cf1b23a9-f677-4787-89bf-6dc4f0d29289', '410a9b93-ec0e-45dd-987e-1935424fc538', '5698d62b-3db2-49ff-a342-d54997ae14d5', 'd041bda8-c5c6-44aa-9c15-28ef1cccccc8', 'bde75df3-0eda-4ec3-8460-43ce04b8890a', 'a07b42a2-f989-4ec2-9210-ded652131bc7', 'fd34ddbf-6105-4025-b9dc-078e2a0d8419', 'f41fb0f8-7420-474f-8837-536ced63f346', '721a65ea-b706-45b6-afbb-6f5ccc89806b', '11744f2f-1583-44f8-ba04-7cf78fe9fb1f', 'a689d793-0fba-4840-8978-ecffa7a26d54', 'cf8ae72d-354e-4cf1-ba89-0fafc043bee3', 'bf892124-c8fd-4f2b-b0ca-cd8c6362b412', '7109a94a-530e-4a60-8eac-314f4d856138', '78d75131-b435-494f-ae65-ede5a7812861', '9320435d-1529-4dc3-a386-efa4e033832e', 'db0df8b1-ec9d-46aa-909a-04c386fe8819', 'a37b11b0-53ee-4270-80d4-a150f851b871', 'e9bbd03a-4616-4f25-953b-3e2dfd36e5ef', '78530b77-f2ef-43eb-b3bb-0de49a127cf8', 'f2243f03-3316-426b-810f-0d12bda07d3b', '374b2001-1e1f-4ac9-9133-27b260764da5', '13fbf9f9-b358-46f1-a444-6c4d6c7e56ce', 'eb9c511a-a574-417a-9485-eeb3bcacc6dd', '5c4153f5-851e-4232-b726-4ebe06ad24e9', 'd6dedd81-5f46-41c9-8637-46efcf3f5959', 'da75cd0a-59d5-4627-91ba-67a32d757040', '668dc0cb-61f4-4b20-a73c-5d1c3f24e001', '5ceb1591-842d-4926-be30-e72af78c39c0', '7bd5ed1c-bef4-42c7-978f-e927ba49d760', '6e054a74-ff68-4cad-b69c-f9f44eecbc0e', '92aa9229-b5ec-4671-9e23-2adf45988b15', 'f3685783-5723-4137-9f51-140e02cc96b3', '456c69a3-63c4-4bb8-96e0-1a61e0d0b6a3', 'eb0c5af6-4040-4e0b-b153-52d7793b3cec', '948ad7e2-1ccf-4a3d-a6b3-4d93bb171c40', 'a3c341c1-63ac-4cc9-8148-c4785ac06810', '43a827cb-26f5-402a-a82b-171a2b991986', '824a573e-d7da-45b5-97b7-8a426667f3dc', '54826f6e-8435-4fb5-b6af-db011ac17e80', '3e6b4446-13fb-471e-bc5e-f38679a73ec9', '2e65d39e-2d52-493e-acae-cbea1e613d3a', '9fe586ad-84c7-4f96-ae66-cfe8d5ec1225', '228926cc-1edc-4397-ba0e-888933caba00', 'b80e8c5c-fbd5-4547-a6bf-27b9fb99e5d2', 'cea747c2-f1bd-46f0-9e55-a7d227f4ac7e', '61a36345-0895-4915-a4ee-bb86c272a723', 'b1d40c24-8068-4f97-8ce6-5f9bbb30ac5c', 'e790275d-40bd-4771-9ae8-bc8b4a672237', 'c39efd39-4483-4e7a-8eb3-dbfe82169fa2', 'aeb67a06-b4f9-4157-a5ca-adc780aa6aa5', 'a7bd1b10-035d-4d39-898c-4dd0bf6dbbc6', 'bc9f46d8-bdda-481c-b7f0-1d96b87cd682', '2565cdeb-2a24-49b4-aa88-ae14dceac279', 'fa8b1e4b-478c-47cb-9cb2-8637e64f7818', '25728454-3887-443d-b6c9-9d93278e6768', 'aa8cd255-e490-449e-a354-09e4fee5218f', '11dc5c64-63c0-42f1-8364-fc0da2e1ba84', '72b818fb-0821-4a84-8c89-2c2239df802b', '49a86a8d-3116-41f6-840d-8db9a8cdee82', '50f1c9cc-1e91-4f13-b12f-aa38fa0823cc', '608424ab-74dd-4213-8e9d-100b6fa2f120', '1f9d51f6-3b2e-48f4-9c5b-b90da6cde7e4', '1475e74a-42bf-446b-85e9-36a18cbab123', 'ee11bf96-a823-4ff3-87c3-ffa64de99663', 'c2c0bfe7-48a8-4970-94f1-a5127936c650', '9982730c-7de7-4e1c-a628-90bef536e256', '02a533c5-cb3b-42ad-830a-6792ed93009d', '5144adc1-e074-4d1a-b329-d5f54f558846', 'ef775fb7-38b4-4c46-887f-6ecdc186c51f', '6c46fa78-cff7-4cd6-83f1-8063795bd30c', '2fa84c35-2f1a-4669-8841-388cfbb3faa9', 'cf65bfc8-9cff-4d0e-b5c0-7ccf4e4238ab', 'd9a5bd89-ab80-4ecf-af3e-d0d4c712c1b4', '6ec5025b-23d2-4677-980e-e035d31a7775', '805bd6bb-6251-41c7-b2e7-746772d16227', '56c942aa-640b-4c3f-b4dd-95e1b1d57994', '0caac208-28b2-4159-8410-0f511a968595', '98efa2d1-04fb-4a04-9838-6f07d474b8db', 'ae12be0f-f809-4f73-8e53-1c2ad24b2208', 'b6a855b6-d9c1-4ff8-af64-6d7fa95b5bbd', 'af1f9cb6-5e5d-4153-aaf1-4ca6347ba99c', 'e4b0af57-272e-4047-9acd-3efe13c3b93e', '5224abb2-728d-4562-a653-91b775b946d9', 'a47a7a72-d180-4a2e-8cee-a076f5af0785', '5f81a01e-ec7b-4edb-b592-69b67685f211', 'ac0c62fa-946b-4da0-9b61-f65e6daa30ad', 'ffdbc8eb-b18e-4fd6-ade6-2db191502dca', 'acdc6aae-2046-4a0d-8a03-d4ec41a11679', '6aab446b-ae95-4a93-9a30-7f9f8ce2f376', '831e2dad-c319-4dab-9e8e-ffa289f9074a', 'ccab049e-ebeb-43c1-98ee-9f70eed97d6f', '6b8f7220-189e-4ffc-90d6-9cdb0829fa01', 'a5e80a5f-f96b-40f5-aa82-db89655e7da4', '2dd5b1a7-c04d-4203-874f-0c0c49368cb9', '5d91896e-0cdc-4158-a1d0-928b4f691e48', '275f9b6f-2d14-4b1d-a1b1-dbc1bb30916e', '2450a18b-c9a8-44d7-b829-4060383982eb', '52a56f82-c81e-433c-b4a3-196dcc673af4', '40569365-41be-40a8-9c8f-2c566cbd1741', '7988bcce-b4be-45d2-b038-d7868cd6ecd0', 'c18c7b20-2c83-465f-8258-32dea8e79c80', 'ebacda26-1c3a-4e8c-9275-652c5530dce7', 'ca866501-1825-4f5c-99e9-7641dde5e0fd', '927dfc91-72f3-431d-a44e-4c7c5d73c374', 'e7a97f23-6955-40d1-a239-bd44cfb06229', '981b8b6c-bc73-43f5-a3c4-0c4f78f627e0', '0d7b08be-6d7c-49d0-9443-cbdcc99bc1d3', 'd27ca5c8-50e8-4885-a749-3bb54eae54e6', '96101f81-444f-497f-adc6-de5f9f735218', '49277944-8c3f-4943-930b-b0f17eb03187', 'bb749e44-07a9-4421-91ec-06ab4e3116f7', 'd7c96d24-c2d6-4fdb-9b5e-1b144b9826a2', '0a8b3c88-7235-4324-bc90-b45d2de8c1fa', '0d4a7544-ac6d-4d57-9e13-e99fed545b18', 'eb210548-77b0-4335-aad9-8142248cb644', '4acfee85-a41a-4f5f-931e-e6ce06402d3c', '97b927d4-a5f1-486d-9c3f-d9b82ee92b85', 'f8a042fe-8db5-4e24-9214-23181f10d91e', 'b13e8be9-a0f1-4bf8-b25c-8c3634964cad', 'edbb6aff-b7d6-40f9-823c-3a3511858022', 'c4ec3fcd-4f9b-442b-8f7c-c053603669e0', '9d01d030-c210-47bc-8d8d-326baceb5d79', '0a8983c4-21c0-4a78-ab10-edf65d287666', '324b7895-efde-4d74-bf49-8fd03261dd12', '5b503160-b8da-4a7f-812e-8d554fa27320', 'f7e7db0b-7556-4cbc-9dc4-39284b693e10', '64b7df59-efa6-4348-927c-8c85d9f2f499', 'f5767182-5e9c-4c93-ab89-9a30cda21567', '9dac9c4e-e9cb-4c43-a589-97ce1673ae30', 'b1b0e3d7-52e4-4e8e-8cbf-3311d21de230', '58826f43-53f6-4096-9840-b7d20c8316f7', '5554385c-bf2c-4dbf-a910-1e08fadf8915', '737604e9-fe76-41b1-912d-849a579acce3', 'bee578e8-b40c-41e4-ae3a-400df5a53142', '57b5c923-2c83-4fb6-b79e-6c6df4c2c813', 'c562fe0f-8775-4c39-825b-52d0699bb648', '642a9b01-49e0-4f14-8e4c-f1322dea368f', 'aae44e32-2585-4298-930e-123d820dcfba', 'e0af2de0-ba85-4f3c-b886-5fb3bdac6cb8', '33426676-f157-4419-a977-92af6440d899', '4cd12af5-2385-4a6c-bd19-8a4c22a61194', 'd5435de4-a494-4596-81e9-530eab6506a0', 'e718b68c-75d5-47ec-9507-ac9eec93c205', '416a2f25-0257-4c56-95a0-7466dd4f4a5b', 'd40dbece-7141-423a-8556-1cd6ff93ad3d', '21069a0b-12e8-4961-8dc8-c3d96b15fa3d', '88c63356-7022-46e2-9b1d-ba26933f46ea', 'df4273b0-19f8-415b-911a-624b8bc9ac49', '46af2648-e0af-4fb5-abac-590c634b8a8f', '4ceefe82-14ba-4109-a3d8-aa49da6ee0ad', '8ce79994-4587-4f47-8469-660168e6ca42', '5b3ad5bc-b29e-4d4d-82b6-34fa3800d975', '2462fd9b-723c-4734-a53b-33b6b7fd0037', '98f866fc-2a96-4de4-8987-10385821eedd', '964e5c87-e63f-47a7-a5df-c6fd9550258c', '92a44034-b245-4de8-881c-c54dc482d12c', 'f644ea69-1639-4574-964e-832b2fa2b736', '13324332-4a33-426d-8340-8fe142982ad7', '59f41220-b757-4fab-a145-9dc2ef522ec8', '96cd2400-3ade-41ca-bad7-3a2fe08aaabd', '8c115b91-9a6a-46e2-99cd-13363bdfe744', 'eeb31a36-307d-4034-953c-5fb84e1d7ca6', 'fb381719-b2a6-480d-9c07-48282b990aa7', 'cdbb8f6b-8060-43c0-9009-7ae8b8a3012f', '79245253-6b05-4133-986f-9057fa0382c3', '3f0f340e-59bb-4a08-8fab-0dd719a7e823', '6790db00-bfda-48ca-976e-5ff89f6c57f2', 'bdbf56fb-d7ac-42ad-901e-b00fdbb04761', 'd54de216-64e0-4521-83c4-abcfbed9dc0f', '0739af6d-9418-45e8-a39b-5f3751c728b6', 'f1a7af8d-267d-4d0f-8bc7-79f98dc74617', '89e1ea2b-fb8d-4b9c-acc2-39eb6e865f64', 'fff8b5ac-8d76-405b-b050-27d6754929be', '03438cf3-014c-4017-a7ca-995c0ab50519', '22e8b4a2-908a-4268-8acd-bc0f9e660d35', 'c0f72971-f37f-4371-9a5a-5d3a01478175', '31d40724-122b-4a61-8175-756496d83718', '9061ce70-24d4-434f-9aad-deca1dfaad22', 'b1cb33b7-1ca9-47ad-b7ed-bd77ed29d6e1', '94e0a8a5-7e0a-4b77-bec4-354f684ed7ba', 'cc2e03c8-1343-498c-b500-8efdcfe9e5e0', '6ab90685-062d-463a-b049-3ac487a98d2c', '69d10ea4-4c9b-4312-aacf-e66279ca1c68', 'abc9941b-7e73-4c54-a1ee-e9b4fb227535', 'e6780064-b23f-4a6f-94fb-fdeef6e6fde9', '25c3d938-7331-4ddd-87d7-09c4f1a22bec', '90a5c351-3916-4ee4-b849-e51b7810e83d', '51f1276e-8a2a-4867-85c3-42266c2893dd', '52cc41b2-b7bc-4bc8-8098-5ca152323057', '05542800-60fa-436d-8ef8-46c3822f2f23', '2f382c0b-7f87-489c-904f-f127958cd8d9', '770e99dc-5ab8-40a3-a610-331eb45ed0fa', 'ec2f3111-086e-429e-9e84-8f1c46ab5c15', 'a9396be9-e8b3-40f2-b074-07498342982c', 'cd0f62e4-8853-45f1-9ab4-f277bdcabe6d', '65be7515-8673-4b31-ac0b-dbd8ec8fe399', '629f890b-d9ca-4a11-b07b-74ac69658da7', '2af9764b-3a22-441f-b19b-8c2178fc3c9a', '89dd786e-8ace-4ed3-8dac-7d72eec4e704', '99269588-1be7-4e37-8944-3762ef543771', 'e54a04ff-879c-408c-9bed-bf31b6458260', '1e545452-7367-4273-a21a-ed8dd1985a98', '28298f51-11ef-44c5-8100-a6b35d204e5c', 'fb95af4e-ecf6-4308-b665-237f876be1d4', '034dd764-fe01-4dd4-8e16-763d76872f23', '49f56e39-e484-4c92-b1bc-e22120851d57', 'bc34803c-e272-42d8-946e-cb025d216e38', '1401e198-966b-44d3-9198-8d8f2bb7be68', '1be2ab42-5e66-4db5-9176-e1043d05ddcb', 'dfe75049-ed29-40be-bb32-3ceacb7fb00b', '93a4039f-e08d-4d07-8695-80dff7c0877e', '2172ebfd-cfd2-41eb-bb0c-1d522e833987', '6daa6b58-ff71-4edb-ab47-f3603cf84192', '42a7c821-e973-47de-a6d9-acc88085e481', 'd00b2048-0ab4-4d08-ae50-0560d5f3e933', 'cfd6924e-3796-4d67-9957-754c3d66c4b4', '0c5ad1f9-8e2d-4487-bb97-217d381938d5', '0b91a06b-5ee3-4c11-948a-05f43c1c06ed', 'd373f44a-a435-40a1-8a42-0792b8221344', '6282d43e-83dd-4dbf-be34-fa51cea6c9a2', 'e377ca54-5256-4f94-96c3-1899adc38317', '69cad9c9-9d63-4de6-b028-33974e5456ab', '771aba84-0f38-4ad3-a99f-de514e23b116', '2efd63ab-7fc6-4b86-9d76-f28923c85782', '68247a32-d1cb-46f5-9ddd-f81a1310506e', '22c78b4b-a084-408b-83cf-f36627ffa08b', '8ee5414f-344e-489c-abd9-477d356d6091', '7409e11d-b3b3-4515-9a46-77c713ad489e', 'efefa3df-0115-44e7-ae3c-caf6e6410ad4', 'bd92e05f-8eb8-40e1-8e69-9e97299c4348', '101ea50e-eacc-4fb4-91cc-c3a520a80ae7', '3a8a788a-4a75-48a6-8379-828d46f52b3d', 'f8fa88e1-925e-4705-a18f-fc955243bac3', '080911cd-c6cc-4b30-bd3d-1edadae1d080', '6a21a556-cf6a-4f89-96bb-2ef6eeb2c595', '303b096c-eb7d-47c9-8a21-6633cc866bed', '4d04e345-55b7-45bb-8e0b-7aaa79d0207b', '75752de3-4c4f-4614-8327-51d76929dc5d', '185f9b3d-68d2-493a-b5a4-50f730bd424b', '74d1fb7f-d7e5-4179-b0d0-24d462babed0', 'f7806726-8ed4-4369-8d22-4f5494e038d5', '3a53f8bf-6c89-4923-8502-9b2fdf4896d5', '1d5fc14f-b363-47b9-9feb-23367d007d7d', 'a13efedc-b20e-4262-a6fc-b8ad3b68a561', '60a53a8c-42ab-4531-a2f9-9d092ce4d388', '5e03e692-5831-4381-912c-495bc35da682', 'a3974fe7-dd3c-4ee9-8951-2228904b551c', '4f810bec-d2b6-4386-ae5f-e44be41ba443', '52ba2a41-5206-4768-b958-541831182a0a', 'bff9ed78-2c84-413d-92ac-d5668ec09971', '4d36aafb-2a31-4f44-83dd-50c0efbd4d96', '180c3d79-8cf0-4aa3-830c-a2f83f041d7a', '3ae8df7b-a146-4b21-8258-ce3a8752e439', '00d9792f-6d42-44c2-b676-a15ce79b931d', '9fcbfd97-f85a-400f-b6a8-64c519ef5499', 'ea413175-e44f-45f8-9863-24ff248e502d', 'c68dc457-9fc7-4818-a668-026953de66ec', '19e8d663-f5f4-4efe-92d8-1c5407571787', '279374bb-2af4-4118-a3ad-51320b147b2c', '2e2aee27-6523-4457-bd6d-699a96a088a0', '808a6da6-3e42-4ab3-8be3-c7c8da262f9e', 'a4af7339-ca55-4d08-9d4b-8b1f43e3c58b', 'd9cb52b1-5065-47e3-ab79-23e2c1962704', 'af775497-8072-48b9-94e6-e0f99a7bc62f', '64e456bc-5f84-423b-954e-c050137d67d3', '38d950a5-20c5-4e92-a8e3-e3eab213c409', '24dad6ef-4ab2-4389-8fee-d629311445a9', '4cfc5589-0bce-425b-b9f0-1ffe5071a747', '96e2cc99-d0c4-40c3-9a03-0b60d1ccc8bb', '378307f0-6633-42e2-b901-93bb8bbc17ea', '91b90faa-02a9-45b9-8398-a37b61f03183', '7f341d63-9919-425e-9d5a-0e51f640bcf9', 'd343328f-b3e9-4c2d-8f8d-10f110314188', '5d49ec62-5cae-4103-9289-8bc6d3dee173', '3a6cb5c0-3465-428e-ab68-fffa9ac518be', '4cca1fbb-7255-40f1-b1d7-fa9bd8a8e923', '3bfc966d-8e9f-4d63-8432-cb954b8cef5d', 'e2a5da9a-96f5-4e3b-82dd-f66f60889850', '00f31465-701c-4d6e-8f1b-f96f59ce67ad', 'bb3ad08d-9844-4431-a02a-aa549356f9c9', 'bdc42a46-d591-4a19-afca-19eb2e60306a', '8862e288-b4ec-46b4-8d48-ab7f3cf0db18', '1682e591-9c1f-40fb-aec8-0ffb06d3495d', 'ddf1448c-56c8-46a1-9149-2a175d8a1eb3', 'c5ad9a95-603d-466b-a3fe-5f027573aa92', '60c1a1fb-8722-4850-aaac-cba48508d03e', 'e777e05e-2342-4a8f-b3fb-11c84c1bb85f', '0943076f-d131-49ef-9490-e075b1e799a5', 'cd63d50f-d482-4e81-aadc-7facce5d243d', 'a14b8680-50ff-4797-91c8-81d34fb48e84', '64fdfaf0-978b-4bac-ac7a-aedf892a4a50', '28cd03a0-70a3-48bf-afdc-e5b76883dd85', '7557fc46-5647-466a-8b5f-4ad4718c8604', '27aec056-06b5-461e-9823-453f5cf59457', 'cffa381b-4e5a-4ff5-9c5e-902b5e53527f', '278938f6-9025-460b-88fc-0b44cbdc1ae7', '168df1ca-4a5b-473d-b671-d78f13db1712', '1d9d1e80-f771-4558-b093-0c885a93082a', '671b4492-c327-4c83-8aa2-ee54b6447dd2', '0a3c4d1a-a61e-434d-9952-fd7775d07410', '1d73b795-19ab-4df8-ad7e-214903c746c4', '509b1b63-9f5c-4de7-8b81-6eb6bfcb8ac8', '4873a1f3-8d51-4996-89ac-af45dab2d075', '80777c16-19b6-4f41-bc98-bddffe1e2898', '2ace44b1-9972-43c4-bbce-acafe91d5cc3', 'c2d45788-c219-4297-b62e-5d63b74aec09', 'c22bceae-a5a4-46ea-a667-8cc6c08d6a15', '79f0b1c2-2b69-43c9-8af1-bc9965fea621', '4a71472b-f85d-4044-8e5b-75580dd461c8', 'e0aa02dd-e64c-47b4-92b6-e27a2d3958f0', 'eff37e66-093b-4e98-96c7-b8d2df5cc420', 'ae4325ab-217b-427e-b49b-f173a0dacf0a', '12a2c1f9-d09c-40f2-9d35-61c4776d3b03', '9f59cc0a-c5aa-4794-89e0-32892800c6d4', 'ee38095b-5dd1-4d74-88ec-383c1c852f4c', '2efdb926-a617-41db-8499-71b3fbe4dfb5', '7edb88d1-c744-4dc2-bf4d-127ab276f979', '8774e677-ef1c-4879-b71e-c4ed2ce7159e', '5df10efb-a891-48ed-b05f-985fc5a7f158', '8f394b00-a508-4f6e-a2d7-86d5fa6d9e39', '2cb447dc-e783-4864-b5ce-c9c22a8b164f', '71727bc8-21ab-4b8a-87ce-3b7b9a272f87', 'ca3d88ef-eb57-44fe-92e8-c579bab0c138', '2d730318-6032-4e31-854c-31fb9162ddb4', 'a4fbbbd0-9059-4d12-a8d3-7552c0d1dfd0', '8cf92a06-6a98-4443-bdba-a3623454ec23', '5096a29e-a6a1-4b32-b3c2-55849c3e1ee8', '7dd34336-17f4-4c6b-8b31-6cb0b755eeb5', 'fa4dc3d5-b799-473b-93c7-2eb57494fd42', '6048d589-1b44-472b-8151-2a35dd59329f', '0406078d-8b65-4791-aa89-1948a8d0ebcb', 'a4a2d38e-173e-40c2-8efb-4bdbc95189ca', '622d145a-a40a-43eb-8586-598f2c500c5d', '696b214a-66d9-4e1d-8534-711f75df15bc', 'a49ec329-faad-49c6-bbc6-83bb6047a643', 'bc3c9b0c-338f-457c-a609-804f6ae786a6', 'bb121158-9a1b-44e3-b155-603a913280cb', '86e940a6-c07f-4950-85c6-b7d1eb88811a', '780ee706-d2a1-4d4c-9160-38c81c246ef7', '9264b508-a634-46a6-8cfd-e105df824354', '7509d64e-c4ca-4bef-9498-f6adbfb9c2b4', 'cb25c2dd-ec53-4e3d-8785-eac6c2b2674a', '9e9da578-7278-4048-904d-30b765f3f21d', 'c6ff5761-eeda-44e2-9c10-e7b5907642a3', '68f335d8-884c-44c4-aeb8-004d8b0108d7', 'e762c49e-9370-469d-af2d-8711bf897d72', '683ab837-722f-4752-8bba-f6d1c23841fe', 'eeaa2066-65bf-4a87-9470-8e40ee7e7377', '999f418d-a082-4e92-b828-b1305549ed97', '7eaf1af5-f385-4da3-8175-633de03e94a6', '1479bc85-b313-471d-9241-167becd8f005', '08a4b0a4-2f6b-41cc-b0ff-7481a16b90fa', '129e985d-2f0b-4907-a730-b4f25a9b7bd7', '706595ef-709a-470d-a37a-c1c35087c079', 'a428d54d-0f04-4148-8a91-26126c99d7c0', 'd2b5dc59-f537-43e6-a829-f4d358c7cef1', '7ad142c8-c09a-4525-b4d1-672ef139517b', 'a12552bb-c15a-4220-bf2a-0249a18d8a2b', '71e8ca73-33b5-409f-af7b-2edf15a38998', '508def5d-73e5-445f-8312-9df5df94b91d', 'e65f8337-e79d-4028-af82-25887b26f678', 'a577191e-8734-4ac0-9507-e3a260ea6c03', '0fb75a22-48a7-42d2-95cf-d96ecb92c374', '05aacf69-0be7-4e53-b32a-4fbbdd6c1a6e', '2b26f006-fc83-4e15-8c3b-96906b027edc', 'af919673-85bd-4848-abd5-afc075724f51', '53ae9bbc-c578-45fb-9327-76850e4ff9cb', '6475af62-b003-473e-9fa9-00b96051eac1', '969ca17e-a114-4225-b903-4f55bbb97f72', '8f84a4a0-8c7c-45c8-b5b1-4ef5c19e0b3c', 'f8d006e3-e963-4b66-9cb9-3762f4ea5a9a', '79969d37-4139-4bd8-b7d9-babb174a4fd9', '79aa0dcc-2cd4-4d5f-ac98-46ee3efb3548', '45224574-21d5-4748-a24a-07e6bc050b1b', '10eaf072-91ea-40d5-9af6-ff47cee3bf2f', '304b0b57-da7c-46b7-898c-ac39af374a82', '7351a81f-8ccc-4762-931f-ea3292649a45', '621c813c-f16a-4639-ba9f-6e5bbe0d4f97', '756e836d-2d35-451f-9a1d-1e66627f643c', '7d8ccc58-fdd0-40c6-9d5b-8b66d009636d', '39614a48-23a1-4b96-a6b5-ba196e155f93', '18b3dc93-77d7-4aa8-99df-4fb44fda329f', '3fa3a2b7-8eff-4054-8b66-c9bed4ad65f4', '3deae5ca-7d86-4183-b885-029bede187d8', '93679f23-3b84-4246-9822-bb140bf1a71c', '183ccc0f-f9a6-44e7-b2eb-d1d1881647d9', '92a37d70-fabd-4e5f-888b-87963d7e15f7', '09a87d33-0b3f-42b5-abe3-47deecd28035', '60a50596-3c36-4b30-b957-f718629343f5', '2eeb32b1-0577-41ff-b17b-9f9e55b09408', 'c1bac2dd-d581-4f24-b625-1f1b069ccd48', 'd6438e16-c50d-4cd9-9949-2d2e562ca2c0', 'd9e9a477-7f95-4d4e-bfad-df0d63c5e2aa', 'c22c7287-93ac-4779-9674-579487287f33', '750b0e39-be7b-4766-b9fc-376c35198754', '366edf98-f75c-4430-a998-a02ded087e8a', '5c526c8a-7af1-4869-a78b-6bd1f253cbbd', 'a46221e5-4c7a-4104-9ff8-2cacc128b65c', '28194d29-8279-4cd0-a656-ae2a7d00a8b6', '52f49eb9-4f29-4250-97c4-8e48fe5be84c', '7eafbd85-a15c-41a8-b251-5b662889faba', 'defd4867-84a3-45a0-b58f-ca71473dfadb', 'aa2ae623-a844-4330-99e3-a1e3da47ddf1', '51bbf8c8-20cc-4fa5-984c-707abe9083e9', '36dfd129-6e37-4236-b004-3e410d55ca67', 'fa218aad-954e-4b1b-a7ce-7521aac87462', '7ae69c5f-3417-4161-9781-dc7c682d048c', 'b4aa53ce-80e4-4ec4-88ab-53752da19f3b', '1de93b7d-3162-4574-a432-62e6212d9c84', '0ef45c08-c81d-45d8-a5cf-0550096e7eae', '76d78f77-8632-480d-80eb-9c1afda7122d', 'c5b8a687-47a8-4097-a702-4eb6629c054f', '86e0dee0-b5d1-455c-b242-dc9139c463a4', '226fbd1f-57fc-4b00-b33a-d7e8df61b33a', '5f255e53-d1bb-4dd7-a3f0-30ec1644ada5', 'c1132768-0958-4a72-aa18-144f57581261', 'e8435b08-5c92-41a6-80d6-1f7d9b192854', 'dbffbeb3-b7e0-4b33-96d8-a56430669e70', 'b5021a07-65ec-4f24-a082-8f4d45daa636', '41bc7a2c-ad81-4637-9d48-ff50f4488e31', 'd6000aa9-0a90-4081-8b2f-c78719b9ae05', '2fe9e117-66f9-49f4-8540-82c0c16ebb1e', '5941d5a6-62c9-4354-9d9c-43248e1a2487', 'bf1e41ef-70cc-4a00-99ca-ed571807aee8', 'f9d0c507-4925-4242-9fde-589a3a3d2097', 'ab9b3aa5-1b50-4dca-a179-fc2da32cd53e', '11b338fd-7ea0-4efd-a4ae-e122eefaa3db', 'b8b3f750-1c41-49ef-9dde-d24247d78778', 'f6325a39-5b35-4b33-b640-2a5411250037', '59e038b9-6228-4d1a-93d8-952301e4ecea', 'a4f07ce2-e91c-4074-a03f-2267d8ccd040', '9c947e35-ca3e-4584-ace0-127f9c3712cc', 'abc6b779-f6c0-4519-9864-5c0b22800109', 'b7aa8c1f-14e8-4d5e-b300-14b6bad2b92f', '0da45136-aed3-4a26-a023-d8988801e7e7', 'e64442b5-f9cf-4061-833b-4d5751b0ede1', '4a4966a4-352a-48e5-a6a0-75788f93d849', 'f091c0ac-155a-4283-96b8-9b03eee7dac8', '255bb544-aafa-4a63-889a-e9ca3ae8817d', 'dfcd4889-5ab9-4ae9-8937-f9e966b0374d', '846b628a-6a71-4cb5-b0e4-71491e5c1806', '85fb3a5e-2180-4c1d-9698-fe0c831b0a5c', 'e1a68a5f-7233-4b98-b3e4-2e5d9c969d51', '8c2b5151-0d00-47c1-8097-d9ef756fb488', '1da4927c-dd50-442c-9547-ad4cc445742e', '1a777720-551b-41bb-8b24-c81d4efbeeb6', 'ab21cbf3-e29a-4581-8b0f-9d7e1b77a27c', '645e1409-37ea-4a8b-8967-6b5c16b74428', 'e318c926-7fe6-44d6-952c-1f0a0106ffe7', '3e792491-a4ad-4796-8ff3-ff9ae28d58be', 'e7224233-68c1-42c1-bcbd-f564bc1467b6', 'e8ab3dc7-b26f-4788-97ba-bc9356c58d99', '2737f022-e8d1-4e22-ad84-dd5b4132aead', '3bd931f7-a63e-45ec-8556-474587b86a15', 'dc4b77bf-8e42-4a6d-91c6-53a5d094b493', '2a974596-651b-4de2-8e52-55756d0f5ec1', 'e3d38822-2f8c-459d-a63d-f66994d5c0aa', '01f111c6-6cb3-4d20-a81c-1c73ee955a6a', '1fda0e8d-4552-4db5-a83a-d4eed16f4b31', '92f79af6-cf2f-470f-a066-1563ee2b6049', '01242994-e39a-4946-bf4b-47f3e2c48a06', '7aec6ced-2342-4b8a-be78-22a1dd67eb14', '1a9fa8ae-d941-4398-9bd8-a82b39b91a30', 'c9e53553-cbb3-4f2e-a129-7d5e4ef8b2ae', 'e1ba081b-c1ca-4adc-9723-8159e3fc77a4', 'd52620b4-509c-4780-9fb0-0aaaf7258cec', 'e639ef5d-6687-414e-bfe6-613a57c26839', 'a63ddf82-e85e-4ef9-a4b3-87ac66dd287f', 'f1f51b61-6066-4b7c-95fa-0b438fff4f26', '0e77f385-a375-4b5a-bc98-d6a0a2b93068', '19e2418f-41a1-4b58-a330-92cafa2ed9c8', '82dd9eb3-5933-4e9e-997a-f906a29f7109', 'ad236e9d-3371-42af-afb1-d668ea81c673', '4a70a8bc-1c1c-4286-9d20-0337589b83d2', '34126645-4aef-40d2-982f-cb0ee87b9d9d', '9aa009a7-efa8-43ba-bd5f-e4d4e751cd45', 'f61bc1bb-1d35-4f97-926d-2a8e495eb9c4', '834a9677-37c8-48eb-8db2-cfd4b4b5a99b', '395c964c-4c92-443c-b4d0-767d544935ad', '4c708b26-dd9e-40a8-9b1e-2e4dad493f13', '5323b114-f285-4fe0-a4bc-182159614f7e', '2f4085aa-02e9-45c8-afa5-00be39eea720', '621fc467-81b9-4c72-bdcf-2ec8d3965239', '5e1f679b-3528-475a-ac81-59bb538ab1fc', 'db97d6be-8347-4f8e-90dc-ea5ba9e7cbb7', '47b8ef90-7d5b-4b05-9e6b-07b1323c9812', '9ea9c072-1ff7-49f3-8ab4-4767fae79e01', '918048c2-1e1d-4579-92b1-ae7b45529360', '6bee3af2-d3cc-4a4f-b961-ad1af151da7b', '9c19a59e-f2b0-44c9-ad55-8f9c8f6c2e53', '47986aea-49ef-488e-aff9-000481e9e9ce', 'e3c4c73e-e154-4d7b-a26f-cd0eb6676c70', 'ce68ba26-b038-46b5-aa46-361341968bc9', '51d47cea-65ad-4a2f-9442-a5d4780eb384', '747f5cf9-5d2f-4931-858e-51fa647de991', 'f1e88c3b-4115-4fe2-9f34-329b3c5124ad', 'a6178cce-e733-418e-a9ce-02a79a40b94f', '6de9e2b6-3fc4-41fc-89ce-4c123579672e', '003939bf-0842-4522-95ca-b25410d6cff3', '981e90b6-f461-4a4c-99de-e0e403607aee', '832551d0-acd4-47f8-9cdf-2d3a71e429b0', 'b888bbdf-111a-4444-b2d3-a464d673b707', '7632e1a9-cd55-48d4-ae88-2a0dc02ddb23', '2634cf79-eae7-4533-876f-c07e8e8070cd', '149d1554-7f04-429c-8187-fd1162a5d6e2', 'bde40427-ed22-4f87-ad70-c59468a97285', '0fd78387-ee66-485f-bcee-03efc8b6bccf', '4757697e-b973-4ba4-b9bb-e4d107e3f09e', 'f467f2be-dfd5-4086-a203-5670716c2c43', '6aac13c3-3054-4dea-8d6f-834c6a5e7611', 'bbe3d229-dd04-4f87-b46f-475bbd095a84', 'd7ddc614-701e-4700-917a-0efc25aa3459', 'd48a78e2-13ba-4f63-8bd6-c2efe9c9e99c', '07a3b360-5146-42e5-8ac2-8ad437041267', '759cd396-f922-497c-9ca8-6ab275ca4725', '235e2518-3058-48fb-b774-7301eb60f068', '5d0bd796-a2b7-429d-9e3c-0dc796252ae0', '4d9a6501-8769-423e-a8af-a9cc6527892f', '7ead96ed-d736-42f6-ae92-6989538ba0e2', '638a1048-bbdd-4f56-a0ec-c2469b1d46ef', 'b4ca9b94-6b82-443d-8def-448bf3d46dd7', '24c6efb3-0819-44c0-98be-5ba17160a62d', '693e54e4-b587-4f93-bc33-4cf471a4e507', 'd6c692df-131c-4f5b-a050-79a9ade05dcd', '964cafd5-fea8-49e0-be18-78c104ac2bd5', 'e135fd06-3b9b-4720-b5fb-cb73fc36d702', 'c0a0df64-ce0d-4af7-ad2b-b74531eec20f', 'a3061da9-58f5-47d2-b3b3-15677adbf1e2', '10110e55-b3ca-4ede-b978-8600783e7b99', 'c4f30e35-8022-4c50-925d-e964160c25e4', 'ed7438df-63f1-4c8c-bba8-4978148c2bc2', '0d93a866-2f00-4f3f-a3cc-82b288aa4fd3', 'c1c8ba1d-4217-464d-806b-6912035cb44f', 'fd2003e9-0a25-41e6-ac98-b859293f8ea5', '985ba9f8-0200-4fbf-bf20-3bfd12db63d3', '6f22a630-10ab-4b0c-86e2-22016f592604', '39d57ede-40e2-47a5-b1fb-d464c0b5e38d', '95e88003-4555-4ba6-a2ec-2d8b28712e48', '133f7676-a600-4189-bfdd-18a64a602dfa', '36c09d89-092d-42a6-9a50-2b1f971bc777', 'c5687146-9fa8-434b-842a-1edfd25e9e9f', 'f792cdd4-488b-4fd1-8568-a40dc14df2bd', '82a362a6-c388-4dae-b0c8-fcdca36ce85f', 'fc13e9a6-68ac-4f30-808f-509f005fbc16', '69b31fe2-bda0-48a9-8162-52c1267b15cb', '2ca5baac-13a7-4cb5-9af5-54b6d2a2ec9f', '4e897239-323e-429a-98cf-7adf3074ce5b', '8c43b664-ae8e-4e29-a670-bef6b5a038fc', '0df4c4a7-7ce0-4ba5-99d1-4f2f52b9c00d', 'f4652951-0b0d-4418-ae18-e6ea2543c57b', '63a12139-6483-4108-a8cc-88311a950a4a', '411cf2c8-966e-4a97-89f3-31ae35a44de9', 'f23d3f4c-2d11-4659-a01c-4770a51a028e', '5c294f9c-8ec6-4028-a1b4-d7ed60f7576a', 'b8f21945-8a2d-4a41-a73c-a824357ef5fe', '87a3c28f-7a1b-4fb4-a39b-2df5e108f347', 'f4ae5d09-3f95-4ee4-9153-6500dd764357', 'f288a6f6-d2c8-4217-83b0-babeb0687d3a', '123d81df-5be1-47a2-aeda-148d8d43abb6', 'c41da70d-7961-45b3-9072-a6489dcf704d', '64e1676e-b46b-4051-a052-c89a1af8fa18', 'e35a1f12-8915-41c0-b873-b8735181b360', 'd8c2cb6f-a588-43b3-a4b3-362cb1d36fdd', 'f14fac2e-7daf-45a4-8a6a-fa0af43189b2', 'ce3fd290-9375-4e04-b046-c14b0f641945', '5f6625b3-5826-4f01-b254-26182a2d8a3d', 'fc5937f6-36b4-4895-9dbc-ad4b92a6060d', '59853a33-cf67-4aeb-914b-b914e7ca0244', '16349c02-b3af-4071-8df5-a5ad984ac0f0', '9a873e57-bb76-4632-9843-d614ef28226f', '5829e427-9857-421f-8862-9bd69e70f018', '70afbfa0-bdc9-4ba6-89be-49efccce7736', 'd17d3b4d-d856-4558-872d-fbffc3b5a735', 'ec92c98e-8d6f-4915-a713-68d12fa43b08', '03fa9e2b-7eaf-4150-acba-bdbcf8fefb7a', '21c87b45-5fb1-400e-81ad-5d43f128cdc0', '34b212de-3a95-41f2-9266-b11774df94a9', '45079c0e-6e14-4733-9254-9de6636e6e67', 'e401a1fc-ef61-4f20-9a4d-c870ff2275c5', '1c80beba-fb79-445c-90b3-854719b8b753', '49eec54a-b078-48a6-be21-30a90ba459db', 'f2d4b9e1-e32c-4896-9654-afd58c989e34', '128f2f87-4801-4ed9-a284-51e458418b28', 'a4be960c-99b4-485c-954d-b430fb17cda9', '266473da-7184-4153-887f-3fe66fc6a96c', '8276b66c-aac6-4db0-b32d-6d113df43273', '890feb6d-84cb-4266-b228-a7f02a7baec4', '1c0035e3-825b-4911-863c-63a1719f499f', '351e1815-8f0d-4e54-8e54-5151887d2435', 'f6873fd1-eef0-400b-9802-c1f7d4ab9b36', '0e9aa2d2-881d-48c9-a07e-85eab80d2f62', '3c2a0544-d6bd-499f-a0e6-9bd6d531e41f', 'b1d6ee28-ad27-4360-957b-be6494674d84', '6e4db6c4-5c3c-4320-8e25-7cc54353c0d9', '41b31bff-1e0a-4ff1-a160-f4026a3f93b3', '44f11c66-1ed4-496f-9e9e-6f1604ae170d', '8eb75880-c6ae-4197-befd-67687e2c6cb7', 'ad45ecda-afec-4f78-8360-51e16bad003d', 'c507cea0-8e47-4edc-a6aa-858516163921', 'af254e6e-b478-47d4-b072-59bd68e4b422', '408ddcaa-2e75-4eba-bde4-95ff99cbbafb', '74babc40-a500-491b-bdda-17178ae01977', '0feaeaba-bbf1-490d-9739-8059a1cb4d71', 'd33a91a7-91bb-4c3d-adad-5be0be45d9e7', 'a3707f8d-56fb-470a-a4be-e8d3edadcd0c', '100c8ab5-d32d-478c-80d6-aed96805ddf4', '84f1f117-7bf1-4bee-9d45-2af368411c77', '32ac8470-98de-4e30-8910-ea84e9ffacb4', 'af05be1d-eac5-40bf-848e-f172a6355aaf', 'cce4c623-f04b-4c6b-9134-2eb25e06b86e', 'c761eb75-2fb4-4e28-a0f7-64916855a9dd', '81528bf1-fbe5-44ad-86d1-58b52a76a29c', '70e8dceb-9357-41be-bfa0-0854700f97ff', '8dcf2d5e-7a26-46f0-9b1c-40ec26ae7898', 'b03a35ef-90ab-430e-a915-000aa4dd54e2', 'ba4c7111-9e82-4ec5-981b-d0df8aedb30f', '6bcda6c9-eac6-4b6f-ac9d-5d17291033ab', '7718b4e7-02c8-4f83-805a-39cf820b5673', 'd4cdb1e1-faa6-4552-8561-7c8cace84078', '691d98ae-426b-4cc0-bddb-cd31c2adbfe3', 'b13fbdf9-f15a-44c2-8c81-391a4da3db36', '97223e40-05b1-4166-a578-642574cae6f8', '506d2703-eba0-494f-a8e9-d21d63e3edb3', '8696160a-69c5-4c88-bf8e-eab2767eb676', '876f0f95-b55d-4e29-bdcd-b3d1bd73ae55', 'a9aa73f9-4f17-468c-b990-351dd172d7e0', '4c59fc45-3251-4304-900f-95c2b09c5ba5', 'eaf88d9f-ae3d-42c5-a135-8118dae6c0e9', '9fb719f6-23a5-4c91-832e-a7fa82cbed8c', 'f10ec767-4069-48a9-aec4-3dd7fabea4a9', 'a0901d25-ee30-4b64-96fe-6a2a5cf771db', '6c0dcdbb-ed19-4fe1-ac21-876b639d41af', 'a0728ba0-1391-4e7d-9b17-aed1e001a8da', 'b367d35e-09a5-46b0-a46d-67b7fd5d3257', '0f74ceb4-43bf-46ea-afdf-43fc1704fe79', 'e7cd4007-7232-4598-aa6b-a82dd82e80e2', '1207d432-0c10-4ffd-997c-f18ae1bef513', '63e29c7b-6c0f-4fbd-99fc-39d8f8acb8d1', '2bb7e5a8-f926-4271-a971-bca1c8938541', 'd4ebee63-9a85-45ed-8fb1-db3d2d7d57a6', 'b22f9459-cc6c-41c8-b904-17ce866028fb', 'e052ca4a-b308-4747-a9d6-1de2bb2bb8da', 'bbb0444f-ae42-4562-a106-12aaa41b63ec', '2b182c9f-b042-484d-8486-8b52232a14e5', '9a422977-f83e-475d-884c-f3be1aa5d483', '4170cfdc-b8a6-4961-9894-9fecbb7b41d6', '5768d242-c8ca-4234-92ae-f77c047fadeb', '5b682875-3f03-4831-9ddf-a772f9d75345', 'd2adbc63-a2a1-4311-b437-8c594561fa6f', 'ce6a4aea-3c2f-46ac-a837-8134f53066f8', 'bc68b1e9-599d-46ea-ad17-3898cebf5b08', '67cac40a-6e4c-48dd-98b2-0b808ee5ad31', '509169c7-a404-481f-9a46-aa364e651555', 'c8160923-7280-458c-9c76-2eeff57db85d', '60c7f298-0076-49d7-9aa7-e6e689d81898', '9dc65a39-23dd-453a-8a54-6047bf5a9f20', '5818cd90-7109-404c-8ec8-ad57f1ae5a1c', 'af748619-feb4-4f40-9766-a83bfae7b003', '712d3c67-320c-49c8-801a-c03e14b5b486', '94e985b7-7a02-4507-911a-dc53a989efd1', '51d0bd41-7c58-4770-83e9-8bd1adc099ab', '8bdb7c2b-27bb-41ea-9a6c-5c0971cfd9c1', '0c0c0d86-dbb4-42a7-9025-ab6d53a1f94c', '6b2d99cc-9809-4055-b62c-df60d3cee623', '5cb8c72d-351c-47d6-be39-c239fce21bcb', 'ef22b31f-965f-42b2-8f24-a779400ad033', '3fc68b6f-7a68-41db-b0dd-28f9dfe1d892', 'b291a2bb-73d0-434b-a8d4-ed01f0856fb3', 'fddafd4a-45ca-45b1-97b5-cdd9c9375767', 'bb59cc09-6b5c-4a7a-b05e-6bdce61e08cb', '8a6a0637-224f-4bdc-98f1-bce5816874ab', 'a7228094-5e5f-4ea9-b534-5f6e48dd3341', 'd45eaa8c-3036-4cf4-af3d-27723882f240', '7818fc59-3bce-4ac5-832e-77c54ecec8ee', '6f829599-4397-49c2-ac0d-65acb8916972', '7d3f5eef-7700-4e68-8441-18904216c654', 'be11b3fb-2a9d-4032-bb88-6d00c3386619', '6c0c555c-df39-4dc0-a2c2-1cf780556d6e', '80c574b7-8cab-4797-9935-2d1874dec4b8', '6d7e7e34-e7dc-4888-8b17-bc66e7f592d6', 'c23b4c42-44e1-4397-8532-f9641729a477', 'e642b0a5-1b8a-48fe-ad50-ce5570162178', '025c9781-06f5-49bf-8acd-3828540a0ad3', '1dc3515c-4bf7-4b9f-85bb-f54b31294fc7', '1d326d8a-9bb2-4122-956e-8af7960abd24', '92de5fe7-e794-4f46-a17b-ae813804e65a', 'dd4d9205-12ce-4430-a16b-f152054937f5', '46f9a44e-4ba3-4a1e-97d5-121f8ee8599e', '8c7db3ef-b27c-4e89-962e-91024bcda337', '41f375f4-0d8e-4728-9f17-57ab70cd6357', 'b833993f-ff98-4187-8ba4-85447661fccd', 'bdb64045-7508-45fc-a516-efb766ddd662', '95595441-bdc7-4f4c-acce-85b1229e5e76', 'a56806e4-7bc6-44b7-b41d-85adb364411e', 'bc89efbf-eedb-4c21-814f-681856e99bf3', '33de8a4c-ee7b-4fb7-b861-b83cd4090558', '7a693193-2fd0-4f1d-abbe-beed41227ed2', '0b98ec44-7494-4e4c-b300-353ab9446dad', 'f59aa404-b990-4531-accd-d4cb72544395', 'df7c3da9-6c6d-4f56-899f-1b217422bce5', '50e31fca-5fc3-4e9d-b305-eb995f120ffa', '0e86fbad-0d82-4122-a3e3-c1529b3873d3', 'ba9440ff-af2f-406d-8189-cd04160b82a4', '862995c4-6a8e-4acb-8c61-51e04277f868', '9ebc5aad-51ab-4872-b6b1-8b4fd78408e0', '9f03ca2b-2a13-4ce7-824d-51c0c11d47b9', 'f5f1368b-b0ad-4bcb-9c56-77348cb33637', '16313ce9-9fa5-4e3e-9f21-12224e4a0036', '611f1b20-1d12-4cb4-9aae-2ffce31326d8', '6e3d4596-3ec2-48e2-9a4c-59b745b7fc57', '92f89573-c160-46b4-8884-1f399101c377', '642bef52-4963-4875-ade1-9ea9600c0635', '8acef70f-16ab-4bee-912c-816920b90496', '4b7a0a06-9f55-4ca5-be7e-665b9d7c19f6', '54ed211e-c47c-4a73-86b1-d8ac7b30cb3a', '630569cb-1401-4c06-963f-1e1718acccfa', 'a779ab95-2a90-4d1e-8cd6-c3efae4ede8e', '06d7da54-8ca9-4797-b565-2181cc1d7a9d', 'adccfa95-c462-4cd4-9e3a-92aed0d218d7', 'a92208f1-b312-4077-96b3-7da5d7f3ae82', '7acc3ddb-d385-4271-9b77-4a8d0bed2757', '3e1d6d90-e76d-44c2-80fc-f705ba45c5bb', '3862db36-9439-49c6-9fd2-9376015aa1d7', '02f763b9-0dbb-405a-91c3-362658e83809', '663b4f99-706b-45a8-b2d4-54d96c795fb6', 'ffbe003c-df9a-452e-a787-6001afdc7df5', '2a109a88-a3ac-4e0d-a227-3ba99a813930', 'b953f335-0cc1-4a23-abd7-fb87e84547d5', '56f0c848-e65a-437b-b608-7086c2bf55b9', '0f3bbdf0-f407-4ef8-850b-fb11699ce0d8', 'af9589ec-9749-4aaf-900c-082044f878fc', '82639476-d4aa-403a-8713-0cb63d42bcfd', 'fc165bde-f3f9-4230-bf28-2788f6ff19b9', '73cec20b-45ee-4d6e-a9f3-20ad0f35620c', 'eed18d35-e528-44d3-9599-27f5fccfa2d4', 'be2ddb54-a8ec-486b-8a64-11f2552dd1d2', 'd47859fe-0225-4958-969f-7827538ddf81', '945a6ac2-6f16-41a0-860c-ecdbf1c18824', 'f9e39653-542e-4b67-a4a1-01e090f85d89', '479baa38-b8c7-4548-b2bf-55ad195844ef', 'befd04f8-4b5b-4119-912c-7f2160e09003', '042921e9-c9d6-4bdd-93d4-15aa23231c56', '25cc0287-3124-48fc-b818-91d8baeeb6cc', 'd1e91bd4-d7ba-40fe-af43-09e66d5450af', '145be25a-605a-4bdd-ae05-25ac3e3b716c', 'b70a93d9-2d36-425d-b577-6cd5b3760d93', 'bfd75108-65df-4d30-8cac-a0a796a98574', '093d2c3c-e644-4051-955c-d96960d297ab', '7bae8fb0-3fca-4090-a97f-a7f8fc179c90', 'afbd38ae-4f16-47e3-899d-88e46c1f8ff1', '880bd796-e8ea-4ff0-94ba-b1da5c5d8898', 'f5d54cd4-ed39-4ed9-8f3b-2b4356d38875', 'f73b0632-e6e4-4b03-b097-581f88da601f', 'a1f8a2c4-5674-4301-bfaa-0ec6ad378123', 'eabb6a0f-5458-4a3c-b50e-be07b533d465', '88d32d88-a59f-49d1-8e7a-f1f35369453d', 'a93d055b-62f3-48a3-8313-7bd5455e098b', '23548964-898a-4e06-8f22-3c1583608aaf', '10bbbcfe-5bee-40c8-b584-c82193b1042d', 'aa2bdb4c-0ebc-4c4f-a284-e3ae89fcd655', 'ecd6ec3d-62d6-49f3-ba4c-6f23efb42282', '9221f58e-1257-4872-af10-8a9feed01da7', '922186bf-59f7-46b6-a009-e92d0892b435', '893d5e69-20d0-4747-884e-699e9c8d64fa', '9a4f1a01-c461-4db9-b569-42508a46e8e0', 'cf05f8b8-cd77-4a73-97b1-1b0a45db1abd', 'f5bc76b6-5893-4053-bf33-9b4e004e64e4', '150d2665-6432-4e51-b739-52195ae6760a', 'ae672a5f-c7d2-43dc-a67c-2bddc93e3382', 'ef43caf7-6eb5-450a-8fc0-46955c32501f', '2f89813a-6fe1-4154-87f1-b16dc5fccec0', '375ae524-f920-4039-88c3-0117d9ebdbaf', 'cb704684-1d6d-4997-9505-70b83afb0628', 'c0e535ff-ef4a-4d0b-a6ed-c9321df49499', '2ea912aa-3fdd-4709-85f1-7dc9f4ad873b', '29dac463-19f8-4389-88d8-ed66b0e93d99', '99a4feb7-e132-426b-95b3-02ffa8122345', 'fa8823f2-e80b-411d-b101-ba7e8bc954d7', 'cb585ae9-3ad1-4d94-aa78-04d684d7a159', '4cb38254-176e-4968-8467-e26c0694026e', 'b397b8eb-0112-4c3c-b203-d666ae32ab2c', 'ba27bd7e-d09d-4c27-b99e-0d8f91d1cf10', '02b03795-61b7-445b-9cb1-4c6729fef9c3', '5b5f65f4-2247-4406-8987-fac0e8a9fde5', '2e23ed9d-f31d-4b23-bc29-2477148ae897', 'ea9c24d1-0a63-4db4-b0f6-b6ed55b4d5ab', 'b53e6e70-259d-4392-9cb8-27869ad6d4e9', 'b7cb707f-5356-47f6-b430-be5ddadee43d', 'f27337cd-a9b8-4ce4-b55a-247069253d68', 'cc0daf0c-f7f0-4f99-8424-673d4e7579aa', '41f9f4cf-74c0-4180-83af-f132da6a24de', '2c0aee5d-d426-4ba6-b12a-ef182358f721', 'bea9a2a1-c9f9-46ef-847a-34aaaa93ec8a', '90c1be5c-a515-4851-8420-f6e808dc47ac', '61748b7f-502a-4b4c-baf5-1b251e626e6c', '5dacc39a-f503-4c17-8f39-a1146784afad', '73f4a336-0dd9-4fcc-bcf6-fde2c92c04ed', '36de4895-a5a2-4775-8421-b773016e7476', '1a4d58ec-2fa1-480e-a101-c21e87968638', '46b4c217-7fa1-45f8-9766-a1e5195c50b0', '99b6e64b-414c-486b-bfcd-bbec84959c3b', '93673ea5-44ec-4100-a712-69e3fcd251ae', '2ef96718-4c3e-41e3-97af-4b9ac2241713', '380b4c6c-8594-4d88-b1db-542434ed4fac', 'ad7998fb-e947-47be-a00b-86f00ba9cfba', '6319f7f4-d3b2-45e7-b497-afdacf7a9554', '8a1fbe02-0fd7-42e9-a771-caebdd0d34b2', '416764d9-5d95-4e35-9f11-6f2352236355', 'f31a8c87-d4ab-4d7a-a69b-0cf46ab78426', 'b12f06bc-f9e3-4b17-b6d0-d8b29819f7dc', 'cb72a4b0-28b5-46da-ba4b-cffdaa8ebd1f', '54cb1b84-e0a9-469c-a999-8fd8ecc64cc8', 'dea7f9ea-c7b0-425c-85e6-4d24078043d2', '246055ba-2505-4a28-b21e-677ef0ea8ff8', 'dbf8c4ec-a024-400e-b6a3-a0423e7456be', 'baab2345-ff93-4063-8396-fb54be5ca9a3', 'cbe0c8ab-5e3d-4f41-9b5c-cc4b3567bf13', 'd421e889-933c-4f97-a6f8-773ea30deccb', '0450596b-2e93-495d-8ea1-819e4eca7d21', '3175e87d-3a8a-4339-9a3a-b19393b89990', '8be521be-526f-4e96-b95a-48f2f161825c', 'af35e519-f12a-48da-9c7f-222088ef252f', 'bd6745a1-5b3e-441a-aa7c-32b1743d98f1', '3d66953e-e7a4-4cd1-9402-d86fb3d04273', '1fe4a946-590e-4aa6-a617-38ad463f023f', '1cc8ac8c-cfd7-4765-a462-542a5595f402', 'f160ee51-9435-4aab-a46f-5a977efb9606', 'aa34912e-b76d-4170-ab04-71b76525c819', '8856e558-5a66-4a17-ac55-cf41ae328ee0', '212159e4-7683-4ad3-893d-d944fb907d59', '53298ec6-37fd-41d6-a7c8-73e97160389d', 'af06ea6a-128e-40e8-8789-86387204c7d2', '4b1af795-84f4-42ef-876d-74796bd92e61', '354b450e-c1b7-4588-9024-0f459039bd7c', 'cced7170-798f-4374-80d4-82ddf86f0497', '4f135a92-a775-4f54-b264-e8f01c76d103', '2e538573-b90b-48cd-8733-4d8809253ad8', '886a4260-f0d1-48c4-ab1a-0d568df264e1', '299ea38a-4a1a-4ae1-88ac-dd81b5161f7d', '8a6426f6-57a4-4f16-aecd-525d57e57a7f', 'd7b4668a-52c1-478b-8f56-3d0aa4844f33', 'ee3d0840-386d-48b2-82ac-ecfa970f9419', 'bdc0cec7-7392-4fb8-9775-731aef47a1b0', '3fce8a09-d333-4149-8bf6-053a888f823a', '7e74e67d-05f1-43c3-b37d-15580304a642', '44bdb9fd-d752-4bde-b157-7145d0ce49b0', '87fd8b46-17ed-4383-8c18-c3895f8b0b39', '3bea05a7-dab8-4abd-bfee-c0075890634b', 'b05dc8e5-f740-4e0a-ae11-4367626d61ee', '5263d4f0-66ba-4398-ae89-227659539ddc', '4e9e3ac9-17f5-4ab4-a79c-0b01240433f8', 'e043d853-9500-496c-80a6-edee5abf0f7b', '198a3554-c875-4fe7-9620-9f8f51f88479', 'f764a176-8f00-4cd1-9af9-4a4073d11c2a', '90fc45e0-2e13-4950-a6c2-13a51599d730', '266f46da-499a-4823-9f5c-8a9ba60c249e', '17ba0422-1605-47b2-bccf-cdeea2257f10', '82f13937-ddca-4da7-9c75-97833fc2b473', 'e1021f16-4252-4110-8042-1dc819a8062b', '9cabd873-a657-47ff-9e82-749732fab3fc', '96d13a99-7942-487b-9e70-7d7333c2779e', 'fbc86e61-0e15-48d0-9528-7db3a2f1d2db', 'a2aae28e-e8d9-49bd-b864-82f439ea18b6', 'bbedcca5-1b8f-4341-89db-7e3a49c5acf2', '9bdb9ca0-c583-4937-98da-89ee1490567d', '182c5e1f-4983-4821-89dd-e92886963dca', 'a65b2b25-2f20-4801-83cb-661804a76a88', '67f87bdf-7f77-4e02-9c89-cd8594eca1af', 'f986c7bf-f1e7-4e87-a2da-684623317819', 'b2e1f2ce-bbb3-455f-b086-2a59d643d346', 'e2944677-ee42-4862-8438-686e9656c6f3', '28bafcf5-4932-40b2-bf26-5a09129081f8', 'b05bd7a8-b2ac-4fc9-b124-81682bcdd2ef', '33fbbc91-fa87-4d2d-b76f-4502e924c0b7', '327b26a4-5a72-4759-ab97-22920bc41ed8', 'bc264a95-c4a2-4829-baee-f1b45f0a059b', '19c8be73-0047-43c8-bedc-981ec13f50dd', 'fdefda70-b9c6-4aed-9168-1398685363c6', '2eca648f-f09c-4f5b-8073-d6b2f29208c5', '149e19eb-1836-43ba-8e95-3443f5e7bde5', '26681012-0a93-48c8-8411-56a862bbfe82', 'b96008b5-c093-4f8c-a0e9-9a07724950a0', '80811696-0ee4-416f-a44a-04b6eed3c660', '4aeccf8c-7457-4528-b389-669991dbbae0', '821ac63b-8c44-4514-a8b4-dd87a203ee74', '7dd9dda7-1f54-46bb-ba46-0cd63a75ebee', '0e53e8e8-4f93-4c0b-917f-ef184ab6734f', 'acdc2e41-3d48-455a-a336-b776884ec6c5', 'a7b3827c-9597-4aa3-90c3-c64fccb8ef09', 'd068d20a-8ea8-46af-b4f0-8df5828d974f', 'f7d1931a-1884-4b30-b8a6-bc4fb8d24cac', 'c6d214c5-93b2-4a8e-ad7a-922c52d03545', '91007b18-8482-432e-b107-9a9812990624', 'd5ea7360-73a7-4945-85c8-bb3f7e465a21', '874bdc99-55bf-4c0e-a601-446498d639fb', '9e459bda-afcb-4010-9515-9186115d3c2d', '123a761d-f951-46e5-b2af-3ee100c0827c', '7424ace0-a0d2-4fdb-8f99-3c848ee9fbae', '378ca93e-74c3-40a8-bc61-b0216c06d836', 'f8fe25f9-728b-47c0-84db-85f43d904125', '6fe64845-a9df-4596-99c1-e56b981adad1', 'df76cfb3-f640-44f9-9914-2446b6dd145f', 'b1b1c198-6ce0-4863-9633-ded2ecc10e1b', 'd12b932f-eedc-4f3e-9fe8-4b31452c4652', 'ddc1ec5d-50c1-4f96-926d-6e0e1769c5fa', 'c409f808-fa27-431e-ba96-2933f2112a37', 'b0527df3-a3b5-4036-8f40-e97fa40f59cd', 'c1aec27e-106f-44c2-a0c5-08ddf05f8fd4', '2ac041e4-54ee-4cec-bcfd-39a0941c0054', '7cfb3f78-f54f-44a0-adee-51d92296d366', 'c2bb1d2e-2af0-44be-b9dd-fe34f2fa7f44', '7baf5f50-989b-4617-b0dd-ad73039d2086', '0312b461-a82d-48b2-b029-39acb861ee7d', '69e524e7-1d52-40f6-af7a-9ea2058de7bc', '39b7172f-9b21-403c-ba51-548c1dfa0a65', '8879e89f-a75d-4640-b3c2-52a38a749aa9', '94bd61f3-8dfc-42d6-9955-4701af2e6159', 'cc1cd0d4-9082-476a-aaa7-f04d37b591c5', '6228c8b2-96bf-4c2b-bf08-711e629eb639', 'd74a93a0-9633-4373-bd19-85d543c8ce4d', '21948130-4ce4-4de0-895e-4dde6a49b803', '4c5040e5-d630-4736-8f1d-ff05594419ef', '5f4bc134-0a67-4517-8e82-ec350b9245c3', '66aa2ea8-b7b1-47e2-af08-77c206886932', 'b8520816-c4e0-403a-a557-09583065b11b', '9bc3ef36-0402-4db6-b450-13c386f76a28', '7d5ae6aa-e612-4800-859d-ba5471e3e589', 'c458d7ce-d123-40a7-899b-8ef57f358ba2', '51d812b7-0483-4a09-bf76-d0d1030b3c3c', '172307ae-e8ab-421c-870e-194fd901752e', '6ec9deb9-f04f-4edb-999a-44e0fab63274', 'b19591e0-925b-4533-9234-c8909db8206d', '5d2af6c3-7ca8-4a17-aef0-c4d93218f9ff', '377ecbad-43e0-4dd7-ae5b-ae1e5ef493e6', '6bd0c021-309b-4ae8-b75e-78038b5f537f', '657598fc-0c8b-4383-9386-49fea2c9e670', '57aa76de-0b88-4028-b245-c8e34ca91217', 'b67c8e85-5f8b-428d-892e-6d9f8ee435d2', 'f361d96f-bac8-4f94-b63c-c88a0bfd3965', '3048d7b8-238a-4ed7-8504-94083e84a702', '3e7134b7-125c-4c10-bd3d-7fd778faca4f', 'b682b402-006f-4411-857f-5dac52e3a3b5', 'f8b38148-27ea-4e93-9686-d91ead486206', 'd332944b-6d41-4c33-a1c9-6efdbacd240d', 'ae26f747-31de-431f-a0e8-727766599f30', '3f3e0d30-975b-411e-b77b-b96638ae2f89', 'b6421348-ba44-45e6-ba06-030d06fdfec4', 'e641e8d8-a6c5-4234-95e5-898b8c73d969', 'c7d53885-5373-4d93-a9ad-153de1f1db30', 'f85e2b6a-6390-44c2-8f4f-4f9361e79616', '46e1c5a4-8032-455b-924c-170159fa0d2f', '3d79e59d-35d3-4af5-826d-76afa99ae77b', 'abfcded2-2fc5-4a4e-8e75-6fb50ff760aa', '250f64eb-2b17-43f3-9fb6-cb6eb35c205b', '126fbb6c-0be0-4499-a03b-76f26da209de', '77af15fa-adff-4a86-991b-4a6a43d58818', 'e0fa32e0-94ef-4ddf-9683-df626f93ad44', '0985e4f5-2036-4354-a4e2-3c230b466d62', '563cc891-1cb0-45c1-a34b-6d0106ff879b', 'c902fd32-680b-4840-8d19-89c9b53e2ed4', '15398783-7b4a-43de-a5fe-e691491654c4', '65bc527c-8193-4720-8cce-5387ccad8c3f', '8a0b6f64-d6c4-4a4f-a1ca-f674c9ec51ce', '6fa5214b-58e4-475e-97e2-250951da8ea0', 'caea11a0-8289-4649-b0fa-8820530c40c9', '2d47d15b-21ee-4d62-9a80-8e1e388336ed', 'e74a6a29-ff50-47ff-980a-7b8f2fab8422', 'db0ae3c1-ac34-4e7b-a3f6-1898b3732a03', '49192aa3-f044-4bef-9cf3-2c15c1022a2a', '9352e6d6-2775-4d35-8b14-f9214a023f8f', 'c9f40cf7-18b3-45c9-98b2-2a39be3e6060', '2cabf1d1-51ca-4dc3-b4f1-0834b8c1f951', '5f353738-a53f-4de2-b279-a81af1ac54a6', 'c6958f81-110a-47ba-ba04-61fa5780f59f', '7475aa8c-9db7-4345-b545-3e22a5900449', '1c56c37d-5e55-45ca-a8ad-892059d8226b', 'f23be008-ca91-41b4-9343-c9afa10abdd4', 'b5114467-c38c-4fea-8771-07473b4b81fd', '22f0e60c-55e3-4f65-9787-ef802c16ac78', '0230fbde-f08e-43ef-8617-63a03f93243f', 'c9e25cb1-4214-4102-8996-614de372c338', '4930807e-cd51-4427-a15e-65c715c9b091', 'f141c01c-0483-4a03-8ff2-2ee73139cc84', 'cf5235a3-e805-4416-8ee9-fd4675811dbe', '3553d45c-1919-4a70-9aa8-4f7db122f886', '21598839-5c62-46eb-8b9d-0ca5604feb78', '5022f820-2270-42bc-86bc-39fff1d09767', '13af32b4-c031-424f-b575-0fab70730990', '29cdb923-1a23-4ae5-ac13-8b6702de2649', '7e6b01a9-9c0c-4964-8428-acdad00dddf6', 'b59abe26-169a-4e90-824c-176e2695b2a2', 'a66ab5a0-205f-41ba-b409-0d233d2b03d5', 'ee3ce871-8cb6-4d0d-9fd0-4cf9b575488f', 'c0426e8c-25ae-4b14-ba8b-7567c378ac44', '8a20eb62-8e04-4338-884a-33ac1d5fc980', 'dba66689-bc5d-4076-abe8-5aff79309235', 'e1e59684-35e3-4cc2-b614-4ba943d56223', '2451f95e-35ad-4ddb-8c00-2c5aa2321be4', 'e6e5eff1-86e6-46eb-b928-959329250ef4', 'd766cd5b-78a2-4f2b-a1d5-a1c844a5675f', '35fd4b49-941d-4f2a-befd-5b9e54fc9b62', '04e03d9f-e1a0-45e7-8647-eb6e1159db23', '72456b53-721a-4364-a450-b9461b83c9b9', 'e9fe7815-d343-4286-a6fc-fefa6a916daa', '3f41b8bb-e336-4a3e-9d95-30dd43b76f17', 'f14c1aaf-5016-4c3e-a8a4-50aa3e281932', '23bbdf9c-64a4-442d-9bdf-18fce2faa5c1', 'b23af0a4-6bb0-4b14-973d-e58b0e90a645', 'cda41377-d558-4d73-aed5-3d0a262331b6', '288d9e2c-75a1-4227-a5e9-e2d1d330cee5', '3e185128-5bc8-4cf1-aed0-b4ce474d51de', '36aebbe9-3f8a-4684-b595-d6a6c733e0f9', '07745c06-bb0c-4fad-ad79-dcc28153fb0d', '4973ff82-f655-4982-8188-4e560ce68206', '01ec5169-d684-43a6-8867-c554e5b5680f', '86cd3c82-7de5-4d90-85ac-7c9fbb76948b', '654f5454-9b24-405b-af52-649ab9f673e5', '596b09e3-481f-4fed-bcd6-6a6f1f3aa18a', '43158b43-25c0-4c52-8f7a-73bc39a6c05f', '40744dce-ccce-477e-a565-c396f0635c40', '3ade051c-bea4-4300-b6fe-e820079df242', '4909c6d7-9656-4eb8-843e-cc72bcaa4a1b', '0cd6f523-6807-434d-9852-829d3a17fab2', 'fb8b2f40-dbd2-4ad2-b0e2-95cd0bcc0b00', '89656713-51b8-42e5-9a28-31db4488b3a4', 'f86e3e27-0cf3-4830-8026-106868ed85bb', '560983f3-d466-47f3-9362-2f11fe4503dc', 'bb0c3a87-a56d-441a-b874-1b6f99a61d91', '7c88e805-a400-407e-8b39-a9dddbf31270', '61565a2d-d839-4599-a2a3-03e10b6484dd', 'fd4bd8b1-8ef3-4f79-ba0a-b94d77b3defd', 'a57d8e56-46e9-4e93-bf18-22f0f0f50256', 'e8756fdf-bf5f-47c1-9bad-ca468cb2ae2b', '57449c6c-4b14-44e5-ba52-cc584b77caf3', '98e3b5f1-ac1b-4d02-9fae-6ce40d2cfe5e', 'bd8332f3-fb31-4fc6-b9c4-a5f497a4dc18', 'f8d0690e-75f5-4b6a-bc36-7fd0813b5e2e', 'b5889a4a-d12b-4e0e-8518-094e4a4529ae', '262f88e0-189b-490b-bc00-df70f5d92b6f', 'dc76ab85-16b4-4f02-b225-0ed3b8751562', 'a748a118-b204-4cd6-bdda-17a1e2c02d32', 'c8482cb2-2f23-4b57-9756-ff36b5e0265f', '5aef9bac-40a5-468f-b648-144e3a22e3d9', 'caa60e28-3fe3-4a6a-b5f8-b42183c8d56f', '212a4cc3-f985-46e4-a9a7-59f5a8591f5a', '2d54f929-87df-4ecb-a02a-0b24d469ea56', '32e4e35d-ad53-442f-8064-62358dcf95ec', '6aef32fb-c25a-4546-a281-53a26062e5a5', '1f62080b-a296-4c3b-b796-ea3e3bc048b1', '39d45a22-4911-4e92-b961-027b154bf6ac', '545f4861-b49c-4e9c-8b36-a0a240d6b956', 'b75dbd32-c78c-41e5-96f5-64b73de49723', '8c4b850f-a947-4675-b3aa-a2b01cedd5ba', '2fcc4be2-110b-43f5-95d8-62a90c7e47ee', 'c75140d4-f0e4-4325-bbbf-1a010c44124f', 'c636d303-e9eb-452f-82e7-e1ab784a5f22', '9b523f42-260a-4aab-869b-a58ec1b43826', 'f90ffa14-8f92-4303-8bae-d09f2cc286c9', 'fc7bc3c7-6a42-4a61-a997-be0f3a5d3d10', '64ba976f-1284-4fea-89ba-649fb7dd56b8', '65e7b7a4-f0ac-4899-8dcf-1a76d0ce871c', '02ceaf20-864c-444c-bde0-d1263e8b393d', '5c6f0050-dceb-45d0-aa01-80f40d2a06a8', 'ff0d5172-39d5-4edc-9dbf-dc27b9d9ff4c', '93a4b72e-8d64-401a-8fe8-e8dd9dd59f2b', '3fb337a9-4435-4be0-832e-b69dbe6b8cd8', 'c37803b1-6da1-4216-abfc-28dfcc58b90e', '12fd172b-44c6-46f3-a886-87c5e4bd9c2f', 'b671f437-667c-40a3-a4ae-40555c2b6af4', '58e306c3-1e89-460e-bc76-41db4cf4ec73', '7afb3765-537d-4814-ac3d-aa9441289203', '3aff8ad9-f171-480e-bc08-b7637a783ab0', '97880e22-902b-401e-98ec-5722de0e791d', 'c253cdbe-c359-4534-8d74-12a9db3b3f79', 'c4816011-7ec8-4534-a4c6-7a6021f663bf', '7bcb6a8d-91a3-4d9a-aaf8-fc273c757679', '561498c7-eb5a-4ae9-a111-2a6b97a15db4', '1da50cda-6cd0-4c65-b07e-8292eab054f3', 'd16f8e31-107c-4e44-aa39-fed030e7b324', '9e508c00-546b-4d1e-9bf1-ff2224c0f97f', 'ed255a2d-0d38-4cdd-9905-0014f294cab1', '8bbbe87c-9de8-4efa-b08d-3baf4cf15c9f', '2903f5d3-66b5-4440-af15-6645d046955e', '2ee304a3-b10f-4df9-9dee-5829351202a9', '405d9474-e0ed-4675-885b-205fc1b94077', '0f56b74e-31ab-4306-a57b-a025f72f34a7', '91d090be-ae63-4147-b812-2f046ec6eaf0', '2da15dbf-17fc-4e95-a46a-a03dee2b9f20', '53bcece4-da25-46f9-a882-4d758ae25233', '1129a32c-9baa-4098-9599-729b1fdefc88', 'c9979cb8-9126-4630-b6b9-bd05be08f6db', '4a11fefe-b4ce-4704-bb7d-461eca1182fd', '5fba30b2-cae3-49d2-bbb0-eb7f35022d53', '7260c2d9-4a98-4df0-8313-93007766328b', '2a660feb-075d-4ed6-99be-b38a577bc261', '8ea3881e-499e-4de5-b663-7ed120d84303', '365c4a56-54ba-47a6-a6a3-61bbd7bba1de', '7b56a10e-5078-4e1f-b594-fa1017fd2eb3', 'f1ad5117-4905-408e-bec1-82766ddb18a8', '77fd5f38-d233-4670-9131-18fa9fa68376', '8b0012ef-09c2-4bfc-bd54-b854a7da1600', 'eef904e0-870a-4657-a42b-9936ab294d06', 'b82d2522-cf74-4944-88fe-e66edf9c0a07', '04009ac1-dcf3-42a9-9f59-5e2c354e220d', '85c088f7-ee76-43cb-94a3-028cfcfbfdc5', 'e0a80d1d-f035-43fe-be80-a78025e5dc27', '1020e136-fe39-4d22-b75e-fcc2418395d9', '9a420a1e-9430-44e9-917f-92bde2f77fd0', 'c02a8433-1f13-4b9b-a1d7-cdbd0886bf9f', '207c20e6-e98d-4971-ae77-38cfe98c2434', '72833152-429a-4fa9-a009-4a774d935779', '7aa2026b-5d88-4044-90f2-38f879231867', 'd1e2143a-f237-4ffd-a9e1-285b5d14904d', '6f1ae147-c641-4e0a-86e3-5ca70e7ac365', '805b24bb-09d2-4d44-808e-84232e43d372', '3e4537d0-4424-4a8e-83cc-4c37a1aa591a', '9f411cb7-dfce-4549-a33b-2ecb9ec80559', 'ef13432a-d699-40cf-a445-0905b7e3170d', '3537a4ee-6bde-4cab-bc17-d508d7ead620', '021997c1-673a-4317-b98d-15124a561dda', '05375b1d-cffd-4cb4-9ed2-8886aa300a06', 'f9ea9d44-054c-4a49-80bd-372648b3dbf8', 'd68f8909-bdd8-466a-9e9b-b1dfb9640941', '562eea9a-4d03-4d42-baf5-c58d3ab76ed1', '98084b06-2ddc-4042-b239-64d78faa3cd1', '459afd36-e0bd-42b4-9c79-2762b8e500f5', '895c1e23-bdcd-4f9f-bc6d-665af5cbc602', 'f8658882-4aec-425e-b7c6-29a9443157dc', '291d51f3-febf-479e-a00e-4bf12ea37cf1', '540c3b02-3cb2-4437-9de9-aea02eb95825', '66bfa954-9138-4e85-a843-0dd01debc9f7', '1ca4daac-5f21-496b-a2f3-3ef171d06296', 'f75c9a84-7bba-46eb-b097-1235ad5a2f55', '6f62b090-cf7f-4db8-bd20-229499df05fe', '963f0f57-d770-4f51-ad2a-562000fcacf0', '55584e03-15cc-473a-a040-2a2d0174ae81', '744e09a2-d378-4a61-b3f2-07321e006194', '46e44289-5f34-461f-9920-ee08bb941b7a', '1f296673-7d7f-4f10-816a-128ba46b7c69', 'e805103b-8038-4ae3-b58e-655cd84a8f45', '642a32bf-2d3a-4b3f-9420-23f53daea935', '8575b243-56e4-4ba8-821e-f0125efac79b', 'c960e905-b50e-4bc7-93a3-d70861f9267f', '77ca4416-964c-4b26-b49b-a9655d0a0aa7', 'fa19ff15-7b42-4a90-adae-ca9ff4c5d251', 'f7162e64-89bf-4321-83e1-a6f9bec99025', 'b15a0895-b6ce-490f-9700-0a3472b53181', '6f767eff-7fe6-40d8-9a35-98b4850d8621', 'ac657085-0b68-4ac0-99ca-51da8af8ebaa', '731e9e48-7d95-461e-91aa-fceb965d7e09', '7e1f0eb5-5bac-468d-8662-52d100cf96ec', 'c85e81b2-1b01-4ba6-9021-ea0aa7075943', '57bc26a6-98f2-4354-89d4-fdb4b0df6381', 'de362222-a3a1-4497-9fc8-967b1646985d', '270fc7b4-0cfc-48a3-9841-95e0fee954c6', 'fafc3ef7-5554-4643-b084-bccd933aa84c', '66aa1f05-3311-4a0f-a8b7-43308a07f567', '7d5a639e-a947-4a2c-ab73-df382dcb7479', '0ab144d5-e3f8-4c2b-96d1-da90f103da5f', 'b0c11769-538a-472e-b7a2-e6c17a6f84de', '9529ce14-b287-4f17-9d82-97853983b064', '67cef7b4-0aaa-4b9a-bf96-c0d754b28123', 'c8d142bf-7a1d-49a6-a5ec-b55e57a1135f', '5c0bf9f9-61e8-4654-9533-460b678dca34', 'e1499998-4cf4-474e-84bf-23af929a0d35', 'f3b281fc-d904-4e92-b52f-058bc5459660', '3589eaaf-3562-4dbf-84cf-14054f3c2967', 'dbbd5e4a-f448-4dfb-8c15-7a916b6f7645', '523a59a2-9cfc-435a-bfee-8395601a7a87', 'd618e43c-88fe-4db6-aa46-0bc35ac1b9c9', '842065e5-cab7-4e1a-a870-3b205b67d849', '69d35d47-3b16-4709-9b3e-724d602bc811', '63bd803e-1571-43f9-905c-b108b8100f08', 'b28ed313-2cea-45f1-8f72-2fa268a57e36', '8906e3cf-3ece-48f8-b4c9-c690779b8aa8', '7aedc8cb-bb5e-494d-a7d5-4a603fb497ba', '890b402a-1251-437e-9737-8dc20ae09c13', 'c77a998c-f1a1-44bf-80dd-bf1026e02b73', 'db00b482-79bb-49e2-9a63-b71f4f117d64', '40786363-12c3-4752-ab3a-caee0f0541f0', 'e49bd310-0d1d-456a-b46f-06475e87261b', '91b698a2-d6f9-4e9b-b883-a0b8de2ab288', 'ed90a552-b5aa-4d1e-bcb0-e486eebe6ee2', '19e5a289-51bb-47d6-9535-a6ed5fdd1b7d', '84a416b7-3a58-4777-b827-f3fc06ea150a', 'aa90f03e-225b-4473-8f6c-84dd689c72ec', '49dc9625-8fbd-4353-a95e-c6bed395d13d', 'cbbb8349-3b56-40fe-bf06-15e93ae03ef8', '10cc00e4-91e3-4ec2-8855-36242315ef8b', 'ba9b8e68-48c3-4ade-8769-aa463320a287', '4a612c25-3a02-485e-b8bf-e744eb086128', 'c8e50281-4034-4591-9d36-2f18779309bd', '4400da05-af92-47f8-82a0-41b6caddbd2f', 'e873155a-9925-4ebd-9cfe-e74e56a10151', 'c84ff6a5-784a-4250-85b6-0eb4f923daff', '4a75afd7-be97-42d3-a0eb-7a1f860a723a', 'b54f15ac-02fc-413c-9718-78e77be5e492', '89250b70-2aa0-456c-8273-1d6d7c301342', '5400dcea-40fc-429e-bf18-3f95e6033a28', '603dc022-30a9-43e6-bf7d-f0cc858dabf7', 'b3006d0f-2f2a-4d9e-b409-f2e10e22a7d8', 'f73afd8d-444f-4417-88cd-1460bd94101d', '600c6600-273a-4c7b-860e-f77aea9864dc', '1976aa2e-0f39-418e-bb19-8d389426e2b3', '9a28b260-5d64-44eb-9ae4-f1962b8151d9', 'e08be0a5-4e6c-43ec-80a3-2014d77d192d', '6c4b52e1-e356-45e5-aaf2-76e2ff878156', '7028aac9-5eb8-4038-85ff-a1d453560fa3', '9294c406-d605-4ee8-b17f-5feb5b97df19', '16b10a5e-2dc6-4105-ae4e-0184c1f5832a', 'd16ea706-eb02-4e7b-ac3c-a4b91122f0a3', 'e7862300-a0fc-48df-bc89-6886b31aef03', 'd0b6334d-9c11-4ba8-b864-634c305c2a6c', '3d960e7d-2437-488d-828e-7774abae2738', '1b6df724-1bfe-4880-8fee-2917913dae8d', 'ecb40f66-823c-4642-8a53-8e97a3a8e025', 'a0634993-5f2c-4fd5-bef5-c1b96f4f3662', 'b8530600-ef49-4574-b953-ef8cc485a4b1', '03880993-53fc-42ce-a01d-e7be34b834e4', '2f9aff41-c1f3-4a3a-bb0d-b1a2ad5d3ecc', 'af69cd1f-bc7e-488c-ad20-0f0912358ca0', '8e32d033-5885-4e45-b62a-f3d221e889d5', 'aa12d5f6-cfd8-4392-8948-bfb46f91459b', '69776e5d-8145-4926-839c-57eee34c0d6d', '3b854297-f0be-47e3-82ca-d80cd55064a3', '14d123cb-d4fd-41fa-9a24-47ca7311cda6', '95e31094-da26-440b-9937-041fcc3a948a', '509a1249-811e-4af4-bd69-f61745cb718f', '8ea9bd99-3159-48d6-bf5b-a302b64f9ff7', 'd2699cb5-7d97-4115-999d-16cfba670415', 'ed9e0134-94ab-4b3e-aed5-447d31353dba', '81a90042-c40e-4ee8-860d-fa88b3936942', '0849fe4d-b388-45b6-8caa-924553bfbc5f', '3ed387e9-345f-4ded-a398-b7c41c6d7665', '4db6facd-d388-42fa-866f-50235bb458a3', '0693c9e3-2981-4b3b-af59-fc1b50175b92', '6abe443a-6c8c-48ac-816c-7de2a72f1d50', 'eaa83ef5-c5d6-4d49-9966-7207047dc402', '095d0f1c-253a-40e4-843c-fff17314d50b', '9085bfbe-7412-4918-b09e-326bc8d20534', '32fe9f33-4060-474b-907b-da67efdad4f1', '00e0bcd2-02cb-47e6-914c-201760cb2a09', '17b0bad0-2646-41d4-be52-7551e21c298a', 'bb0f55bf-e2df-4815-b4ab-2589c87c5897', 'da5dc3b5-5744-4c5f-bbcf-7366ff581594', 'ffc7600a-c574-41df-a45d-4afe9e1dad62', 'ba0dd5c1-f1c1-4bf6-a9cd-b9473ae0d572', '561de4e8-93c9-47b9-8d26-bad225f8c42c', '32f5290d-e72d-4043-bca4-4b3dc0add810', '324bdb14-c849-4646-a961-d4f398df5026', '018ab35d-0e8d-4069-9117-59e4ca8ce9ee', 'f588a62d-69e8-4841-b570-685f3f7a6286', 'e5d3cc96-35d4-41e1-a57d-86d3f64a41f8', '8531d4e0-0a6e-405e-8d63-df5ecb4eea00', 'ab4d9480-c63d-400a-8458-c5228a783430', 'c2e7afae-1964-46ef-8326-b0ef4655e480', 'ce91c324-c438-4ec5-ba09-011a451ee37f', 'b352e105-708c-4ba1-bf2d-ba2be4cfe130', 'ca6d8263-1535-45a9-91e3-5a98d08050ba', '84e1dfd7-035e-46ec-ad7b-30d21908409b', 'bfd4ecf4-6ed3-4827-8f6a-81d3110b9f3e', '57605f5d-508c-4135-a832-6e91bb86698f', '460706c6-1cce-42af-9c96-f74d5e4523aa', 'f87cdbfc-2f15-44f7-83aa-36dddddc98c6', 'e064a959-7311-41e3-8bb3-9f580835441f', 'ab47b937-0af8-485f-9260-0500fc850bbb', '53ee4f44-ba0d-4b52-a9fb-e3e5298f4ad8', '622f85bd-2a40-4cbf-959b-ff3da4910a29', '0aabbbee-a322-42a0-8626-5ef5b6893811', '3c8c5bb8-1ca9-43dc-b747-4a0f885e8216', 'd23f6e28-f6b6-4fc4-a249-748f184566d1', 'a59cc826-3e3c-4dff-b11e-66776db6898c', '54f8a4e4-f2b6-434e-a520-712e7fe12f29', 'b731046b-7d14-4825-adb9-4e5f242185c5', 'a982f10c-a90d-456d-8e61-dea01c4ba2a1', '1679cf72-1eb3-47a7-bc34-7115a7ac2fbc', '814158e8-bea6-4c4b-903b-69f921b5943f', '4374167b-243c-4c66-b786-0b95be269a76', 'b38a6837-d0bb-46f7-bcb7-7b2121d050fa', '9fda867a-5332-48e5-b554-7e69c977b286', '3ac9de1c-0f9f-4f05-82d3-6483aab74abc', '01bf5c44-d942-4de1-a17e-2a5173b30e43', '9bf41247-1c51-438c-8db3-c634229fddf6', 'f4c95a09-26ee-460f-8c57-9d72bf7b0850', '3d6d8465-c28d-4b1a-9366-75d5c3652a81', '620ab96d-ed3e-4aef-83af-69f1739acd4c', 'b034926b-cc3c-4bef-b5b9-cf8ce7ec593b', '1102ce95-4412-465f-8c3b-662dade8192b', '4067de92-ccbd-40a4-b660-6ed18604c45f', '559023d7-8db4-45fe-bae0-99e34d3d1d42', 'de277694-ad30-4f20-81b5-58ffe59aeb18', '4730ccf4-4095-486b-bbe1-90772759fb87', '8211cdc3-a8e2-41c5-afcd-6524c8238c0d', 'fbaecddb-bf83-497e-9a91-761a00321f90', 'b462e3e0-c23f-437f-93fc-451d72aa14ae', '1315f020-4dec-4a83-a4f2-3c834517a207', 'f7d58274-1528-4356-bf7a-5e06d597e76a', 'dbdfeaed-c18f-4068-9d4a-acddcbf549f2', '99f25394-94dd-4755-ba02-093e482cef94', 'fb262005-4c28-4e76-aaf2-8e0bfd4ef51f', '523742c9-224c-486d-9fc1-018153e09ca5', '0380fb8e-5bf5-45d1-bc55-514e87fb83bb', '5fb10e3e-b259-46fb-943e-8d0b84625a02', '524526ce-6ae7-4593-a272-219ad20a8e78', '887e3315-1cde-4f28-b458-4b7ed0d1f955', '38ad3d7c-2e1a-4705-b8f4-c4e63a3069d4', '88133f43-911f-4537-bc13-310415e0617a', 'fbf98b83-cfc2-43b9-94eb-8f690fa97c97', '9bbd58e5-ea2e-4eaa-a532-4bd92336d665', '0d586f9a-1bbd-4a57-bdf6-3c6dc23b8540', '9d71d2df-a317-4b99-80f5-df021ecf4391', '0ec073a4-4b0d-43b2-acd9-8fe4dff67d2f', 'e438d70c-16af-438f-9d3a-b867eea8baaf', 'f619a122-c227-4d8b-a31a-bbb726cd8230', '0c0b8dd8-657c-4075-9759-30e13e496c93', '0fbc1b7d-0844-4798-8b56-71b8619ee40d', '9d74be2e-c94b-4856-9689-600f5b81b493', '3276a0d2-2e5a-4204-b888-cdc575c86373', '55d83dd0-c974-4292-9a3c-76d3c3f944e7', '24e39be3-7290-4563-8e66-fb7d8bedda04', 'aa91343e-4c29-4233-9969-b7043620adec', '957c962d-3d25-48db-a4f7-6d565dc554a1', 'f464f4ce-9c28-47d9-b056-96da1fdc0d25', 'a9a47ef9-408f-4d57-8f36-c8e7ba65dcd9', '5603b2b7-163d-48e6-b9f5-bbbd948187ab', 'ad9c0ff3-66d8-4538-92e4-ff01fc3a1625', '91d2d00c-5f86-4f01-8ca2-39e8e9fa9777', 'b1c890fa-9612-47dd-878b-60475ff4f80d', '5206158f-e809-4471-8ac2-d3d867ddeaec', 'd9b8f8f2-0f50-400c-92c6-01631e4bc912', 'b98383ff-db83-4e26-b39c-92770dc59b33', '9ce9a7e4-c4e3-47cb-aa77-00a283a4aaf1', '68cfcbe4-96ef-4a6a-aeab-f8bb4b0dc4a4', '2e65834d-3777-40a7-b767-d072a8e85def', 'ad70576f-e412-498b-9f3a-508cf91dbe16', 'd00110b5-0798-40c6-8af4-c8aed6cf22c6', 'fcae2ae5-59ff-4a43-8482-bae6bfb70d46', '8b4e3ac9-5745-4129-b2a7-06296f1d8eb0', 'bfc15888-ac1e-4835-885c-f93c76863e4c', '46d01cd3-07ef-4bcd-a38c-3bcee092d4b3', 'c8086f31-7e93-44fd-8a91-35edb00ca1de', '945bf278-85d0-4c10-8698-9c3f8344bb57', '4d1e889a-a8ef-481b-8be1-8eff55b96af5', '35ea1c19-c9e4-46e8-99ee-435ed1d0e000', '91c15f91-01e4-43c6-92f0-3063e217a731', '903446f1-b091-48dd-a93e-0c430dd147cb', '3e6bf752-2ac6-4869-8f1c-572874385fca', '9bdfb674-931c-4a70-b16e-1c9b83a6189a', 'c67497b1-84f6-4c85-8429-3f0d238147fe', '952bb2e0-5336-4066-8f7f-0d625df13b52', 'bd21efed-2709-4c01-8e75-2a669d45c4df', 'a5868ae3-14ec-4ab0-8be6-2e8ead49ee5a', '8416b50a-93b0-4e3d-8595-4191e1f2e1b5', 'e8b2ab4e-8b3d-481d-a421-e62cfe84c444', 'd805da20-9853-4934-8e88-f415cf2a7269', '6a46b28a-08e8-42b9-934f-38952b2b0e09', 'c7221396-ee73-4a1b-8287-151f22c9c53a', '33e2aa1c-4313-4b5a-8af5-f11612b5ce6e', '89724fba-6cce-482a-9f06-9fe4f9d4b50d', 'dfa2c926-f59a-4514-af8c-52ade219e534', '7a708773-ef33-45a7-9e07-045070424c73', '23702ea5-dce4-43d7-94cb-4628025d073f', '92036d88-90cb-4bb7-ab20-c2c073ab9fc3', '252f918d-e9c4-4ef1-b68b-b0ea61068f5a', 'ae481011-abef-44ca-a0ad-b080ad14d88e', '6caa4d0c-5e69-427d-93a2-f9d52536cfa2', '66bc5e52-64ff-4862-bb1f-790d8dbfce19', '59f04633-ebb5-4128-9780-503d1b376a38', 'bb590228-7c15-4c82-9cfc-ef8f9f81d938', '5a0cb5b0-b97d-4cbc-9802-14fbe5d4bd16', 'c939558a-6244-4701-9ea7-58ee93ecdf48', '9080a27f-0a78-4c23-9a1b-57fb4fe1e71c', '8688e2c7-efff-4cf9-88f1-28785cf7d73f', '9f582e6e-8556-44ac-a0b3-abcbd83aa939', '16a68dc3-a408-4e79-948e-c3f7653ae9d1', 'af3c9a9d-f249-4d8c-91da-658eaad67f0d', '448fed68-454e-4d9b-a03c-c1eacfa2553f', 'c344cc5f-7e92-4d2c-98de-8ecd477b9c11', '2f26fd6c-a56d-444c-9a29-ce0c8db0e0b1', 'c045b3cb-3904-4402-9bc0-b011698ec3d8', '5422374b-15a6-47f0-9de8-04c8e6fe4c9d', '650f559d-2f18-4ca4-b12e-5f060c98523e', '67acf1bc-5d16-4dde-837d-135401eb95e3', '635f8f99-ab22-4e92-b23d-84311d5879d3', '442b7d69-d71d-455e-9556-0da17411398e', 'f70abed0-4816-4cee-8419-2cc438bc69d9', '2aeafc83-9e89-4a67-a432-8d8c6856e517', 'ac31785e-bd6c-4eb0-9cc9-22cb026eaa6b', 'ac5c14fe-a33d-4f9a-8d91-ede157b9a8f3', '6bbd4a46-42e7-4a33-8703-372f47bd39f4', 'b7eaed44-5e63-4f5f-856e-72671f3b7ead', '9a0392fd-a79a-462e-84bc-05bc9dd94e56', '95f768b6-b2d5-4fe3-9690-c2446d42a7ea', '704cf91a-e910-4487-846c-a8772638c3c2', 'ecbae2d5-43cb-4c46-9519-ee92f3bb2376', '1aa79050-fe4c-46d1-baca-95b0f94f811d', 'd714aaae-362d-45d6-b34a-13a0b4b066fa', '0ea03b00-eb66-486d-ad96-c6166ec55160', '3fd9b0d8-ed30-4b3b-ac9e-b4693b6f0fe6', 'b26a41f2-b9aa-4ce6-b6aa-d76678b514f4', '61e8aaea-6096-48ad-a590-36a25c8effd3', '3bf2bef9-8097-4496-be13-7c1b40bf5607', '97339616-7c62-48ee-be29-6cda845da0fe', 'c213bf05-951f-4e76-9618-9337229bf9ee', '72d51e74-e5b8-457e-bd3d-39c5baadd888', '98ef9deb-155c-454e-b94b-24eac0641fd7', '8dd3b914-701a-423f-8cbc-4798e6a82a07', '6c58338b-39f4-4e9d-b638-a67b41d13d2e', 'eb4edb1a-3063-4b29-9536-916c887788b2', '04d50ab8-eda8-486f-90fd-6ea0a140c2f2', 'ea7ab644-8516-429f-b5b2-6c7a49d1772a', '69628d85-13df-4262-8a4a-c4d69c4cf3a3', '26741d09-5cdb-4b17-8a1d-808a067a9400', '8c7577a1-2987-4c8e-8a89-7e9e0360f6f3', '35122de4-ab5e-40ef-8f97-e885b1eb6415', 'a02841d6-ec60-4d41-9983-1558e63d5807', 'e19f6028-2e6b-48c6-91a7-fc018f80b44d', '6e055fb1-b318-4b46-850f-16b4481d32b8', 'fb6ff65c-1944-4c8c-a771-4da33c7b348a', 'aaff11da-50e0-4cb8-b5c8-46c4bbb6af19', '174da969-ecea-4c40-be4c-e49b916117c3', '736cfc22-3b66-4a6a-9241-ad314b972a78', 'e201ebdd-c38a-4bc8-9f8c-5a3f9a352573', '607a5dcc-4764-484a-99e5-5246f0efb10d', '87027ae3-40b2-49b5-864a-a2b96697197e', '48763acf-88d8-4623-a96d-00523c210840', '8442589c-e4cf-4281-8dd7-8ed014de2fe7', '7a3abc15-6c69-4cdb-a4c7-5a5b12a20c59', 'fced7059-5cbf-45b7-b309-7ab9edf8ff23', 'f616d5c7-aa70-426e-8d1c-65159e524312', '3e776f60-083c-4988-9eba-0d2780d86285', '6e18d465-d698-40f3-8917-f1cfc383c14c', '021c8f13-fb14-4485-905a-a9054666cd9a', 'b4ee598d-99bf-4c5e-9729-089a43843e97', '903f6915-4285-4de2-95df-040c04de9c94', '23ab0cc1-e674-40fc-82cc-eb40133bb2af', '809480b5-794d-401b-bebe-c5099786e4d4', '4dbc053f-491a-4cb7-9f63-088475467b8c', 'b0563802-77c5-4574-81a9-ce71c99ba859', 'fc3497b7-910b-4cd2-9e51-d67e610a2e14', '8956e5e3-a954-4049-ba8d-85b336ce56f5', '9f6d82a2-e6c9-4b3b-ba3a-25126721c1af', '226dd2e4-2bf3-487f-a5a7-6410ade4907f', '06fa4ade-5ee5-4a57-982c-b68df311fd89', 'b84f3b9e-ed4d-48fc-8600-c40c75a8cc9b', '2166fd0e-3d87-4b73-8588-0c4dd3cf039f', '3131b98c-4417-4e42-8d67-bfc8ebaa881c', '11172f8b-014e-43e3-a6cc-ac20eedb6488', 'cae7bd23-d7b6-440b-a23c-bff55be1fb8c', '6f23256c-62cf-4b93-9d54-4f68135d08dd', '042d7e8c-8ee9-42f7-9e0e-e9622878b20d', '4d86c3d2-f2a9-4b86-8ed3-5e0f3f7a891b', 'ebd09d94-93d2-4ca6-ad5d-d299817cd89e', '1c8527a9-f0c0-43a5-93b3-f34017460cae', '43d1f017-2880-4ba9-9e65-ef980b871e33', 'df77d49d-bb9d-49de-81b9-8e2a1cb711d9', 'a271f506-8913-4a8e-a463-099358a55c9b', '91c18ef9-0e0c-4dbd-984a-1372b964e3eb', '027b31a8-2760-4020-83ae-0aec4fbac4a2', '3b9d4df0-6ce4-4d04-949e-3cf9fd719c8f', 'ab37c925-e50f-4ba7-8376-58a6797b832f', '3857089b-efa4-4877-bbfa-5afc1ad34e75', '800091ba-115b-4f9b-a702-175176626d89', '017bd0d6-195e-4352-8fb0-a11f7b107273', '72222fea-cf06-41b6-adf8-b6e1a5ffb64d', '2aee9970-fa5b-46ae-b82c-d2ec1f62a758', '6f386547-94d7-48f8-959c-635e2514a884', 'aca57161-64af-4806-9f10-04735c6b80f2', 'c64740d9-d7aa-4274-b391-9d792ce47b66', 'd7abdb48-1013-45bf-8b90-3aab5c2a976a', '69759970-5851-451c-b1b9-09d999590d59', '81f44eea-2a25-4572-9363-f5f06d49bc24', '8b2b5ee9-89a9-4f4f-9ed8-0aece98e074d', '2e14485e-2568-4a31-95b2-e71217e25534', 'bb2f2b44-2364-4f57-93c5-9cca869301d3', 'aacc3e71-0a0d-490e-a6be-4255b16cd3da', 'a6dc1075-5231-42da-9baf-f73226d62c1a', 'b6314de5-7b17-4906-a7fd-9287a3d2c51b', '66fa70b1-d209-45a6-b69e-811af178d6ec', '25fd9036-0c7b-4f05-acc1-245e48aab3d9', '825363b1-9e4f-4835-b53d-30ed99944e7b', '0eb50c0b-ea89-45aa-afac-9cdeb91bd465', '0a1025bd-27d8-4af3-ae2b-7ad9327aa66c', '35476965-be81-4241-8071-28908a229a81', '4704a722-f14f-4d58-9878-fe1438f77b89', 'ee339e19-4d24-41f0-9c41-9a121dcc0bba', '7a6e9d9e-ad94-4cd3-8ab0-e991127b13d4', '707bc328-6cbc-4f6f-bcea-430d58e9ed79', 'e1488aaf-d72d-4904-ab35-2dbe0f0045f2', '8c7590c1-c50f-4cf0-9411-f74b25617560', '6827462b-102d-45ac-aa6f-04d3d4dae67f', '8068589f-e88f-4dad-8499-32372f5274d9', '8d8d6777-1622-4a98-b9a5-9a71adce6942', 'a86046c5-738d-4534-8cf6-55fbd65697d0', '4d1346e0-e6da-4dad-9b05-b5e85991ad8d', '92a513eb-eef3-4577-ba74-b8e4640e9b6f', '3a220a4f-0f5d-4e7a-9249-63b5d8b352d8', 'c2d77840-aa7a-474b-9b5d-c552daae2b52', '267cc3c5-ba31-43c8-adeb-40cfd012ce76', '80242441-59ba-44a4-844b-b92755318585', '6e23042a-3b98-45fb-bde1-338e3168110b', '3ed881bb-0a75-46ad-8f95-f6a8ae75993b', '10765599-ae1c-4111-b508-e2d6f7856fe0', '32fa8394-e7e6-4ef6-a619-849816172dc1', '761a7ecd-6085-429c-a2a2-abfd9dcef3f3', '7646f944-051e-49d7-8c1c-2e54f68c52f7', '366a28c4-6d0e-4b04-8710-1ceb0a29ac9c', '4252a9eb-46e3-4517-904c-68ca26bfd8d5', '660e28ed-683f-4959-aeb7-14243045bd00', '478ee721-bd63-4e52-b066-6ac4fa4288c0', 'bb015963-6145-478b-bdb4-cafe4f40c013', '02400cf6-ec68-4653-9a93-84ed13e6fed6', '1aae9522-427e-478b-a005-c1e072dcc9b6', 'eec141a4-af32-49fd-9aba-54bd7458b9ca', 'c990469b-941d-4732-ab0e-5fde5ddab5c5', 'a5dd0236-26e0-4eba-af9e-77a9a93ac8b0', 'ace6e90f-2e92-471c-becb-1e67784bfbe1', '29102c0d-7633-4b18-a03e-733e12475109', 'ebad8ba4-2d6f-41ce-9c0f-7b2a844ef403', '369a68ef-64b1-4a5c-9fe2-8745a12e5281', 'b2c8eb54-2e10-4bbe-b639-71c5002acb1a', '6e8c2a10-f570-4e8e-b9b8-c54660c7bcbf', '7840b536-705e-4dbe-a228-f570d11e513c', '5a7e8a12-ec75-4b9d-910a-85bb125e9474', '281fa043-c897-476a-b4ba-116acb854650', '0bb7eea9-c326-48fb-bbd3-44972cb5fbfb', 'a9d4399c-5238-41fa-8f75-8283dc420e15', 'f6c47f88-856f-40e8-8148-94d7b4e01394', '26e34744-87b5-4141-a6a2-0854da3b3687', 'b756d5ee-e886-4242-8079-ffa13bd4cd5f', '8bcf0c26-ac4b-4a9a-9222-8789cefb70c3', 'f25ca04d-a60f-47ce-935f-a1237602bc48', 'fe8d71e8-50fd-4602-a0f4-8fa5f08f6276', '35b14a7f-a6b5-4281-bd2b-d6131f37a429', '37fbc95a-37d1-4475-bafc-e743eec11e7b', 'b98dad95-9748-45ff-8e1a-da5b52e8fa74', 'cc357bbe-6459-4ed1-825a-f90de7c48f55', '7a8560ae-7a5b-425a-96b2-e27ea8f946d7', '5d8f67fb-1d01-4b4a-be1c-5a97e2527fb5', 'e76315ab-1688-4374-a4ca-20effc49170e', '33a27813-ac27-400c-b9a2-46c0aa7ab450', '7527a8db-724c-40d5-a5d4-0e579942f2f2', '5dd78105-c5f9-404f-afe8-d3e63aa5d693', '0c225944-bee1-4c61-99b3-7802666c55f4', 'a0a99c58-b1f7-4710-a1bf-9f1247ad05f9', '507594a6-b715-48d0-b6f6-06fa1374b3fa', 'f2c963a2-7c90-4a0c-9dbd-3c210f0f4fac', 'facc5dd4-3367-4047-bcf8-a08ef92ec654', 'f6360e5d-a70b-447a-9386-6dd222cc0eb4', '022f48e7-ff35-45e8-a15c-f1ec94d26567', '7367ce3d-a74a-45bb-b855-31790ddaac86', 'ac1bf0d5-0f34-4e28-aaf9-837d03922635', 'd5ca8ba6-e48c-4d1d-b433-d94d8304f2ab', '3986e7f1-ebd9-4dab-a072-3eae34789176', '3345419c-ec6d-4930-8626-072556815303', 'ef1c13bc-1e9b-4544-85e1-01f1160dfd86', '90072849-cdd4-4417-bde9-cb9d24d9cff6', '10f21738-7d31-46c4-bf8e-94f43735ba7b', '7756e165-8fa2-421b-a86a-3333a81794b8', '84f7fc33-bcc9-4e14-a477-8dca8e16ce5c', 'a14a0750-7c68-4724-83cb-563eda68a3b7', 'b9b6ccd5-303c-483a-921b-c54a77817663', 'a04a1644-b0bf-452b-a094-6182bf14cdd0', 'e6cca394-8071-4c5d-a8bf-f11f665c5e7c', '3c6b77e2-5e54-4d5e-a25d-e899b83bca24', 'aec37e30-51df-4660-aac4-a26079fb09aa', '44e051ff-b3e9-44f6-996e-aba4203f2898', 'b3fce777-8ca5-48a0-9830-9e141d3ec630', '76952e80-32fc-4c7a-b5c9-4622c21b70cb', 'e32548b5-a509-4acc-a2ac-c498326b6f18', '9cf0370c-abe0-45c9-bf3e-732ce0007b66', '8b178740-0e4f-4210-8561-05b81654de18', 'ed05e4ad-6bbe-41c3-9720-f8cd9976db9a', '79fa0760-44c0-47ed-b569-a8b04cc502ae', '0ff6253b-ac7f-4769-95f5-a3ae36a9e9cf', '0fd333ee-d2d9-4ab9-8ce6-05ba4810b998', '5ca29449-efee-4b30-8aa6-fef942ccbdd0', '92641e75-26e4-4c41-8a01-b22612e1d9eb', '96a2749a-430d-4fe8-b494-015c6dd7b316', 'f6728b9c-9fc0-47b2-ac05-51171fecbdf3', '9146dcd7-8598-4e54-af94-9f5ee95b0fbf', '37fb14f6-2bde-44d2-9ab1-fec0077ebd37', 'f833db60-07b2-4c74-a543-fdaf4de5a79a', '18514014-ba64-4396-ae1a-e4808a2f0e30', '36eb6eed-57cf-4b38-afdb-52cdb66f9721', '06c6f881-acc7-46e1-a88c-2d4e6ab960a4', '7d94ee9e-8835-4bb3-907b-ea36c7424d7c', 'd73e50ac-5be2-4d93-bc96-175973b93fe5', '9a618548-696e-44bd-b48c-d92424faf76e', '0bd536c6-11d9-4f18-ae05-9fd8804b09c4', '184aa45d-4a08-4d68-b8ab-b2d7c10951bd', '4d45e6c5-bf51-445a-8c12-76a092eddc8e', 'c7c74ca8-5024-43a6-aeee-ce2eb2d4704a', '03937054-a11a-476f-9ea6-4e8e40fa8e2a', 'b87d5ff4-3d5e-4bc5-a57e-1857391482ce', 'd0804d3d-2dfb-448a-9c11-515fd96684f9', '247e9b0b-97e8-4307-a364-6f978d5920c7', '77d27303-f8fd-472b-a521-ea0826400722', 'dae5ff6e-ac33-400d-8395-ce2403009820', '44f26f49-0e48-44b2-9717-19294689fd48', '41fd0ac2-91fa-41b1-b58f-50c05fb26ffc', '7b28a73d-2370-4d96-bb46-fe22ab1399ec', '7b305c83-6b7d-4892-8c3a-750fe9983419', 'b1b84266-2330-4e3c-90c4-bb88390401ed', '492d5760-6c24-4033-851a-73c97b4a2a3a', 'ddb85e1f-d3b3-4513-9c0f-116edaa873d9', '7d05f7d8-af0a-4dd4-9dcc-572b7580f6f2', '3b88259d-a530-462c-a478-590b814f6249', 'cef4653f-1fd1-46d3-80f2-b46e150d3580', 'a563a4ba-51f3-4859-9349-8298358f67ae', '32fd305e-9634-4e9e-ac75-1239d76ae908', '38f9eea9-0753-4a9e-94ed-4ac561190318', '0d09d6ed-1709-4210-b52d-af48f4035e8e', '4eb2ef55-0bd6-47d4-b2b3-94f72177a526', 'c2fb6f79-3885-47d0-aa2c-7cdb9b2a9cb8', 'a5b60395-cc09-4c7f-b13b-6c7d31ca0cc3', '5bec5074-03d7-49c2-84d0-83dce3d87a2c', 'ff9c4334-e31e-406f-9e2b-09d1967318f7', '34a2ba0c-ba11-4181-801b-6453346b74dd', '476978ae-c6d5-4c1b-b0ab-0cd342660e08', '55d249a6-4677-4e84-86c1-6d59198d9f25', '68360fbc-4fb6-41a7-be88-92959e65eebc', '3faad4b4-ed98-4848-a8eb-fb4ba6926897', '3bb8dc8e-4d98-4c8c-87d9-ba16cb5e08fa', '06d35550-9086-4184-9e5c-04cadb3d72f5', 'de613ce3-2208-4dbe-8faa-cf0c27bbcdb7', '65f90558-705d-4f67-83bb-9c70adff3983', '12c2ca2a-fff3-4cab-9fff-473861061b8a', '882f710f-e5fc-4f30-b22f-1444fbc0b2d4', '748c74f7-f343-4457-8e1e-6889081d6049', '6a22cb2e-f15c-4ce7-82ce-19bf26add18e', 'ad90e3d1-5f15-40f5-87d3-97c95bf8a0c9', '32811bfc-fdbc-406f-a8ad-0a6da3b76023', '37b22058-1962-489e-9186-5d66d28cbbec', 'ee299346-822e-44cb-8fb8-583ef5690b6c', '5b54692c-f1ea-421b-abf5-60e040dfe999', '2e943b45-f1c5-4f46-a620-c68bb7c515c2', '0ee0d1cb-59dd-4026-a017-9fbd8ca2fcf0', 'f042d035-7b76-45da-b273-79fd4f49aca4', '0bc8e8f8-c637-4e78-b95d-27893fca1457', 'f3f7d64f-112a-4dd3-a816-b42226854949', '29405e64-8588-4523-abf1-9d626a8efda8', '9b7dbee1-fb42-487b-9e59-234518aaace6', 'ea89b92e-ea87-42a0-b4d9-0ae279f91ac3', '227bcccc-5212-4b52-9c88-e8201bbf64ab', 'b928d718-22b7-4e6e-b0ed-6c428fa73fe5', '4e9e5602-e378-4c4d-a1a3-82f84cdb6d92', '837cd5d2-22ad-4740-b758-463e07abee01', '075336fc-d59b-4f36-a5ad-52de3249d54c', '63ce87ff-34bc-447a-bbe5-5da8c2ca67cd', '6214048d-113d-4db2-8e59-54539ee12883', '70ae99ad-dbdb-4498-bc6a-56040ee34a56', 'b0a13574-fc29-42e0-bdd2-91cc3b403cfe', '50dcd369-92f8-4f14-9286-37a293a2782f', '9e826aa3-a55a-47f3-bc64-12fb3bad6b8d', '858e4105-f919-4b54-92a1-413bf641d2ae', '980f0c6b-70a6-4b8b-ad82-3345806230f7', '1543f2e0-bcf8-4ce4-bf77-04c4a818a692', 'd86070cd-5f6a-4f0d-a690-33e408b30a10', 'eb91c8d7-e2ed-463e-bf9d-9aa8f9f1fec7', 'ea5720da-af5f-4e08-8013-d4e4af37a167', '68ed68cf-1094-46be-a44d-95e0fdfd2741', 'ee9a20bd-09b5-4513-bbb4-4600c51b1780', '00b8ed1f-be23-44ef-b951-e552268189ab', 'c9e800e8-a292-493f-9db2-6df9dd017bac', 'cbc98062-8160-4954-9459-fa77056445bc', '9fa1b398-e417-4eca-9672-bd03ca27ca84', '1441bea7-1b27-461c-b4c7-ea6b0c9f7f55', 'e1853b19-8b4f-4fbb-b32a-efe487442b60', '5208d1a4-817b-4c41-800d-4eb257f86daa', '62772252-94ea-46f4-81b7-5a999f95c7de', 'c37bb5d6-d326-42b3-8b7a-7ed09d1d09c9', 'adb6b3a5-9aec-49b4-adc4-39eb27ba71a1', '594853d8-dc9a-4c5b-beb8-a8aa7ae7e3f6', '34cbf5b3-ab95-4e4f-8ae4-425001a82fef', '1d77ce25-3b7b-4c3d-b2f7-f56793263f71', 'd31b2475-0434-4c92-80bb-063e48e40e00', 'c1c4023c-6d36-467f-ab95-2155390fb4df', '1585a328-ee30-4418-a64f-771d9e207efb', '503096a5-7c65-4098-af15-4bc56d1e7767', 'b9613a2a-1893-4ae5-8fbb-d24d1a7a9f1e', '89e91733-4f42-40c7-b613-2564eda077e5', 'c4fa7026-4b0b-4ec2-886b-50424f15eba3', '90f07700-720e-4759-9de2-a75754c132b2', 'e91e1a2f-b222-437f-88ee-19b6b5c23303', '81385d6b-86ea-41c8-aaa8-6f5e14af3970', '8c622f86-4591-496e-8a43-c2ecbe79acaf', 'd4bed94b-1a0e-4dc4-a9d1-dc11c8571877', 'fde18d0a-78bb-4661-bf56-039266b724c5', '83f77388-9e5f-47c7-8db8-222d3b50a5af', '1df75cec-7d80-49c8-a4fd-5857a2ad5d08', 'c942fb81-614b-4a38-927f-0da751fbc6f1', 'b984dab8-3dd3-4801-9c4d-cea1a682ac75', 'c93f585f-636a-4c71-ab15-27427d0a9004', 'fbae055d-8087-4422-bde0-716fcbd012df', 'da6c2212-a80f-464d-adb4-b207a0006498', '5a158d79-86cc-4ce0-ac55-3b7956d04aa2', '41d15ca7-9717-4c41-a5d1-7e10751cfc29', '2e4901cc-3f3c-4b39-ab3b-a8b580b8271c', '2732f489-c360-43c6-9ffe-3048bafe7c60', '0a6ac1b0-ab6a-43c3-aae4-f4c40e3e8cca', '83590275-7372-4179-a6d3-f2d765e96cef', 'cdd1a732-447c-4297-b707-c41b71d79571', '15bfcfc5-710a-4330-8223-713ec2373215', '8864b115-d212-437a-a0d2-6450587e83c6', '8a6b717a-1b10-4229-81ee-012e32fc69ad', 'a48012d9-fb31-4261-b6dc-146fa08834a8', 'e3131cfa-9d05-4f3e-9646-5af231508a3a', '9cb77ed7-af84-4a12-8de5-28bbda4387b0', '36702fb1-6da7-4b42-9c3e-db492c387987', '0db3cd92-7cb6-4830-9160-2015717d45f7', 'd1ae2598-260c-4c78-acce-e054c1118dc8', 'baba5372-9d72-4456-b647-cf584811c0d1', 'ba050764-b2c6-41c1-9cb0-be16eb9cb873', 'cf7bd446-b748-4d17-a4bf-c2bfe8ea4c88', '8eecf226-5bf9-430b-ac78-cbb11274765d', '4a825231-fe57-48bb-b42a-de9fdc8a541a', '10adc5aa-559b-49cc-85b8-97cba08b62e3', 'ec367840-2a74-41f6-9fa8-ae2efcc324c5', 'ddf96986-5f48-43c5-8336-eeb809317854', '219f44d3-f454-4ba6-b775-e88bf76b1097', 'f956ff8e-0695-4bd4-953a-5e460518dc4e', '6028f3b1-6b87-4034-bb91-64bd26763ffe', '0901be40-13dc-4847-addc-3eddf63d4760', '1daf795e-8a78-493e-ae25-a5c8d766fcfb', 'aeb0a594-9bf0-494b-a4c3-544aae8db3b6', 'cebd7ad3-9cd1-4ff9-b16f-459806d39de1', 'cf78d125-d81f-488f-8858-2ff5563b0b5d', '5236e7dc-f394-4fb2-8176-c740219b6305', '667c8b9e-99f3-432e-a5db-7b5228188326', '6698b0a5-4317-439d-9f6a-6737178e051c', '4538c52b-f683-43c9-81de-b375b69b801e', '547b4529-7bdb-47d6-9508-5454a86dfd9a', '5256eb4d-c24b-4eed-b5bb-b20c09f77bd1', '1d9a1333-c39b-4858-96fa-301463b9351b', '1a9c8227-fce3-4f2c-b58a-6615bbd492e0', '5faffab4-c3ed-4414-b3c7-c64057e23370', '2a17fa78-926e-473e-8252-f5262e4d0325', '490e96f2-0d54-43dd-a30e-5632ad6b8275', '7c3f35fe-321c-473d-aa8e-6342a8fd9354', '762f8ddf-8f14-4d83-89d8-5d57a09a0f85', '032bf93d-c88b-4ecf-a0e4-e67c592b4c1e', '7ca75c8f-67dc-4d9e-97de-f15c9fedca73', 'f47a561f-ebac-4786-9d2a-984602c8090e', '989942f4-dc25-41f0-8069-b132c174beee', '2b3b896d-c4e9-4670-9905-7ef1ad265adc', 'a6b25096-0ad5-4df1-937c-d56d4d05f63c', '6f5106b0-cb72-4019-9a7c-ee1c60644e56', 'e4800b29-d540-4fb8-9792-9647a90c041d', 'e0b7a388-f941-4df7-85bf-f34a4087a8d1', '71d58eac-e75d-4a92-9600-f5c2c5f0bf6b', '26c25ffd-1585-4fc7-9e38-02dbd478bbfc', '5630a870-54a7-46f6-b1fd-5d014beca7e7', 'f63a1114-e0c8-40ad-9278-1f7417512d87', 'de1aa9f7-edd3-4e4b-82bb-cc993ade96ac', '91ebd9cc-29af-4e3a-bce5-94d859b8ca24', '5d598f68-7ade-4483-b98f-0f4a9f4d9ab5', '5e1d1143-d88f-4551-9824-0f498e770185', '4dc3e84b-ee88-4c02-bcf4-b3efe7f2d960', 'a5924925-b6a0-41c8-92f3-168789197350', '82ca2432-4f6b-48af-a17e-8d517875a70e', '658fa6e6-9875-4ddb-97d0-33184d03819b', 'c917eadc-6f44-4a25-822a-62ab16748d03', '1a4374f2-3df9-4be3-abc1-273bc195c018', 'a34db4cd-adfe-4406-8182-37f06f670af3', '2305d451-ae04-4ddc-b9ab-d75512ce1745', '6c1585e9-6d8d-4b8e-b524-e4ee98e35048', 'f74b2351-2223-4cbb-abe8-3de9fd131f23', '2105863e-ec64-4f1b-b5d0-de7dbcad0caf', 'd7ed029d-0edc-4045-b578-57280bc88de4', '67286eab-d8fa-46b2-8c3d-19f430210802', 'ac09226e-5d9b-4658-ae8f-9e03e133d7ff', '8371cc39-f52a-449e-b24b-8912f14075fc', '35328979-9f84-4554-9555-a07ca961c73a', '850b4649-1ee6-4a4b-8b32-3b6d7fc88dbd', '9e1245c6-1451-4ade-889a-3d58d5cf4a0a', '0f631148-fb1a-4f63-a55e-0af7e4673140', '1390451f-cf5a-4988-a227-8495b671a9e3', '85bc05ea-96b9-4db8-91fc-70ea06198f07', '2a7cd631-6dde-42c1-9498-08d3478c7ef0', '692d36f0-1184-41d9-9cc7-f14a00c6147f', '260851b1-7f28-43c9-bf8a-cfa8d551bfb3', '9bab833b-cfd1-44f9-a7ed-ee24a92f8d5f', '533a227c-2532-4e64-8b29-9b7e644d0d40', 'e08b155e-3f5f-41d7-b6dc-f680f8ae6071', '95ab9f17-c604-4dd1-bc25-ec364ca76e3b', '481513e5-1521-4359-bef7-007eadab8956', 'c6134b03-2021-4b3e-b8ca-2acf72cd7a9b', '0d1c056b-7443-410d-8af6-5e7c23545496', '15a57b2d-e6d6-401a-940c-7f51232a9030', 'f0485291-db2f-4007-8839-16c77e83747a', '044bf927-85e2-4135-b8cb-0f30ce6439d2', '24329349-e85f-4aeb-b99a-349bc33dbf58', '6f0601c7-3c5b-43c9-932a-33464a7c9f68', '6e396011-2e81-4901-8d5a-7a882e373474', 'fd172ae8-e16c-4b94-b763-72aeb8a21f77', '0756b191-43d4-46fb-9915-2eebff562639', '7754ef23-44f8-4f1b-833d-82c12a14b7a2', 'fac238d3-02d8-4800-a266-1c56ba7e2695', '695f094e-4d9f-497e-bcec-ededb9dad7d7', '83fe0f1e-eafc-49f7-83ea-41f126afce3c', 'bee4eb61-13af-4dab-a670-216e277e1203', '976276cc-434a-4373-83b5-97421790222a', '90efaebd-242e-45c5-b602-7e15337efde4', '451899b4-fc86-445d-bcf2-7a5e64c6d929', '297e2603-7f88-4240-bc83-88ed5c2f8a11', 'ea04ca8e-c774-42ac-9b1f-7d6a4caf5433', '1c06917d-377e-4446-8b2f-962633fc20b1', 'c1406a6c-28fb-4dcf-b06d-0f949f3fcf28', '6dcc2a26-afe5-4757-8f51-520772ef61d6', '6b9c7da7-0836-410b-87ed-60c362bb35d8', '5cb093d0-b8e0-4d22-ab24-5b86a46e6cfb', 'e059a4b5-6e88-4897-9558-bc50e02b404e', 'bebdd7cc-756a-4418-ac02-918f8510dc96', '8379be9e-de19-4394-a120-9fcb336e57ea', '6e3786e1-2207-476b-9ca1-26a5ee82bc2f', '18c2c2df-5d63-43cd-9e6f-dd8a909b4965', '5ae79477-085d-43b0-9453-4bc7cd35cfa8', '577bc4a9-95e2-4763-9252-57acd7da7ffd', '9fbfc59e-0f74-4d16-b7bc-89ab2089a732', '8e21d8d5-1555-4750-8397-581e861ee014', 'cfffcfe8-35ed-4163-9a14-ba5b172a319c', '6fd47ad7-72ec-4270-aaf5-783683d0d089', '64b1fd2a-bec2-44ac-a9b6-5d9283648e68', 'a5b11b26-e5f6-4311-8521-3a2e0f3ad620', '401118ed-85ed-4cfb-98f7-ec1e85f35d7e', '6997af14-b753-4af8-8864-8673fe73d61c', '2bc797e9-3630-429f-b51b-f37252b3ea81', '4478728c-fc12-4932-87d1-e4adeebfa56e', '9a946f01-0b17-48d3-9d3e-4ad063e20f80', '25643afb-3042-4b24-b765-5809f4e55b4e', '95c82645-18ef-4469-8ece-8515ccbc931d', '88de735d-80dc-484d-a1c1-bb05fe50480e', 'b283a0eb-83b3-4c49-85b9-c3a0a7525c85', '2c49ff29-3f3a-4209-82da-6c9cf9610c4b', 'b7d2c5a4-7b67-4094-9802-4663655a13e6', '035104a6-49aa-4bb8-8c0c-a013efc401ab', '4a81617d-1cbd-4681-bab6-8cfdce955cf5', 'd839d1e4-b7b7-411b-b19a-388fac907ec5', '1711e6fb-ca07-4ed7-b2aa-2bfe0b0296ef', '3ce4da8f-9dbe-4fed-ae05-43ecac2bf84a', '94c0ba90-403d-4ed2-8d51-dde9bf38fc44', '45c48041-9e0d-4a63-adbd-17c0221830f0', '6972ed0b-95bc-4888-8147-e495016c1306', '76319a82-3044-454f-82fa-9009d8fb4e02', '7cdfcdf2-522b-49e2-9055-ada8ab5702d9', 'faf3dcc7-e6fd-45ae-bd30-6ac508a8099c', '89087554-3a35-4fe1-a115-249648b0acaf', '5320c0dc-72c9-414d-a826-c4e0cb1c38be', 'fa93082f-0054-4809-b469-aa21313af516', 'c2254942-9b3f-47a1-9e79-bf8dd3746091', 'e637b3a0-062d-4257-9986-155ccb4157fb', 'f2376726-6472-463d-8a66-612ba1e82e3a', 'c3eb6785-4291-4bde-9f2b-95ab40834884', '2f8355ee-4fc8-404e-a5a3-7c06325a92c3', 'd2eb2ead-ed81-4718-9f5f-f6509b6ac3ad', '6dda02eb-dd91-4692-93ff-d8dbc514380d')) .\n",
      "    ?n1 dct:created ?dct ;\n",
      "    dct:publisher ?pub .\n",
      "    ?pub dct:spatial ?location .\n",
      "    FILTER (str(?location) NOT IN ('http://dbpedia.org/resource/United_States','http://dbpedia.org/resource/Europe','http://dbpedia.org/resource/Africa','http://dbpedia.org/resource/United_Kingdom') ) .  } }\n"
     ]
    }
   ],
   "source": [
    "def get_news_from_fun_locations():\n",
    "    query = get_sparql_top() + get_sparql_middle('location') + get_sparql_bottom()\n",
    "    print(query)\n",
    "#    print(query)\n",
    "#    import sys\n",
    "#    sys.exit(0)\n",
    "    res=get_sparql_results(query)\n",
    "    return res\n",
    "results=get_news_from_fun_locations()"
   ]
  },
  {
   "cell_type": "code",
   "execution_count": 15,
   "metadata": {
    "collapsed": false
   },
   "outputs": [],
   "source": [
    "#print(results)\n"
   ]
  },
  {
   "cell_type": "code",
   "execution_count": 16,
   "metadata": {
    "collapsed": false
   },
   "outputs": [
    {
     "name": "stdout",
     "output_type": "stream",
     "text": [
      "126\n"
     ]
    }
   ],
   "source": [
    "print(len(results))"
   ]
  },
  {
   "cell_type": "code",
   "execution_count": 17,
   "metadata": {
    "collapsed": true
   },
   "outputs": [],
   "source": [
    "import datetime\n",
    "def time_diff(t1, t2):\n",
    "    ta=datetime.datetime.strptime(t1, '%Y-%m-%dT%H:%M:%S')\n",
    "    tb=datetime.datetime.strptime(t2, '%Y-%m-%dT%H:%M:%S')\n",
    "    print(abs((ta-tb).days), ta, tb)\n",
    "    return abs((ta-tb).days)"
   ]
  },
  {
   "cell_type": "code",
   "execution_count": 18,
   "metadata": {
    "collapsed": false
   },
   "outputs": [
    {
     "ename": "SyntaxError",
     "evalue": "invalid syntax (<ipython-input-18-dde1fdb20af0>, line 11)",
     "output_type": "error",
     "traceback": [
      "\u001b[0;36m  File \u001b[0;32m\"<ipython-input-18-dde1fdb20af0>\"\u001b[0;36m, line \u001b[0;32m11\u001b[0m\n\u001b[0;31m    time_diff(r1['dct']['value'], r2['dct']['value'])<=limit_days]): # less than a day\u001b[0m\n\u001b[0m                                                                   ^\u001b[0m\n\u001b[0;31mSyntaxError\u001b[0m\u001b[0;31m:\u001b[0m invalid syntax\n"
     ]
    }
   ],
   "source": [
    "from collections import defaultdict\n",
    "def hypothesize_coreference(results):\n",
    "    c=0\n",
    "    coreference_sets = defaultdict(list)\n",
    "    for r1 in results:\n",
    "        for r2 in results:\n",
    "            src1=r1['src']['value']\n",
    "            src2=r2['src']['value']\n",
    "            all([r1!=r2, # not the same\n",
    "                 r1['location']['value']==r2['location']['value'], # same location\n",
    "                 time_diff(r1['dct']['value'], r2['dct']['value'])<=limit_days]): # less than a day\n",
    "                key=r1['location']['value']\n",
    "                found=False\n",
    "                for news_set in coreference_sets[key]:\n",
    "                    if any([src1 in news_set,\n",
    "                            src2 in news_set]):\n",
    "                        news_set.update([src1, src2])\n",
    "                        found=True\n",
    "                if not found:\n",
    "                    coreference_sets[key].append(set([src1,src2]))\n",
    "    print(coreference_sets)\n",
    "    return coreference_sets"
   ]
  },
  {
   "cell_type": "code",
   "execution_count": null,
   "metadata": {
    "collapsed": false
   },
   "outputs": [],
   "source": [
    "coreference_sets=hypothesize_coreference(results)"
   ]
  },
  {
   "cell_type": "code",
   "execution_count": null,
   "metadata": {
    "collapsed": false
   },
   "outputs": [],
   "source": [
    "loc='http://dbpedia.org/resource/Queensland'\n",
    "print(coreference_sets[loc])"
   ]
  },
  {
   "cell_type": "markdown",
   "metadata": {},
   "source": [
    "## Example defaultdict"
   ]
  },
  {
   "cell_type": "code",
   "execution_count": null,
   "metadata": {
    "collapsed": true
   },
   "outputs": [],
   "source": []
  },
  {
   "cell_type": "code",
   "execution_count": null,
   "metadata": {
    "collapsed": true
   },
   "outputs": [],
   "source": [
    "coreference_sets = defaultdict(set)"
   ]
  },
  {
   "cell_type": "code",
   "execution_count": null,
   "metadata": {
    "collapsed": true
   },
   "outputs": [],
   "source": [
    "key = ('2016-11', 'Baton_Rouge')\n",
    "value = 'news_item_identifier'"
   ]
  },
  {
   "cell_type": "code",
   "execution_count": null,
   "metadata": {
    "collapsed": true
   },
   "outputs": [],
   "source": [
    "coreference_sets[key].add(value)"
   ]
  },
  {
   "cell_type": "code",
   "execution_count": null,
   "metadata": {
    "collapsed": false,
    "scrolled": true
   },
   "outputs": [],
   "source": [
    "coreference_sets"
   ]
  }
 ],
 "metadata": {
  "anaconda-cloud": {},
  "kernelspec": {
   "display_name": "Python [conda root]",
   "language": "python",
   "name": "conda-root-py"
  },
  "language_info": {
   "codemirror_mode": {
    "name": "ipython",
    "version": 3
   },
   "file_extension": ".py",
   "mimetype": "text/x-python",
   "name": "python",
   "nbconvert_exporter": "python",
   "pygments_lexer": "ipython3",
   "version": "3.5.2"
  }
 },
 "nbformat": 4,
 "nbformat_minor": 1
}
