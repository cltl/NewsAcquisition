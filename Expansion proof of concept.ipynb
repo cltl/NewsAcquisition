{
 "cells": [
  {
   "cell_type": "markdown",
   "metadata": {},
   "source": [
    "## Example defaultdict"
   ]
  },
  {
   "cell_type": "code",
   "execution_count": 7,
   "metadata": {
    "collapsed": true
   },
   "outputs": [],
   "source": [
    "from collections import defaultdict"
   ]
  },
  {
   "cell_type": "code",
   "execution_count": 8,
   "metadata": {
    "collapsed": true
   },
   "outputs": [],
   "source": [
    "coreference_sets = defaultdict(set)"
   ]
  },
  {
   "cell_type": "code",
   "execution_count": 9,
   "metadata": {
    "collapsed": true
   },
   "outputs": [],
   "source": [
    "key = ('2016-11', 'Baton_Rouge')\n",
    "value = 'news_item_identifier'"
   ]
  },
  {
   "cell_type": "code",
   "execution_count": 10,
   "metadata": {
    "collapsed": true
   },
   "outputs": [],
   "source": [
    "coreference_sets[key].add(value)"
   ]
  },
  {
   "cell_type": "code",
   "execution_count": 11,
   "metadata": {
    "collapsed": false
   },
   "outputs": [
    {
     "data": {
      "text/plain": [
       "defaultdict(set, {('2016-11', 'Baton_Rouge'): {'news_item_identifier'}})"
      ]
     },
     "execution_count": 11,
     "metadata": {},
     "output_type": "execute_result"
    }
   ],
   "source": [
    "coreference_sets"
   ]
  },
  {
   "cell_type": "markdown",
   "metadata": {},
   "source": [
    "## Obtain seed set of document using Elasticsearch\n",
    "\n",
    "@Filip: can you check the param values below?"
   ]
  },
  {
   "cell_type": "code",
   "execution_count": 4,
   "metadata": {
    "collapsed": true
   },
   "outputs": [],
   "source": [
    "import utils"
   ]
  },
  {
   "cell_type": "code",
   "execution_count": 5,
   "metadata": {
    "collapsed": true
   },
   "outputs": [],
   "source": [
    "base = 'http://news.fii800.lod.labs.vu.nl/news?'\n",
    "args = {\n",
    "    'q' : 'earthquake', # the query terms to look for\n",
    "    'in' : 'content', # look in title, content or both (supported values are: \"title\", \"content\", \"both\")\n",
    "    'from' : '2015-09-01T00:00:00Z', # from->starting datetime point\n",
    "    'to' : '2015-09-30T00:00:00Z', # ending datetime point\n",
    "    'source' : '', # source -> which source\n",
    "    'media' : 'News', # media -> media type (\"Blog\" or \"News\")\n",
    "    'size' : 1000, # size -> amount of results to return\n",
    "    'offset' : 0,  # offset ->skip the first offset results (useful for pagination)\n",
    "    'match' : 'conjunct'\n",
    "}"
   ]
  },
  {
   "cell_type": "code",
   "execution_count": 6,
   "metadata": {
    "collapsed": false
   },
   "outputs": [],
   "source": [
    "all_results = utils.get_all_hits(base, args)\n",
    "news_items_ids = set(all_results.keys())"
   ]
  }
 ],
 "metadata": {
  "anaconda-cloud": {},
  "kernelspec": {
   "display_name": "Python [conda root]",
   "language": "python",
   "name": "conda-root-py"
  },
  "language_info": {
   "codemirror_mode": {
    "name": "ipython",
    "version": 3
   },
   "file_extension": ".py",
   "mimetype": "text/x-python",
   "name": "python",
   "nbconvert_exporter": "python",
   "pygments_lexer": "ipython3",
   "version": "3.5.2"
  }
 },
 "nbformat": 4,
 "nbformat_minor": 1
}
