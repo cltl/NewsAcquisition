{
 "cells": [
  {
   "cell_type": "markdown",
   "metadata": {},
   "source": [
    "## Obtain seed set of document using Elasticsearch"
   ]
  },
  {
   "cell_type": "code",
   "execution_count": 1,
   "metadata": {
    "collapsed": false
   },
   "outputs": [],
   "source": [
    "import utils"
   ]
  },
  {
   "cell_type": "code",
   "execution_count": 2,
   "metadata": {
    "collapsed": true
   },
   "outputs": [],
   "source": [
    "import urllib.parse\n",
    "import urllib.request\n",
    "import requests"
   ]
  },
  {
   "cell_type": "code",
   "execution_count": 3,
   "metadata": {
    "collapsed": true
   },
   "outputs": [],
   "source": [
    "base = 'http://news.fii800.lod.labs.vu.nl/news?'\n",
    "args = {\n",
    "    'q' : 'disaster earthquake', # the query terms to look for\n",
    "    'in' : 'content', # look in title, content or both (supported values are: \"title\", \"content\", \"both\")\n",
    "    'from' : '2015-09-01T00:00:00Z', # from->starting datetime point\n",
    "    'to' : '2015-10-01T00:00:00Z', # ending datetime point\n",
    "    'source' : '', # source -> which source\n",
    "    'media' : 'News', # media -> media type (\"Blog\" or \"News\")\n",
    "    'size' : 1000, # size -> amount of results to return\n",
    "    'offset' : 0,  # offset ->skip the first offset results (useful for pagination)\n",
    "    'match' : 'conjunct'\n",
    "}"
   ]
  },
  {
   "cell_type": "code",
   "execution_count": 4,
   "metadata": {
    "collapsed": false
   },
   "outputs": [],
   "source": [
    "all_results = utils.get_all_hits(base, args)\n",
    "news_items_ids = set(all_results.keys())"
   ]
  },
  {
   "cell_type": "code",
   "execution_count": 5,
   "metadata": {
    "collapsed": false
   },
   "outputs": [
    {
     "name": "stdout",
     "output_type": "stream",
     "text": [
      "401\n"
     ]
    }
   ],
   "source": [
    "print(len(news_items_ids))"
   ]
  },
  {
   "cell_type": "code",
   "execution_count": 6,
   "metadata": {
    "collapsed": false
   },
   "outputs": [],
   "source": [
    "ids=str(news_items_ids)[1:-1]"
   ]
  },
  {
   "cell_type": "markdown",
   "metadata": {
    "collapsed": true
   },
   "source": [
    "## SPARQLing earthquakes"
   ]
  },
  {
   "cell_type": "code",
   "execution_count": 7,
   "metadata": {
    "collapsed": false
   },
   "outputs": [],
   "source": [
    "boring_locations=[\"United_States\", \"United_Kingdom\", \"Africa\", \"Europe\"]\n",
    "boring_URIs=utils.to_dbpedia(boring_locations)\n",
    "limit_secs=60*60*24 # seconds\n",
    "limit_days=1 "
   ]
  },
  {
   "cell_type": "code",
   "execution_count": 8,
   "metadata": {
    "collapsed": false
   },
   "outputs": [
    {
     "name": "stdout",
     "output_type": "stream",
     "text": [
      "PREFIX dct: <http://purl.org/dc/terms/>\n",
      "PREFIX nif: <http://persistence.uni-leipzig.org/nlp2rdf/ontologies/nif-core#>\n",
      "PREFIX gaf: <http://groundedannotationframework.org/gaf#>\n",
      "SELECT ?n1 ?src (group_concat(?location;separator=\"|\") as ?locations) ?dct WHERE {\n",
      "  GRAPH <http://longtailcorpus.org> {\n",
      "    ?n1 a nif:Context ;\n",
      "    dct:source ?src .\n",
      "    FILTER (?src IN ('4eb2ef55-0bd6-47d4-b2b3-94f72177a526', '4973ff82-f655-4982-8188-4e560ce68206', '126fbb6c-0be0-4499-a03b-76f26da209de', '9cb77ed7-af84-4a12-8de5-28bbda4387b0', 'a04a1644-b0bf-452b-a094-6182bf14cdd0', '1a777720-551b-41bb-8b24-c81d4efbeeb6', '0c5ad1f9-8e2d-4487-bb97-217d381938d5', '7b28a73d-2370-4d96-bb46-fe22ab1399ec', 'b8f21945-8a2d-4a41-a73c-a824357ef5fe', '60a53a8c-42ab-4531-a2f9-9d092ce4d388', 'd1e2143a-f237-4ffd-a9e1-285b5d14904d', 'e790275d-40bd-4771-9ae8-bc8b4a672237', 'd1ae2598-260c-4c78-acce-e054c1118dc8', 'be11b3fb-2a9d-4032-bb88-6d00c3386619', '2a109a88-a3ac-4e0d-a227-3ba99a813930', 'e8756fdf-bf5f-47c1-9bad-ca468cb2ae2b', '7aec6ced-2342-4b8a-be78-22a1dd67eb14', 'f644ea69-1639-4574-964e-832b2fa2b736', '36de4895-a5a2-4775-8421-b773016e7476', '6dda02eb-dd91-4692-93ff-d8dbc514380d', '81385d6b-86ea-41c8-aaa8-6f5e14af3970', '9d74be2e-c94b-4856-9689-600f5b81b493', 'e0b7a388-f941-4df7-85bf-f34a4087a8d1', 'aeb67a06-b4f9-4157-a5ca-adc780aa6aa5', 'c2d45788-c219-4297-b62e-5d63b74aec09', '1585a328-ee30-4418-a64f-771d9e207efb', '8c2b5151-0d00-47c1-8097-d9ef756fb488', '882f710f-e5fc-4f30-b22f-1444fbc0b2d4', 'ba549e4f-e492-4689-b8b0-42a0c478e27b', '691d98ae-426b-4cc0-bddb-cd31c2adbfe3', '5a7e8a12-ec75-4b9d-910a-85bb125e9474', '91d090be-ae63-4147-b812-2f046ec6eaf0', '03fa9e2b-7eaf-4150-acba-bdbcf8fefb7a', '460706c6-1cce-42af-9c96-f74d5e4523aa', '7a708773-ef33-45a7-9e07-045070424c73', '034dd764-fe01-4dd4-8e16-763d76872f23', '0fd860e8-6f53-4474-99b3-6cb2b305616a', 'f764a176-8f00-4cd1-9af9-4a4073d11c2a', '075336fc-d59b-4f36-a5ad-52de3249d54c', '4873a1f3-8d51-4996-89ac-af45dab2d075', 'f70abed0-4816-4cee-8419-2cc438bc69d9', '887e3315-1cde-4f28-b458-4b7ed0d1f955', 'a1f8a2c4-5674-4301-bfaa-0ec6ad378123', '207c20e6-e98d-4971-ae77-38cfe98c2434', 'cc1cd0d4-9082-476a-aaa7-f04d37b591c5', '1daf795e-8a78-493e-ae25-a5c8d766fcfb', 'f8d0690e-75f5-4b6a-bc36-7fd0813b5e2e', 'a6b25096-0ad5-4df1-937c-d56d4d05f63c', '62772252-94ea-46f4-81b7-5a999f95c7de', '660e28ed-683f-4959-aeb7-14243045bd00', '5b5f65f4-2247-4406-8987-fac0e8a9fde5', '2ae2476e-bd8d-4c44-ac71-38e903f659b2', 'ecd6ec3d-62d6-49f3-ba4c-6f23efb42282', 'c8482cb2-2f23-4b57-9756-ff36b5e0265f', 'eb4edb1a-3063-4b29-9536-916c887788b2', 'e9bbd03a-4616-4f25-953b-3e2dfd36e5ef', 'a0901d25-ee30-4b64-96fe-6a2a5cf771db', '80777c16-19b6-4f41-bc98-bddffe1e2898', '3faad4b4-ed98-4848-a8eb-fb4ba6926897', '67acf1bc-5d16-4dde-837d-135401eb95e3', '4c5040e5-d630-4736-8f1d-ff05594419ef', '411cf2c8-966e-4a97-89f3-31ae35a44de9', 'd74a93a0-9633-4373-bd19-85d543c8ce4d', '3a53f8bf-6c89-4923-8502-9b2fdf4896d5', 'd5435de4-a494-4596-81e9-530eab6506a0', 'd9b8f8f2-0f50-400c-92c6-01631e4bc912', '808a6da6-3e42-4ab3-8be3-c7c8da262f9e', '3fd9b0d8-ed30-4b3b-ac9e-b4693b6f0fe6', '1d9a1333-c39b-4858-96fa-301463b9351b', 'ec2f3111-086e-429e-9e84-8f1c46ab5c15', '9529ce14-b287-4f17-9d82-97853983b064', '16313ce9-9fa5-4e3e-9f21-12224e4a0036', 'fca926d2-9369-4c78-bd25-fb5efec41e9d', 'c7221396-ee73-4a1b-8287-151f22c9c53a', '9bdb9ca0-c583-4937-98da-89ee1490567d', '6f386547-94d7-48f8-959c-635e2514a884', 'f75c9a84-7bba-46eb-b097-1235ad5a2f55', '83fe0f1e-eafc-49f7-83ea-41f126afce3c', '629f890b-d9ca-4a11-b07b-74ac69658da7', '06c6f881-acc7-46e1-a88c-2d4e6ab960a4', '226dd2e4-2bf3-487f-a5a7-6410ade4907f', '5630a870-54a7-46f6-b1fd-5d014beca7e7', '858e4105-f919-4b54-92a1-413bf641d2ae', '69b31fe2-bda0-48a9-8162-52c1267b15cb', 'b953f335-0cc1-4a23-abd7-fb87e84547d5', '3ce4da8f-9dbe-4fed-ae05-43ecac2bf84a', '0aabbbee-a322-42a0-8626-5ef5b6893811', 'aeb9e80c-b6fa-48d7-9e78-61fcd097b7a6', '642bef52-4963-4875-ade1-9ea9600c0635', '92de5fe7-e794-4f46-a17b-ae813804e65a', '72833152-429a-4fa9-a009-4a774d935779', 'aacc3e71-0a0d-490e-a6be-4255b16cd3da', '963f0f57-d770-4f51-ad2a-562000fcacf0', '2ac041e4-54ee-4cec-bcfd-39a0941c0054', '29405e64-8588-4523-abf1-9d626a8efda8', '79612a02-d501-4b9a-8436-270f53eae7d3', 'dc76ab85-16b4-4f02-b225-0ed3b8751562', 'b70a93d9-2d36-425d-b577-6cd5b3760d93', 'c6134b03-2021-4b3e-b8ca-2acf72cd7a9b', 'a48012d9-fb31-4261-b6dc-146fa08834a8', 'e059a4b5-6e88-4897-9558-bc50e02b404e', '8acef70f-16ab-4bee-912c-816920b90496', '3bb8dc8e-4d98-4c8c-87d9-ba16cb5e08fa', 'c6d214c5-93b2-4a8e-ad7a-922c52d03545', '49192aa3-f044-4bef-9cf3-2c15c1022a2a', 'fa8823f2-e80b-411d-b101-ba7e8bc954d7', '401118ed-85ed-4cfb-98f7-ec1e85f35d7e', '34cbf5b3-ab95-4e4f-8ae4-425001a82fef', 'b26a41f2-b9aa-4ce6-b6aa-d76678b514f4', 'f3f7d64f-112a-4dd3-a816-b42226854949', '9e9da578-7278-4048-904d-30b765f3f21d', 'ec367840-2a74-41f6-9fa8-ae2efcc324c5', '6c46fa78-cff7-4cd6-83f1-8063795bd30c', '53298ec6-37fd-41d6-a7c8-73e97160389d', '4f135a92-a775-4f54-b264-e8f01c76d103', '7eafbd85-a15c-41a8-b251-5b662889faba', 'aa8cd255-e490-449e-a354-09e4fee5218f', 'f5767182-5e9c-4c93-ab89-9a30cda21567', 'bc9f46d8-bdda-481c-b7f0-1d96b87cd682', '533a227c-2532-4e64-8b29-9b7e644d0d40', 'd9a5bd89-ab80-4ecf-af3e-d0d4c712c1b4', 'e35a1f12-8915-41c0-b873-b8735181b360', 'ae12be0f-f809-4f73-8e53-1c2ad24b2208', '26681012-0a93-48c8-8411-56a862bbfe82', 'f288a6f6-d2c8-4217-83b0-babeb0687d3a', '1441bea7-1b27-461c-b4c7-ea6b0c9f7f55', '04009ac1-dcf3-42a9-9f59-5e2c354e220d', 'a07b42a2-f989-4ec2-9210-ded652131bc7', '8a77e0a8-6604-45fa-82cc-90cdc3ef06d5', 'b1b0e3d7-52e4-4e8e-8cbf-3311d21de230', 'e64442b5-f9cf-4061-833b-4d5751b0ede1', '3857089b-efa4-4877-bbfa-5afc1ad34e75', 'd2eb2ead-ed81-4718-9f5f-f6509b6ac3ad', 'fac238d3-02d8-4800-a266-1c56ba7e2695', '03937054-a11a-476f-9ea6-4e8e40fa8e2a', 'd23f6e28-f6b6-4fc4-a249-748f184566d1', '0e5c2c57-e054-410c-8a7f-bbc13918499c', '0254ea23-c473-4801-ac39-5ede109814b6', '100c8ab5-d32d-478c-80d6-aed96805ddf4', '1315f020-4dec-4a83-a4f2-3c834517a207', '6c4b52e1-e356-45e5-aaf2-76e2ff878156', '456c69a3-63c4-4bb8-96e0-1a61e0d0b6a3', '12c2ca2a-fff3-4cab-9fff-473861061b8a', '9e459bda-afcb-4010-9515-9186115d3c2d', '492d5760-6c24-4033-851a-73c97b4a2a3a', 'd5ca8ba6-e48c-4d1d-b433-d94d8304f2ab', 'c39efd39-4483-4e7a-8eb3-dbfe82169fa2', '9b7dbee1-fb42-487b-9e59-234518aaace6', '663b4f99-706b-45a8-b2d4-54d96c795fb6', 'c4ec3fcd-4f9b-442b-8f7c-c053603669e0', '90efaebd-242e-45c5-b602-7e15337efde4', 'df76cfb3-f640-44f9-9914-2446b6dd145f', '6c58338b-39f4-4e9d-b638-a67b41d13d2e', '1c06917d-377e-4446-8b2f-962633fc20b1', '747f5cf9-5d2f-4931-858e-51fa647de991', '70e8dceb-9357-41be-bfa0-0854700f97ff', '7a6e9d9e-ad94-4cd3-8ab0-e991127b13d4', 'acdc2e41-3d48-455a-a336-b776884ec6c5', 'ae481011-abef-44ca-a0ad-b080ad14d88e', '042d7e8c-8ee9-42f7-9e0e-e9622878b20d', '1e545452-7367-4273-a21a-ed8dd1985a98', '1f296673-7d7f-4f10-816a-128ba46b7c69', '7646f944-051e-49d7-8c1c-2e54f68c52f7', 'a9a3a9a9-df4c-429c-9817-bc5c80a04b43', '66bc5e52-64ff-4862-bb1f-790d8dbfce19', 'b7aa8c1f-14e8-4d5e-b300-14b6bad2b92f', '2b182c9f-b042-484d-8486-8b52232a14e5', 'c990469b-941d-4732-ab0e-5fde5ddab5c5', '645e1409-37ea-4a8b-8967-6b5c16b74428', '375ae524-f920-4039-88c3-0117d9ebdbaf', '17b0bad0-2646-41d4-be52-7551e21c298a', '9e826aa3-a55a-47f3-bc64-12fb3bad6b8d', '2634cf79-eae7-4533-876f-c07e8e8070cd', 'cbc98062-8160-4954-9459-fa77056445bc', 'c253cdbe-c359-4534-8d74-12a9db3b3f79', '4a75afd7-be97-42d3-a0eb-7a1f860a723a', '1d326d8a-9bb2-4122-956e-8af7960abd24', '57449c6c-4b14-44e5-ba52-cc584b77caf3', '7bd5ed1c-bef4-42c7-978f-e927ba49d760', '354b450e-c1b7-4588-9024-0f459039bd7c', '1c9be770-babb-4218-990b-5d2f6aa4e9fa', '2a660feb-075d-4ed6-99be-b38a577bc261', '00d9792f-6d42-44c2-b676-a15ce79b931d', 'ed255a2d-0d38-4cdd-9905-0014f294cab1', 'ed05e4ad-6bbe-41c3-9720-f8cd9976db9a', '16b10a5e-2dc6-4105-ae4e-0184c1f5832a', 'ea531313-8e23-4523-b5e0-281eb66506da', '9a4f1a01-c461-4db9-b569-42508a46e8e0', '51bbf8c8-20cc-4fa5-984c-707abe9083e9', 'f27337cd-a9b8-4ce4-b55a-247069253d68', 'b15a0895-b6ce-490f-9700-0a3472b53181', '478ee721-bd63-4e52-b066-6ac4fa4288c0', 'cffa381b-4e5a-4ff5-9c5e-902b5e53527f', 'a3974fe7-dd3c-4ee9-8951-2228904b551c', '01f111c6-6cb3-4d20-a81c-1c73ee955a6a', '32fd305e-9634-4e9e-ac75-1239d76ae908', 'bb59cc09-6b5c-4a7a-b05e-6bdce61e08cb', '06d7da54-8ca9-4797-b565-2181cc1d7a9d', 'dae5ff6e-ac33-400d-8395-ce2403009820', '93673ea5-44ec-4100-a712-69e3fcd251ae', '9fe586ad-84c7-4f96-ae66-cfe8d5ec1225', 'bc3c9b0c-338f-457c-a609-804f6ae786a6', '981e90b6-f461-4a4c-99de-e0e403607aee', '87fd8b46-17ed-4383-8c18-c3895f8b0b39', 'bc68b1e9-599d-46ea-ad17-3898cebf5b08', '2fe9e117-66f9-49f4-8540-82c0c16ebb1e', '620ab96d-ed3e-4aef-83af-69f1739acd4c', '630569cb-1401-4c06-963f-1e1718acccfa', '93679f23-3b84-4246-9822-bb140bf1a71c', 'eeaa2066-65bf-4a87-9470-8e40ee7e7377', '1b6df724-1bfe-4880-8fee-2917913dae8d', 'c75140d4-f0e4-4325-bbbf-1a010c44124f', '8be521be-526f-4e96-b95a-48f2f161825c', 'fc7bc3c7-6a42-4a61-a997-be0f3a5d3d10', '5fba30b2-cae3-49d2-bbb0-eb7f35022d53', '44b2a31e-ef23-4bd7-b2d0-a003c7d489d1', 'a7228094-5e5f-4ea9-b534-5f6e48dd3341', 'b4aa53ce-80e4-4ec4-88ab-53752da19f3b', '03438cf3-014c-4017-a7ca-995c0ab50519', 'd373f44a-a435-40a1-8a42-0792b8221344', 'b833993f-ff98-4187-8ba4-85447661fccd', '846b628a-6a71-4cb5-b0e4-71491e5c1806', '834a9677-37c8-48eb-8db2-cfd4b4b5a99b', 'c9e25cb1-4214-4102-8996-614de372c338', '7d5ae6aa-e612-4800-859d-ba5471e3e589', '7cfb3f78-f54f-44a0-adee-51d92296d366', 'eec141a4-af32-49fd-9aba-54bd7458b9ca', '00b8ed1f-be23-44ef-b951-e552268189ab', 'db97d6be-8347-4f8e-90dc-ea5ba9e7cbb7', '327b26a4-5a72-4759-ab97-22920bc41ed8', 'f41fb0f8-7420-474f-8837-536ced63f346', 'ee299346-822e-44cb-8fb8-583ef5690b6c', '6886650c-e7bc-4ac7-b6f7-37909be97ee2', 'c8e50281-4034-4591-9d36-2f18779309bd', '018ab35d-0e8d-4069-9117-59e4ca8ce9ee', 'fbc86e61-0e15-48d0-9528-7db3a2f1d2db', '79aa0dcc-2cd4-4d5f-ac98-46ee3efb3548', '51d47cea-65ad-4a2f-9442-a5d4780eb384', '8eb75880-c6ae-4197-befd-67687e2c6cb7', '09a87d33-0b3f-42b5-abe3-47deecd28035', '94e0a8a5-7e0a-4b77-bec4-354f684ed7ba', '3fb9b472-0868-4107-be97-7f2e60be0018', '63bd803e-1571-43f9-905c-b108b8100f08', 'faf3dcc7-e6fd-45ae-bd30-6ac508a8099c', '621c813c-f16a-4639-ba9f-6e5bbe0d4f97', '7818fc59-3bce-4ac5-832e-77c54ecec8ee', '79fa0760-44c0-47ed-b569-a8b04cc502ae', 'edbb6aff-b7d6-40f9-823c-3a3511858022', 'ce91c324-c438-4ec5-ba09-011a451ee37f', '65e7b7a4-f0ac-4899-8dcf-1a76d0ce871c', '97339616-7c62-48ee-be29-6cda845da0fe', '2450a18b-c9a8-44d7-b829-4060383982eb', '56c942aa-640b-4c3f-b4dd-95e1b1d57994', '01bf5c44-d942-4de1-a17e-2a5173b30e43', '6de9e2b6-3fc4-41fc-89ce-4c123579672e', '28298f51-11ef-44c5-8100-a6b35d204e5c', '2e538573-b90b-48cd-8733-4d8809253ad8', '33de8a4c-ee7b-4fb7-b861-b83cd4090558', '01242994-e39a-4946-bf4b-47f3e2c48a06', '35122de4-ab5e-40ef-8f97-e885b1eb6415', 'ac0c62fa-946b-4da0-9b61-f65e6daa30ad', '8dcf2d5e-7a26-46f0-9b1c-40ec26ae7898', 'fd4bd8b1-8ef3-4f79-ba0a-b94d77b3defd', '1c56c37d-5e55-45ca-a8ad-892059d8226b', 'c458d7ce-d123-40a7-899b-8ef57f358ba2', '55d83dd0-c974-4292-9a3c-76d3c3f944e7', '2dd5b1a7-c04d-4203-874f-0c0c49368cb9', '21948130-4ce4-4de0-895e-4dde6a49b803', '55584e03-15cc-473a-a040-2a2d0174ae81', '1cc8ac8c-cfd7-4765-a462-542a5595f402', '5cb093d0-b8e0-4d22-ab24-5b86a46e6cfb', 'f2d4b9e1-e32c-4896-9654-afd58c989e34', 'e805103b-8038-4ae3-b58e-655cd84a8f45', '1fff56c6-8769-4ab3-89b0-7a450c11da93', '49277944-8c3f-4943-930b-b0f17eb03187', 'ff0d5172-39d5-4edc-9dbf-dc27b9d9ff4c', 'da5dc3b5-5744-4c5f-bbcf-7366ff581594', '29dac463-19f8-4389-88d8-ed66b0e93d99', '1aae9522-427e-478b-a005-c1e072dcc9b6', 'd766cd5b-78a2-4f2b-a1d5-a1c844a5675f', '524526ce-6ae7-4593-a272-219ad20a8e78', 'd6c692df-131c-4f5b-a050-79a9ade05dcd', 'b67c8e85-5f8b-428d-892e-6d9f8ee435d2', '405d9474-e0ed-4675-885b-205fc1b94077', 'c8086f31-7e93-44fd-8a91-35edb00ca1de', '8276b66c-aac6-4db0-b32d-6d113df43273', '89250b70-2aa0-456c-8273-1d6d7c301342', '706595ef-709a-470d-a37a-c1c35087c079', '123d81df-5be1-47a2-aeda-148d8d43abb6', '874bdc99-55bf-4c0e-a601-446498d639fb', '51d0bd41-7c58-4770-83e9-8bd1adc099ab', 'e8ab3dc7-b26f-4788-97ba-bc9356c58d99', '0f3bbdf0-f407-4ef8-850b-fb11699ce0d8', '96a2749a-430d-4fe8-b494-015c6dd7b316', '8956e5e3-a954-4049-ba8d-85b336ce56f5', 'dea7f9ea-c7b0-425c-85e6-4d24078043d2', '92f79af6-cf2f-470f-a066-1563ee2b6049', '60c7f298-0076-49d7-9aa7-e6e689d81898', 'f8fa88e1-925e-4705-a18f-fc955243bac3', '5400dcea-40fc-429e-bf18-3f95e6033a28', 'af775497-8072-48b9-94e6-e0f99a7bc62f', 'a0634993-5f2c-4fd5-bef5-c1b96f4f3662', '81f44eea-2a25-4572-9363-f5f06d49bc24', 'd714aaae-362d-45d6-b34a-13a0b4b066fa', 'd00b2048-0ab4-4d08-ae50-0560d5f3e933', '809480b5-794d-401b-bebe-c5099786e4d4', '4d45e6c5-bf51-445a-8c12-76a092eddc8e', '821ac63b-8c44-4514-a8b4-dd87a203ee74', 'fcae2ae5-59ff-4a43-8482-bae6bfb70d46', 'aa90f03e-225b-4473-8f6c-84dd689c72ec', '5b3ad5bc-b29e-4d4d-82b6-34fa3800d975', '5785c538-9d34-478e-b611-b84b3798f7f4', 'e377ca54-5256-4f94-96c3-1899adc38317', '3ade051c-bea4-4300-b6fe-e820079df242', '3d960e7d-2437-488d-828e-7774abae2738', 'b98383ff-db83-4e26-b39c-92770dc59b33', '85c088f7-ee76-43cb-94a3-028cfcfbfdc5', '503096a5-7c65-4098-af15-4bc56d1e7767', 'fff8b5ac-8d76-405b-b050-27d6754929be', 'd332944b-6d41-4c33-a1c9-6efdbacd240d', '74d1fb7f-d7e5-4179-b0d0-24d462babed0', '805bd6bb-6251-41c7-b2e7-746772d16227', '53ae9bbc-c578-45fb-9327-76850e4ff9cb', 'f74b2351-2223-4cbb-abe8-3de9fd131f23', 'ea89b92e-ea87-42a0-b4d9-0ae279f91ac3', 'cf5235a3-e805-4416-8ee9-fd4675811dbe', 'fb8b2f40-dbd2-4ad2-b0e2-95cd0bcc0b00', '5ae79477-085d-43b0-9453-4bc7cd35cfa8', '771aba84-0f38-4ad3-a99f-de514e23b116', '8d8d6777-1622-4a98-b9a5-9a71adce6942', '43d1f017-2880-4ba9-9e65-ef980b871e33', '7367ce3d-a74a-45bb-b855-31790ddaac86', '0feaeaba-bbf1-490d-9739-8059a1cb4d71', '635f8f99-ab22-4e92-b23d-84311d5879d3', '5ceb1591-842d-4926-be30-e72af78c39c0', '3a8a788a-4a75-48a6-8379-828d46f52b3d', 'b4ee598d-99bf-4c5e-9729-089a43843e97', 'df7c3da9-6c6d-4f56-899f-1b217422bce5', '9dac9c4e-e9cb-4c43-a589-97ce1673ae30', '255bb544-aafa-4a63-889a-e9ca3ae8817d', 'd7b4668a-52c1-478b-8f56-3d0aa4844f33', '9cf0370c-abe0-45c9-bf3e-732ce0007b66', '6daa6b58-ff71-4edb-ab47-f3603cf84192', '0bc8e8f8-c637-4e78-b95d-27893fca1457', '6caa4d0c-5e69-427d-93a2-f9d52536cfa2', '98ef9deb-155c-454e-b94b-24eac0641fd7', '622f85bd-2a40-4cbf-959b-ff3da4910a29', '4170cfdc-b8a6-4961-9894-9fecbb7b41d6', '8442589c-e4cf-4281-8dd7-8ed014de2fe7', 'af06ea6a-128e-40e8-8789-86387204c7d2', 'b984dab8-3dd3-4801-9c4d-cea1a682ac75', '11bbff2a-83d3-4e01-95c8-f9b9a6c4632b', '1a4374f2-3df9-4be3-abc1-273bc195c018', '24c6efb3-0819-44c0-98be-5ba17160a62d', '3d66953e-e7a4-4cd1-9402-d86fb3d04273', '3f0f340e-59bb-4a08-8fab-0dd719a7e823', '837cd5d2-22ad-4740-b758-463e07abee01', '351e1815-8f0d-4e54-8e54-5151887d2435', 'dd4d9205-12ce-4430-a16b-f152054937f5', '5603b2b7-163d-48e6-b9f5-bbbd948187ab', 'aeb0a594-9bf0-494b-a4c3-544aae8db3b6', '825363b1-9e4f-4835-b53d-30ed99944e7b', 'e6e5eff1-86e6-46eb-b928-959329250ef4', 'f1e88c3b-4115-4fe2-9f34-329b3c5124ad', '08a4b0a4-2f6b-41cc-b0ff-7481a16b90fa', '4cfc5589-0bce-425b-b9f0-1ffe5071a747', 'c9e53553-cbb3-4f2e-a129-7d5e4ef8b2ae', '270fc7b4-0cfc-48a3-9841-95e0fee954c6', '6e4db6c4-5c3c-4320-8e25-7cc54353c0d9', 'd2b5dc59-f537-43e6-a829-f4d358c7cef1', 'be2ddb54-a8ec-486b-8a64-11f2552dd1d2', '128f2f87-4801-4ed9-a284-51e458418b28', 'de1aa9f7-edd3-4e4b-82bb-cc993ade96ac', '9bdfb674-931c-4a70-b16e-1c9b83a6189a', '266f46da-499a-4823-9f5c-8a9ba60c249e', 'ee11bf96-a823-4ff3-87c3-ffa64de99663', 'b4ca9b94-6b82-443d-8def-448bf3d46dd7', '9f411cb7-dfce-4549-a33b-2ecb9ec80559', '262f88e0-189b-490b-bc00-df70f5d92b6f', '7409e11d-b3b3-4515-9a46-77c713ad489e', '65bc527c-8193-4720-8cce-5387ccad8c3f', '324b7895-efde-4d74-bf49-8fd03261dd12', '64e1676e-b46b-4051-a052-c89a1af8fa18', 'ab47b937-0af8-485f-9260-0500fc850bbb', 'cfd6924e-3796-4d67-9957-754c3d66c4b4', '16a68dc3-a408-4e79-948e-c3f7653ae9d1', '5f4bc134-0a67-4517-8e82-ec350b9245c3', 'cf8ae72d-354e-4cf1-ba89-0fafc043bee3', '2f9aff41-c1f3-4a3a-bb0d-b1a2ad5d3ecc', '04d50ab8-eda8-486f-90fd-6ea0a140c2f2', 'fc13e9a6-68ac-4f30-808f-509f005fbc16', '61a36345-0895-4915-a4ee-bb86c272a723', 'd7ed029d-0edc-4045-b578-57280bc88de4', '33fbbc91-fa87-4d2d-b76f-4502e924c0b7', 'd48a78e2-13ba-4f63-8bd6-c2efe9c9e99c', 'aa12d5f6-cfd8-4392-8948-bfb46f91459b', '47b8ef90-7d5b-4b05-9e6b-07b1323c9812', 'af35e519-f12a-48da-9c7f-222088ef252f', 'fa19ff15-7b42-4a90-adae-ca9ff4c5d251', '7a693193-2fd0-4f1d-abbe-beed41227ed2', 'd7ddc614-701e-4700-917a-0efc25aa3459')) .\n",
      "    ?mention nif:referenceContext ?n1 .\n",
      "    ?n1 dct:created ?dct ;\n",
      "    dct:publisher ?pub .\n",
      "    ?mention nif:referenceContext ?n1 ;\n",
      "     gaf:denotes ?locentity . ?locentity a <http://cltl.nl/type/GPE> . ?mention nif:anchorOf ?location .\n",
      "     } } ORDER BY ?dct\n"
     ]
    }
   ],
   "source": [
    "results=utils.get_news_from_fun_locations(ids)"
   ]
  },
  {
   "cell_type": "code",
   "execution_count": null,
   "metadata": {
    "collapsed": false
   },
   "outputs": [],
   "source": [
    "print(len(results))"
   ]
  },
  {
   "cell_type": "code",
   "execution_count": null,
   "metadata": {
    "collapsed": false
   },
   "outputs": [],
   "source": [
    "from collections import defaultdict\n",
    "def hypothesize_coreference(results):\n",
    "    \n",
    "    days_limit=1\n",
    "    participant_overlap=0.2\n",
    "    location_overlap=0.4\n",
    "    \n",
    "    c=0\n",
    "    chain=1\n",
    "    coreference_data = []\n",
    "    coreference_sets = defaultdict(set)\n",
    "    for result in results:\n",
    "        new_result={'dct': result['dct']['value'], 'part': result['participants']['value'], \n",
    "                    'id':result['src']['value'], 'loc':result['locations']['value']}\n",
    "        for past_result in coreference_data:\n",
    "            if utils.coreferential(new_result['dct'],past_result['dct'],\n",
    "                             new_result['part'].split('|'), past_result['part'].split('|'),\n",
    "                             new_result['loc'].split('|'),past_result['loc'].split('|'), \n",
    "                             days_limit, participant_overlap, location_overlap):\n",
    "                new_result['chain']=past_result['chain']\n",
    "                coreference_sets[str(past_result['chain'])].append(new_result['id'])\n",
    "        if 'chain' not in new_result:\n",
    "            new_result['chain']=chain\n",
    "            coreference_sets[str(chain)]=[new_result['id']]\n",
    "            chain+=1\n",
    "        coreference_data.append(new_result)\n",
    "    return coreference_sets"
   ]
  },
  {
   "cell_type": "code",
   "execution_count": null,
   "metadata": {
    "collapsed": false
   },
   "outputs": [],
   "source": [
    "coreference_sets=hypothesize_coreference(results)"
   ]
  },
  {
   "cell_type": "markdown",
   "metadata": {},
   "source": [
    "## Please point **path_signalmedia_json** to where the jsonl is stored\n",
    "* uncomment if you want to use it (is a bit slow)"
   ]
  },
  {
   "cell_type": "code",
   "execution_count": null,
   "metadata": {
    "collapsed": false
   },
   "outputs": [],
   "source": [
    "my_ids=coreference_sets['3']\n",
    "path_signalmedia_json = 'signalmedia-1m-2.jsonl'\n",
    "results_in_json = utils.obtain_specific_identifiers(path_signalmedia_json, my_ids)"
   ]
  },
  {
   "cell_type": "code",
   "execution_count": null,
   "metadata": {
    "collapsed": false
   },
   "outputs": [],
   "source": [
    "print(results_in_json)"
   ]
  },
  {
   "cell_type": "code",
   "execution_count": null,
   "metadata": {
    "collapsed": true
   },
   "outputs": [],
   "source": []
  }
 ],
 "metadata": {
  "anaconda-cloud": {},
  "kernelspec": {
   "display_name": "Python [Root]",
   "language": "python",
   "name": "Python [Root]"
  },
  "language_info": {
   "codemirror_mode": {
    "name": "ipython",
    "version": 3
   },
   "file_extension": ".py",
   "mimetype": "text/x-python",
   "name": "python",
   "nbconvert_exporter": "python",
   "pygments_lexer": "ipython3",
   "version": "3.5.2"
  }
 },
 "nbformat": 4,
 "nbformat_minor": 1
}
