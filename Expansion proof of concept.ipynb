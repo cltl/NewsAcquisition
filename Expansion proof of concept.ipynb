{
 "cells": [
  {
   "cell_type": "markdown",
   "metadata": {},
   "source": [
    "## Obtain seed set of document using Elasticsearch"
   ]
  },
  {
   "cell_type": "code",
   "execution_count": 1,
   "metadata": {
    "collapsed": false
   },
   "outputs": [],
   "source": [
    "import utils"
   ]
  },
  {
   "cell_type": "code",
   "execution_count": 2,
   "metadata": {
    "collapsed": true
   },
   "outputs": [],
   "source": [
    "import urllib.parse\n",
    "import urllib.request\n",
    "import requests"
   ]
  },
  {
   "cell_type": "code",
   "execution_count": 3,
   "metadata": {
    "collapsed": true
   },
   "outputs": [],
   "source": [
    "base = 'http://news.fii800.lod.labs.vu.nl/news?'\n",
    "args = {\n",
    "    'q' : 'disaster earthquake', # the query terms to look for\n",
    "    'in' : 'content', # look in title, content or both (supported values are: \"title\", \"content\", \"both\")\n",
    "    'from' : '2015-09-01T00:00:00Z', # from->starting datetime point\n",
    "    'to' : '2015-10-01T00:00:00Z', # ending datetime point\n",
    "    'source' : '', # source -> which source\n",
    "    'media' : 'News', # media -> media type (\"Blog\" or \"News\")\n",
    "    'size' : 1000, # size -> amount of results to return\n",
    "    'offset' : 0,  # offset ->skip the first offset results (useful for pagination)\n",
    "    'match' : 'conjunct'\n",
    "}"
   ]
  },
  {
   "cell_type": "code",
   "execution_count": 4,
   "metadata": {
    "collapsed": false
   },
   "outputs": [],
   "source": [
    "all_results = utils.get_all_hits(base, args)\n",
    "news_items_ids = set(all_results.keys())"
   ]
  },
  {
   "cell_type": "code",
   "execution_count": 5,
   "metadata": {
    "collapsed": false
   },
   "outputs": [
    {
     "name": "stdout",
     "output_type": "stream",
     "text": [
      "401\n"
     ]
    }
   ],
   "source": [
    "print(len(news_items_ids))"
   ]
  },
  {
   "cell_type": "code",
   "execution_count": 6,
   "metadata": {
    "collapsed": false
   },
   "outputs": [],
   "source": [
    "ids=str(news_items_ids)[1:-1]"
   ]
  },
  {
   "cell_type": "markdown",
   "metadata": {
    "collapsed": true
   },
   "source": [
    "## SPARQLing earthquakes"
   ]
  },
  {
   "cell_type": "code",
   "execution_count": 7,
   "metadata": {
    "collapsed": false
   },
   "outputs": [],
   "source": [
    "boring_locations=[\"United_States\", \"United_Kingdom\", \"Africa\", \"Europe\"]\n",
    "boring_URIs=utils.to_dbpedia(boring_locations)\n",
    "limit_secs=60*60*24 # seconds\n",
    "limit_days=1 "
   ]
  },
  {
   "cell_type": "code",
   "execution_count": 8,
   "metadata": {
    "collapsed": false
   },
   "outputs": [],
   "source": [
    "results=utils.get_news_from_fun_locations(ids)"
   ]
  },
  {
   "cell_type": "code",
   "execution_count": 9,
   "metadata": {
    "collapsed": false
   },
   "outputs": [
    {
     "name": "stdout",
     "output_type": "stream",
     "text": [
      "401\n"
     ]
    }
   ],
   "source": [
    "print(len(results))"
   ]
  },
  {
   "cell_type": "code",
   "execution_count": 10,
   "metadata": {
    "collapsed": false
   },
   "outputs": [],
   "source": [
    "from collections import defaultdict\n",
    "def hypothesize_coreference(results):\n",
    "    \n",
    "    days_limit=1\n",
    "    participant_overlap=0.2\n",
    "    location_overlap=0.4\n",
    "    \n",
    "    c=0\n",
    "    chain=1\n",
    "    coreference_data = []\n",
    "    coreference_sets = defaultdict(set)\n",
    "    for result in results:\n",
    "        new_result={'dct': result['dct']['value'], 'part': result['participants']['value'], \n",
    "                    'id':result['src']['value'], 'loc':result['locations']['value']}\n",
    "        for past_result in coreference_data:\n",
    "            if utils.coreferential(new_result['dct'],past_result['dct'],\n",
    "                             new_result['part'].split('|'), past_result['part'].split('|'),\n",
    "                             new_result['loc'].split('|'),past_result['loc'].split('|'), \n",
    "                             days_limit, participant_overlap, location_overlap):\n",
    "                new_result['chain']=past_result['chain']\n",
    "                coreference_sets[str(past_result['chain'])].append(new_result['id'])\n",
    "        if 'chain' not in new_result:\n",
    "            new_result['chain']=chain\n",
    "            coreference_sets[str(chain)]=[new_result['id']]\n",
    "            chain+=1\n",
    "        coreference_data.append(new_result)\n",
    "    return coreference_sets"
   ]
  },
  {
   "cell_type": "code",
   "execution_count": 11,
   "metadata": {
    "collapsed": false
   },
   "outputs": [],
   "source": [
    "coreference_sets=hypothesize_coreference(results)"
   ]
  },
  {
   "cell_type": "markdown",
   "metadata": {},
   "source": [
    "## Please point **path_signalmedia_json** to where the jsonl is stored\n",
    "* uncomment if you want to use it (is a bit slow)"
   ]
  },
  {
   "cell_type": "code",
   "execution_count": 12,
   "metadata": {
    "collapsed": false
   },
   "outputs": [],
   "source": [
    "my_ids=coreference_sets['3']\n",
    "path_signalmedia_json = 'signalmedia-1m-2.jsonl'\n",
    "results_in_json = utils.obtain_specific_identifiers(path_signalmedia_json, my_ids)"
   ]
  },
  {
   "cell_type": "code",
   "execution_count": 13,
   "metadata": {
    "collapsed": false
   },
   "outputs": [
    {
     "name": "stdout",
     "output_type": "stream",
     "text": [
      "{'eb4edb1a-3063-4b29-9536-916c887788b2': {'media-type': 'News', 'published': '2015-09-01T07:18:29Z', 'id': 'eb4edb1a-3063-4b29-9536-916c887788b2', 'title': 'Japan Holds Annual Disaster Response Drill', 'content': 'About 1.6 million people across Japan took part in an annual emergency drill on Tuesday, with schoolchildren taking cover under desks and top officials meeting in response to a mock natural… \\r \\nTokyo: About 1.6 million people across Japan took part in an annual emergency drill on Tuesday, with schoolchildren taking cover under desks and top officials meeting in response to a mock natural disaster. \\n\\nRescue operations and emergency medical exercises were carried out to simulate an emergency response to a strong 7.3 magnitude quake rocking Tokyo in the early morning. \\n\\nCabinet ministers dressed in blue uniforms held a meeting at the prime minister\\'s office, while schoolchildren across the quake-prone nation hid under their desks or donned padded fireproof hoods. \\n\\nThe nationwide drill is held annually on September 1, known in Japan as Disaster Prevention Day, which comes on the anniversary of the 1923 Great Kanto Earthquake that killed more than 100,000 people and levelled Tokyo. \\n\\nThe government has stepped up its disaster response since the devastating 2011 earthquake that triggered a deadly tsunami that sent reactors at the Fukushima nuclear plant into meltdown. \\n\\n\"The government will put a priority on protecting people\\'s lives and dealing with the situation using all of our resources,\" Prime Minister Shinzo Abe said. \\n\\nExperts have warned Japan to stay vigilant for the next \"Big One\" after a powerful…', 'source': 'MyInforms'}, 'b953f335-0cc1-4a23-abd7-fb87e84547d5': {'media-type': 'News', 'published': '2015-09-01T06:38:22Z', 'id': 'b953f335-0cc1-4a23-abd7-fb87e84547d5', 'title': 'Japan holds annual disaster drills nationwide', 'content': 'Japan held antidisaster drills across the country on Tuesday to test emergency response systems, with around 1.67 million people in 34 of the 47 prefectures taking part.\\n\\nOn the 92nd anniversary of a massive 1923 earthquake in the Tokyo area, the central government held a drill based on the scenario that a magnitude 7.3 earthquake had occurred in western Tokyo in the morning, while local governments held similar drills.\\n\\nThe annual exercise was held as Japan seeks to establish an effective disaster prevention and mitigation system in view of a possible major earthquake in western Japan. The country experienced a devastating earthquake in northeastern Japan in March 2011, and has seen a series of volcanic eruptions in the past year.\\n\\nPrime Minister Shinzo Abe summoned an emergency headquarters’ meeting and attended a teleconference with the Tokyo metropolitan emergency headquarters to check the steps for grasping the extent of the disaster.\\n\\n“The government will put top priority on protecting people’s lives and focus all of its power to counter” disasters, Abe said at a subsequent press conference, urging citizens to remain calm and try to obtain accurate information when emergencies occur.\\n\\nOther local drills involved transporting casualties and medical teams between airports and Self-Defense Forces facilities using helicopters and transport aircraft.\\n\\nSept. 1 is known in Japan as Disaster Prevention Day, after the magnitude-7.9 earthquake that hit the Kanto region including Tokyo on the same day in 1923, claiming the lives of over 105,000 people.', 'source': 'Japan Today'}}\n"
     ]
    }
   ],
   "source": [
    "print(results_in_json)"
   ]
  },
  {
   "cell_type": "code",
   "execution_count": null,
   "metadata": {
    "collapsed": true
   },
   "outputs": [],
   "source": []
  }
 ],
 "metadata": {
  "anaconda-cloud": {},
  "kernelspec": {
   "display_name": "Python [Root]",
   "language": "python",
   "name": "Python [Root]"
  },
  "language_info": {
   "codemirror_mode": {
    "name": "ipython",
    "version": 3
   },
   "file_extension": ".py",
   "mimetype": "text/x-python",
   "name": "python",
   "nbconvert_exporter": "python",
   "pygments_lexer": "ipython3",
   "version": "3.5.2"
  }
 },
 "nbformat": 4,
 "nbformat_minor": 1
}
