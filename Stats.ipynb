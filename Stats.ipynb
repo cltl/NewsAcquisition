{
 "cells": [
  {
   "cell_type": "code",
   "execution_count": 1,
   "metadata": {
    "collapsed": false
   },
   "outputs": [],
   "source": [
    "import utils\n",
    "import operator\n",
    "# topics: http://www.newsreader-project.eu/files/2013/01/NWR-2014-1.pdf"
   ]
  },
  {
   "cell_type": "code",
   "execution_count": 2,
   "metadata": {
    "collapsed": false
   },
   "outputs": [],
   "source": [
    "base = 'http://news.fii800.lod.labs.vu.nl/news?'\n",
    "args = {\n",
    "    'q' : 'merging', # the query terms to look for\n",
    "    'in' : 'title', # look in title, content or both (supported values are: \"title\", \"content\", \"both\")\n",
    "    'from' : '2015-09-01T00:00:00Z', # from->starting datetime point\n",
    "    'to' : '2015-09-30T00:00:00Z', # ending datetime point\n",
    "    'source' : '', # source -> which source\n",
    "    'media' : 'News', # media -> media type (\"Blog\" or \"News\")\n",
    "    'size' : 1000, # size -> amount of results to return\n",
    "    'offset' : 0,  # offset ->skip the first offset results (useful for pagination)\n",
    "    'match' : 'conjunct'\n",
    "}"
   ]
  },
  {
   "cell_type": "code",
   "execution_count": 10,
   "metadata": {
    "collapsed": false,
    "scrolled": true
   },
   "outputs": [
    {
     "name": "stdout",
     "output_type": "stream",
     "text": [
      "http://news.fii800.lod.labs.vu.nl/news?from=2015-09-01T00:00:00Z&size=1000&offset=2000&media=News&to=2015-09-30T00:00:00Z&in=title&q=merging\n"
     ]
    },
    {
     "data": {
      "text/plain": [
       "0"
      ]
     },
     "execution_count": 10,
     "metadata": {},
     "output_type": "execute_result"
    }
   ],
   "source": [
    "all_results = utils.get_all_hits(base, args)\n",
    "len(all_results)"
   ]
  },
  {
   "cell_type": "code",
   "execution_count": 11,
   "metadata": {
    "collapsed": false
   },
   "outputs": [
    {
     "data": {
      "text/plain": [
       "2473"
      ]
     },
     "execution_count": 11,
     "metadata": {},
     "output_type": "execute_result"
    }
   ],
   "source": [
    "utils.extract_size('http://news.fii800.lod.labs.vu.nl/news?offset=0&to=2015-09-27T00:00:00Z&media=News&size=1&from=2015-09-20T00:00:00Z&in=content&q=crash')"
   ]
  },
  {
   "cell_type": "markdown",
   "metadata": {},
   "source": [
    "## Inspect sources"
   ]
  },
  {
   "cell_type": "code",
   "execution_count": 4,
   "metadata": {
    "collapsed": false
   },
   "outputs": [
    {
     "name": "stdout",
     "output_type": "stream",
     "text": [
      "WGOW 1150 AM 1\n",
      "International Business Times India 1\n",
      "Taranaki Daily News 1\n",
      "EIN News 1\n",
      "Naija Lately 1\n",
      "Trailer / Body Builders 1\n",
      "Kenly News 1\n",
      "Times-Courier 1\n",
      "KETV.com 1\n",
      "Hubii 1\n",
      "Worcester Telegram & Gazette 1\n"
     ]
    }
   ],
   "source": [
    "sources_freq = utils.count_sources(all_results)\n",
    "utils.print_first_x(sources_freq)"
   ]
  },
  {
   "cell_type": "markdown",
   "metadata": {},
   "source": [
    "## Inspect time"
   ]
  },
  {
   "cell_type": "code",
   "execution_count": 5,
   "metadata": {
    "collapsed": false
   },
   "outputs": [
    {
     "name": "stdout",
     "output_type": "stream",
     "text": [
      "2015 20\n"
     ]
    }
   ],
   "source": [
    "dates_freq = utils.count_times(all_results)\n",
    "utils.print_first_x(dates_freq)"
   ]
  },
  {
   "cell_type": "markdown",
   "metadata": {},
   "source": [
    "## Length article"
   ]
  },
  {
   "cell_type": "code",
   "execution_count": 6,
   "metadata": {
    "collapsed": false
   },
   "outputs": [
    {
     "name": "stdout",
     "output_type": "stream",
     "text": [
      "300 5\n",
      "100 4\n",
      "900 3\n",
      "600 2\n",
      "200 2\n",
      "400 1\n",
      "1700 1\n",
      "500 1\n",
      "800 1\n"
     ]
    }
   ],
   "source": [
    "length_freq = utils.count_lenght(all_results)\n",
    "utils.print_first_x(length_freq)"
   ]
  },
  {
   "cell_type": "markdown",
   "metadata": {},
   "source": [
    "## One example"
   ]
  },
  {
   "cell_type": "code",
   "execution_count": 7,
   "metadata": {
    "collapsed": false
   },
   "outputs": [
    {
     "name": "stdout",
     "output_type": "stream",
     "text": [
      "{'_source': {'media-type': 'News', 'title': 'Meredith, Media General merging TV stations in $2.4 billion deal', 'content': 'In the latest sign of ongoing local media consolidation, two owners of local TV stations, Meredith and Media General, said Tuesday that they are merging in a $2.4 billion transaction.\\n\\nMedia General\\'s 71 stations and Meredith\\'s 17 stations will be combined under a new holding company called Meredith Media General. It\\'ll be the No. 3 owner of TV affiliates in the United States behind Sinclair and Nexstar.\\n\\nThe move is intriguing because many analysts had speculated that Meredith, the owner of famed magazines like Better Homes and Gardens, would merge with magazine giant Time Inc. \\n\\nInstead Meredith seems to be prioritizing its TV and digital businesses. \\n\\n\"This merger creates greater opportunities for profitable growth than either company could achieve on its own,\" Media General\\'s chairman J. Stewart Bryan III said in a statement.\\n\\nOperators of TV stations have been bulking up for several years, partly as a response to broader advertising and subscriber revenue trends. Government regulators have generally supported the mergers. \\n\\nIn 2013, for example, Gannett bought Belo and Tribune bought Local TV Holdings. In 2014 E.W. Scripps bought Journal Broadcast Group and Sinclair bought Allbritton\\'s stations. \\n\\nMeredith and Media General said they expected the new merger to clear regulatory hurdles by next June. \\n\\nMedia General\\'s Bryan will be the chairman of the combined company. \\n\\nMeredith\\'s CEO Stephen Lacy will be the CEO and president. \\n\\nThe companies are predicting more than $800 million in \"total synergies\" within the first two years.', 'id': 'a98e578f-e091-4a65-8660-5ee79f36f7ed', 'source': 'KETV.com', 'published': '2015-09-08T12:26:29Z'}, '_index': 'news', '_score': 3.6658447, '_id': 'AVZ491Zpy1kBQQb2F1yl', '_type': 'sm'}\n"
     ]
    }
   ],
   "source": [
    "for value in all_results.values():\n",
    "    print(value)\n",
    "    break"
   ]
  },
  {
   "cell_type": "markdown",
   "metadata": {},
   "source": [
    "## What long tail effect(s) do we want to introduce:\n",
    "    * lemma: same | different\n",
    "    * publishing date: same | different"
   ]
  },
  {
   "cell_type": "markdown",
   "metadata": {
    "collapsed": true
   },
   "source": [
    "## Discussion\n",
    "* comparison per year\n",
    "* German's data has clusters (articles that belong to the same cluster)\n",
    "    * [question]: how did they cluster the data?"
   ]
  },
  {
   "cell_type": "markdown",
   "metadata": {},
   "source": [
    "## Idea:\n",
    "    * Event mention detection:\n",
    "    * Event coreference:\n",
    "        * gold event mentions\n",
    "    * Q&A:\n",
    "        * gold event mentions\n",
    "        * [if wanted]: gold events"
   ]
  },
  {
   "cell_type": "code",
   "execution_count": 8,
   "metadata": {
    "collapsed": true
   },
   "outputs": [],
   "source": [
    "from nltk.corpus import wordnet as wn"
   ]
  },
  {
   "cell_type": "code",
   "execution_count": 9,
   "metadata": {
    "collapsed": false
   },
   "outputs": [
    {
     "name": "stdout",
     "output_type": "stream",
     "text": [
      "Synset('fire.n.02') the act of firing weapons or artillery at an enemy\n",
      "Synset('discharge.n.09') the act of discharging a gun\n",
      "Synset('ignition.n.03') the act of setting something on fire\n",
      "Synset('dismissal.n.04') the termination of someone's employment (leaving them free to depart)\n",
      "Synset('open_fire.v.01') start firing a weapon\n",
      "Synset('fire.v.02') cause to go off\n",
      "Synset('fire.v.03') bake in a kiln so as to harden\n",
      "Synset('displace.v.03') terminate the employment of; discharge from an office or position\n",
      "Synset('fire.v.05') go off or discharge\n",
      "Synset('fire.v.06') drive out or away by or as if by fire\n",
      "Synset('arouse.v.01') call forth (emotions, feelings, and responses)\n",
      "Synset('burn.v.01') destroy by fire\n",
      "Synset('fuel.v.02') provide with fuel\n"
     ]
    }
   ],
   "source": [
    "for synset in wn.synsets('firing'):\n",
    "    print(synset, synset.definition())"
   ]
  },
  {
   "cell_type": "code",
   "execution_count": null,
   "metadata": {
    "collapsed": true
   },
   "outputs": [],
   "source": []
  },
  {
   "cell_type": "code",
   "execution_count": null,
   "metadata": {
    "collapsed": true
   },
   "outputs": [],
   "source": []
  }
 ],
 "metadata": {
  "anaconda-cloud": {},
  "kernelspec": {
   "display_name": "Python [Root]",
   "language": "python",
   "name": "Python [Root]"
  },
  "language_info": {
   "codemirror_mode": {
    "name": "ipython",
    "version": 3
   },
   "file_extension": ".py",
   "mimetype": "text/x-python",
   "name": "python",
   "nbconvert_exporter": "python",
   "pygments_lexer": "ipython3",
   "version": "3.5.2"
  }
 },
 "nbformat": 4,
 "nbformat_minor": 0
}
