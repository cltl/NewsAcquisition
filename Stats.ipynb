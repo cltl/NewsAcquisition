{
 "cells": [
  {
   "cell_type": "code",
   "execution_count": 7,
   "metadata": {
    "collapsed": false
   },
   "outputs": [],
   "source": [
    "import utils\n",
    "import operator\n",
    "from urllib.parse import quote\n",
    "# topics: http://www.newsreader-project.eu/files/2013/01/NWR-2014-1.pdf"
   ]
  },
  {
   "cell_type": "code",
   "execution_count": 20,
   "metadata": {
    "collapsed": false
   },
   "outputs": [],
   "source": [
    "base = 'http://news.fii800.lod.labs.vu.nl/news?'\n",
    "match='terms' # terms or phrase\n",
    "q_t1='kill robbery vandalism'\n",
    "q_t2='hire fire'\n",
    "q_t3='storm fire flood earthquake'\n",
    "q_t4='takeover profit sales merge release'\n",
    "q=quote(q_t1)\n",
    "args = {\n",
    "    'q' : q, # the query terms to look for\n",
    "    'in' : 'content', # look in title, content or both (supported values are: \"title\", \"content\", \"both\")\n",
    "    'from' : '2015-09-01T00:00:00Z', # from->starting datetime point\n",
    "    'to' : '2015-09-30T00:00:00Z', # ending datetime point\n",
    "    'source' : '', # source -> which source\n",
    "    'media' : 'News', # media -> media type (\"Blog\" or \"News\")\n",
    "    'size' : 10000, # size -> amount of results to return\n",
    "    'offset' : 0,  # offset ->skip the first offset results (useful for pagination)\n",
    "    'operator': 'and'\n",
    "}"
   ]
  },
  {
   "cell_type": "code",
   "execution_count": 21,
   "metadata": { 
    "collapsed": false,
    "scrolled": true
   },
   "outputs": [
    {
     "name": "stdout",
     "output_type": "stream",
     "text": [
	10
     ]
    },
    {
     "data": {
      "text/plain": [
       "11248"
      ]
     },
     "execution_count": 21,
     "metadata": {},
     "output_type": "execute_result"
    }
   ],
   "source": [
    "all_results = utils.extract_size(base, args)\n"
   ]
  },
  {
   "cell_type": "code",
   "execution_count": 21,
   "metadata": {
    "collapsed": false,
    "scrolled": true
   },
   "outputs": [
    {
     "name": "stdout",
     "output_type": "stream",
     "text": [
      "http://news.fii800.lod.labs.vu.nl/news?q=kill%20robbery%20vandalism&operator=and&to=2015-09-30T00:00:00Z&in=content&media=News&size=10000&from=2015-09-01T00:00:00Z\n",
      "http://news.fii800.lod.labs.vu.nl/news?q=kill%20robbery%20vandalism&operator=and&to=2015-09-30T00:00:00Z&in=content&media=News&size=10000&from=2015-09-01T00:00:00Z&offset=10000\n",
      "http://news.fii800.lod.labs.vu.nl/news?q=kill%20robbery%20vandalism&operator=and&to=2015-09-30T00:00:00Z&in=content&media=News&size=10000&from=2015-09-01T00:00:00Z&offset=20000\n"
     ]
    },
    {
     "data": {
      "text/plain": [
       "11248"
      ]
     },
     "execution_count": 21,
     "metadata": {},
     "output_type": "execute_result"
    }
   ],
   "source": [
    "all_results = utils.get_all_hits(base, args)\n",
    "len(all_results)"
   ]
  },
  {
   "cell_type": "markdown",
   "metadata": {},
   "source": [
    "## Inspect sources"
   ]
  },
  {
   "cell_type": "code",
   "execution_count": 4,
   "metadata": {
    "collapsed": false
   },
   "outputs": [
    {
     "name": "stdout",
     "output_type": "stream",
     "text": [
      "MyInforms 1\n",
      "Times-Courier 1\n",
      "Riverside Press Enterprise 1\n",
      "WBAP News/Talk 820 1\n",
      "EIN News 1\n",
      "Taranaki Daily News 1\n",
      "Trailer / Body Builders 1\n",
      "WGOW 1150 AM 1\n",
      "International Business Times India 1\n",
      "Mail Online UK 1\n",
      "Sevenoaks Chronicle 1\n"
     ]
    }
   ],
   "source": [
    "sources_freq = utils.count_sources(all_results)\n",
    "utils.print_first_x(sources_freq)"
   ]
  },
  {
   "cell_type": "markdown",
   "metadata": {},
   "source": [
    "## Inspect time"
   ]
  },
  {
   "cell_type": "code",
   "execution_count": 5,
   "metadata": {
    "collapsed": false
   },
   "outputs": [
    {
     "name": "stdout",
     "output_type": "stream",
     "text": [
      "2015 20\n"
     ]
    }
   ],
   "source": [
    "dates_freq = utils.count_times(all_results)\n",
    "utils.print_first_x(dates_freq)"
   ]
  },
  {
   "cell_type": "markdown",
   "metadata": {},
   "source": [
    "## Length article"
   ]
  },
  {
   "cell_type": "code",
   "execution_count": 6,
   "metadata": {
    "collapsed": false
   },
   "outputs": [
    {
     "name": "stdout",
     "output_type": "stream",
     "text": [
      "300 5\n",
      "100 4\n",
      "900 3\n",
      "200 2\n",
      "600 2\n",
      "400 1\n",
      "1700 1\n",
      "500 1\n",
      "800 1\n"
     ]
    }
   ],
   "source": [
    "length_freq = utils.count_lenght(all_results)\n",
    "utils.print_first_x(length_freq)"
   ]
  },
  {
   "cell_type": "markdown",
   "metadata": {},
   "source": [
    "## One example"
   ]
  },
  {
   "cell_type": "code",
   "execution_count": null,
   "metadata": {
    "collapsed": false
   },
   "outputs": [
    {
     "name": "stdout",
     "output_type": "stream",
     "text": [
      "{'_index': 'news', '_score': 2.998192, '_id': 'AVZ497d1n-pbftzfmlWw', '_type': 'sm', '_source': {'title': 'Apple CEO Cook shuts the door on iOS, Mac OS X merging -- again - CNET', 'media-type': 'News', 'source': 'Times-Courier', 'id': '45778f26-debb-4467-9ae6-b681014fa999', 'published': '2015-09-29T22:48:08Z', 'content': 'Box CEO Aaron Levie (left) and Apple CEO Tim Cook chat about enterprise technology. Josh Miller/CNET \\n\\nSAN FRANCISCO -- That dream for a touch-screen Mac running iOS may never come true. \\n\\nApple CEO Tim Cook on Tuesday dismissed the assumption that Apple will merge its iOS mobile software with its OS X computer software -- which means iPads and Macs are going to stay separate products even with all the new similarities between them. \\n\\n\"We don\\'t believe in having one operating system for PC and mobile,\" Cook said Tuesday during a fireside chat with Aaron Levie, CEO of Box, a company that provides cloud storage for businesses. Box is hosting its BoxWorks conference this week in downtown San Francisco. \"We think it subtracts from both, and you don\\'t get the best experience from either. We\\'re very much focused on two.\" \\n\\nCook\\'s comments echo what Apple has said for years -- that its PC and mobile systems will stay separate. Craig Federighi, Apple senior vice president of software engineering, told CNET after the company\\'s iPad and Mac launch last year that introducing Macs with touch screens was something Apple had no plans to do. \"We don\\'t think it\\'s the right interface, honestly,\" he said at the time. \"Mac is sort of a sit-down experience.\" \\n\\nApple has kept its computer operating system distinct from its iOS mobile software, but features such as \"Handoff\" from last year\\'s iOS 8 now allow the two programs to better interact. The feature allows users to start a program -- such as writing an email or composing a text -- on an iPhone and then finish it on an iPad or Mac. \\n\\n\"Apple continues to see the need for a continuum of experience but not a need for both experiences to merge if that means there is a compromise to make,\" Kantar Worldpanel analyst Carolina Milanesi said. \"I think that is the right approach.\" \\n\\nBy contrast, Microsoft has gone the opposite direction. Under CEO Satya Nadella, the company has adopted a \"one Windows\" strategy, porting its new Windows 10 operating system to PCs, tablets, phones -- and even its Xbox game console. \\n\\nThe unveiling of the iPad Pro earlier this month revived questions about whether Apple would eventually merge iOS and Mac OS X into one system. The 12.9-inch tablet comes with an optional keyboard and stylus, allowing designers and others to do more with their iPads. Having a bigger-screen iPad could allow people to truly replace their computers with a tablet, something that could be vital as Apple tries to revitalize its iPad business. \\n\\nMany of Apple\\'s rivals have introduced larger-screen tablets, including Samsung with its 12.2-inch, Android-based Galaxy Tab Pro and Galaxy Note Pro, and Microsoft with its 12-inch, Windows-based Surface Pro. The tagline for Microsoft\\'s device is that it\\'s \"the tablet that can replace your laptop.\" \\n\\nCook on Tuesday also noted that more than 50 percent of Apple\\'s mobile device users have downloaded iOS 9, the company\\'s most recent mobile software, released September 16. \\n\\nMeanwhile, business users are a big target for Apple, and the company can\\'t do it alone, Cook said. He noted that Apple generated about $25 billion in revenue from its enterprise operations in the 12 months ended in June. By comparison, Microsoft generated $93.6 billion in total revenue in the year ended in June, while Apple pulled in $224.3 billion during the same period. \\n\\nBut Cook also said Apple couldn\\'t have figured out how to deal with businesses if it hadn\\'t formed partnerships with companies such as IBM, Cisco and Microsoft.\"This is not a hobby,\" Cook said. \\n\\nApple CEO Tim Cook said Tuesday that Mac OS X and iOS will remain separate. Josh Miller/CNET \\n\\n\"We don\\'t have deep knowledge of all the verticals the enterprise deals with,\" Cook added. \"We need to partner with people. ... Island days are gone.\" \\n\\nApple has made a bigger push with business users over the past couple of years. Last year it and IBM unveiled plans to work together to push Apple\\'s products with business users. IBM operates a sizable consulting and services business, and it also will optimize its cloud computing services, such as device management, security and analytics, for Apple\\'s iOS mobile operating system. Cook has said the IBM partnership \"aims to define the way work is done, address key industry mobility challenges and spark true mobile-led business change.\" \\n\\nApple in 2013 also made its iLife and iWork software free with new Mac and iOS purchases. Microsoft last year finally made its widely used Office software work on iOS. Apple also partnered with Cisco recently to gain a better foothold in the business realm. \\n\\nThe partnerships with longtime rivals including IBM and Microsoft indicate how important business users are for Apple. In the past, Apple positioned itself squarely against those companies, but it now works closely with them. \\n\\n\"We still compete today, but Apple and Microsoft can partner on more things than they compete on,\" Cook said. \"Partnering with Microsoft is great for our customers. That\\'s the reason we do it. I\\'m not a believer in holding grudges.\" \\n\\nUpdate at 2:55 p.m. PT to add more background about iOS and Mac OS X.'}}\n",
      "continue?\n",
      "{'_index': 'news', '_score': 3.7069213, '_id': 'AVZ496TCy1kBQQb2GAI_', '_type': 'sm', '_source': {'title': 'FBI Reportedly Merging Criminal and Civil Fingerprint Database', 'media-type': 'News', 'source': 'SUNNY 99.1', 'id': 'd35fa23a-6fe0-458e-ad66-4d48ef50c6b1', 'published': '2015-09-25T10:02:09Z', 'content': \"Posted Friday, September 25th 2015 @ 5am \\xa0by\\xa0iHeartMedia’s Cliff Saunders \\n \\nYour privacy is seemingly under attack constantly. We tell you stories about that all the time. But now it seems like something as simple as applying for a job could now put your privacy at risk. \\n \\nThe Electronic Frontier Foundation reports that the fingerprints you give for background checks to employers will be sent to the FBI and merged with their criminal database. University of Houston Professor Chris Bronk says this isn't some conspiracy theory. \\n \\n“The Electronic Frontier Foundation is a very reputable organization, and if they are hearing reports of a massive database merger afoot they are going to raise a stink about it,” Bronk explained. \\n \\nGeoffrey Corn at the South Texas College of Law says he has legal concerns about this. \\n \\n“The more immediate question is whether or not this practice complies with The Privacy Act, which is a law that simply says the government has to give us notice if it keeps a dossier on us,” Corn said. \\n \\nThere are other advances in technology that have privacy proponents buzzing. For instance, there is a new car seat can detect its driver's stress level. And a 'smart building' in Amsterdam that knows where you live and what car you drive. It even knows your daily schedule, and it’s all thanks to a smartphone app.\\xa0\"}}\n"
     ]
    }
   ],
   "source": [
    "for value in all_results.values():\n",
    "    print(value)\n",
    "    input('continue?')"
   ]
  },
  {
   "cell_type": "markdown",
   "metadata": {},
   "source": [
    "## What long tail effect(s) do we want to introduce:\n",
    "    * lemma: same | different\n",
    "    * publishing date: same | different"
   ]
  },
  {
   "cell_type": "markdown",
   "metadata": {
    "collapsed": true
   },
   "source": [
    "## Discussion\n",
    "* comparison per year\n",
    "* German's data has clusters (articles that belong to the same cluster)\n",
    "    * [question]: how did they cluster the data?"
   ]
  },
  {
   "cell_type": "markdown",
   "metadata": {},
   "source": [
    "## Idea:\n",
    "    * Event mention detection:\n",
    "    * Event coreference:\n",
    "        * gold event mentions\n",
    "    * Q&A:\n",
    "        * gold event mentions\n",
    "        * [if wanted]: gold events"
   ]
  },
  {
   "cell_type": "code",
   "execution_count": 8,
   "metadata": {
    "collapsed": true
   },
   "outputs": [],
   "source": [
    "from nltk.corpus import wordnet as wn"
   ]
  },
  {
   "cell_type": "code",
   "execution_count": 9,
   "metadata": {
    "collapsed": false
   },
   "outputs": [
    {
     "name": "stdout",
     "output_type": "stream",
     "text": [
      "Synset('fire.n.02') the act of firing weapons or artillery at an enemy\n",
      "Synset('discharge.n.09') the act of discharging a gun\n",
      "Synset('ignition.n.03') the act of setting something on fire\n",
      "Synset('dismissal.n.04') the termination of someone's employment (leaving them free to depart)\n",
      "Synset('open_fire.v.01') start firing a weapon\n",
      "Synset('fire.v.02') cause to go off\n",
      "Synset('fire.v.03') bake in a kiln so as to harden\n",
      "Synset('displace.v.03') terminate the employment of; discharge from an office or position\n",
      "Synset('fire.v.05') go off or discharge\n",
      "Synset('fire.v.06') drive out or away by or as if by fire\n",
      "Synset('arouse.v.01') call forth (emotions, feelings, and responses)\n",
      "Synset('burn.v.01') destroy by fire\n",
      "Synset('fuel.v.02') provide with fuel\n"
     ]
    }
   ],
   "source": [
    "for synset in wn.synsets('firing'):\n",
    "    print(synset, synset.definition())"
   ]
  },
  {
   "cell_type": "code",
   "execution_count": null,
   "metadata": {
    "collapsed": true
   },
   "outputs": [],
   "source": []
  },
  {
   "cell_type": "code",
   "execution_count": null,
   "metadata": {
    "collapsed": true
   },
   "outputs": [],
   "source": []
  }
 ],
 "metadata": {
  "anaconda-cloud": {},
  "kernelspec": {
   "display_name": "Python [Root]",
   "language": "python",
   "name": "Python [Root]"
  },
  "language_info": {
   "codemirror_mode": {
    "name": "ipython",
    "version": 3
   },
   "file_extension": ".py",
   "mimetype": "text/x-python",
   "name": "python",
   "nbconvert_exporter": "python",
   "pygments_lexer": "ipython3",
   "version": "3.5.2"
  }
 },
 "nbformat": 4,
 "nbformat_minor": 0
}
