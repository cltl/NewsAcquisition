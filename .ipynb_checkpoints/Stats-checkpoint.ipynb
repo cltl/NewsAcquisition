{
 "cells": [
  {
   "cell_type": "code",
   "execution_count": 1,
   "metadata": {
    "collapsed": false
   },
   "outputs": [],
   "source": [
    "import utils\n",
    "import operator\n",
    "# topics: http://www.newsreader-project.eu/files/2013/01/NWR-2014-1.pdf"
   ]
  },
  {
   "cell_type": "code",
   "execution_count": 2,
   "metadata": {
    "collapsed": false
   },
   "outputs": [],
   "source": [
    "base = 'http://news.fii800.lod.labs.vu.nl/news?'\n",
    "args = {\n",
    "    'q' : 'election', # the query terms to look for\n",
    "    'in' : 'title', # look in title, content or both (supported values are: \"title\", \"content\", \"both\")\n",
    "    'from' : '2015-09-01T00:00:00Z', # from->starting datetime point\n",
    "    'to' : '2015-09-30T00:00:00Z', # ending datetime point\n",
    "    'source' : '', # source -> which source\n",
    "    'media' : 'News', # media -> media type (\"Blog\" or \"News\")\n",
    "    'size' : 1000, # size -> amount of results to return\n",
    "    'offset' : 0  # offset ->skip the first offset results (useful for pagination)\n",
    "}"
   ]
  },
  {
   "cell_type": "code",
   "execution_count": 3,
   "metadata": {
    "collapsed": false,
    "scrolled": true
   },
   "outputs": [
    {
     "name": "stdout",
     "output_type": "stream",
     "text": [
      "http://news.fii800.lod.labs.vu.nl/news?to=2015-09-30T00:00:00Z&q=crash&size=1000&in=title&media=News&from=2015-09-01T00:00:00Z\n",
      "http://news.fii800.lod.labs.vu.nl/news?to=2015-09-30T00:00:00Z&q=crash&size=1000&in=title&media=News&offset=1000&from=2015-09-01T00:00:00Z\n",
      "http://news.fii800.lod.labs.vu.nl/news?to=2015-09-30T00:00:00Z&q=crash&size=1000&in=title&media=News&offset=2000&from=2015-09-01T00:00:00Z\n",
      "http://news.fii800.lod.labs.vu.nl/news?to=2015-09-30T00:00:00Z&q=crash&size=1000&in=title&media=News&offset=3000&from=2015-09-01T00:00:00Z\n",
      "http://news.fii800.lod.labs.vu.nl/news?to=2015-09-30T00:00:00Z&q=crash&size=1000&in=title&media=News&offset=4000&from=2015-09-01T00:00:00Z\n"
     ]
    },
    {
     "data": {
      "text/plain": [
       "3350"
      ]
     },
     "execution_count": 3,
     "metadata": {},
     "output_type": "execute_result"
    }
   ],
   "source": [
    "all_results = utils.get_all_hits(base, args)\n",
    "len(all_results)"
   ]
  },
  {
   "cell_type": "markdown",
   "metadata": {},
   "source": [
    "## Inspect sources"
   ]
  },
  {
   "cell_type": "code",
   "execution_count": 4,
   "metadata": {
    "collapsed": false
   },
   "outputs": [
    {
     "name": "stdout",
     "output_type": "stream",
     "text": [
      "MyInforms 79\n",
      "Yahoo! News Australia 36\n",
      "Mail Online UK 27\n",
      "WSFA 26\n",
      "Greenfield Daily Reporter 22\n",
      "DailyNews724.com 17\n",
      "Daily Town Talk 14\n",
      "CBC 12\n",
      "Big News Network 12\n",
      "Inside Halton 11\n",
      "BBC 11\n"
     ]
    }
   ],
   "source": [
    "sources_freq = utils.count_sources(all_results)\n",
    "utils.print_first_x(sources_freq)"
   ]
  },
  {
   "cell_type": "markdown",
   "metadata": {},
   "source": [
    "## Inspect time"
   ]
  },
  {
   "cell_type": "code",
   "execution_count": 5,
   "metadata": {
    "collapsed": false
   },
   "outputs": [
    {
     "name": "stdout",
     "output_type": "stream",
     "text": [
      "2015 3350\n"
     ]
    }
   ],
   "source": [
    "dates_freq = utils.count_times(all_results)\n",
    "utils.print_first_x(dates_freq)"
   ]
  },
  {
   "cell_type": "markdown",
   "metadata": {},
   "source": [
    "## Length article"
   ]
  },
  {
   "cell_type": "code",
   "execution_count": 6,
   "metadata": {
    "collapsed": false
   },
   "outputs": [
    {
     "name": "stdout",
     "output_type": "stream",
     "text": [
      "200 1117\n",
      "100 819\n",
      "300 495\n",
      "400 326\n",
      "500 224\n",
      "600 106\n",
      "700 80\n",
      "800 46\n",
      "900 42\n",
      "1100 40\n",
      "1200 19\n"
     ]
    }
   ],
   "source": [
    "length_freq = utils.count_lenght(all_results)\n",
    "utils.print_first_x(length_freq)"
   ]
  },
  {
   "cell_type": "markdown",
   "metadata": {},
   "source": [
    "## One example"
   ]
  },
  {
   "cell_type": "code",
   "execution_count": 7,
   "metadata": {
    "collapsed": false
   },
   "outputs": [
    {
     "name": "stdout",
     "output_type": "stream",
     "text": [
      "{'_type': 'sm', '_source': {'source': 'Oil City Derrick', 'content': 'Subscription Required  \\n An online service is needed to view this article in its entirety.  You need an online service to view this article in its entirety.  \\n  Login    Choose an online service.   \\n Need an account? Create one now.', 'id': '675708cc-2353-4bcc-8658-557ec1479845', 'media-type': 'News', 'published': '2015-09-27T03:39:23Z', 'title': \"Feds: Axle from duck boat in deadly crash 'sheared off'\"}, '_score': 2.45594, '_id': 'AVZ49xcI3JDNhGBrUmSZ', '_index': 'news'}\n"
     ]
    }
   ],
   "source": [
    "for value in all_results.values():\n",
    "    print(value)\n",
    "    break"
   ]
  },
  {
   "cell_type": "markdown",
   "metadata": {},
   "source": [
    "## What long tail effect(s) do we want to introduce:\n",
    "    * lemma: same | different\n",
    "    * publishing date: same | different"
   ]
  },
  {
   "cell_type": "markdown",
   "metadata": {
    "collapsed": true
   },
   "source": [
    "## Discussion\n",
    "* comparison per year\n",
    "* German's data has clusters (articles that belong to the same cluster)\n",
    "    * [question]: how did they cluster the data?"
   ]
  },
  {
   "cell_type": "markdown",
   "metadata": {},
   "source": [
    "## Idea:\n",
    "    * Event mention detection:\n",
    "    * Event coreference:\n",
    "        * gold event mentions\n",
    "    * Q&A:\n",
    "        * gold event mentions\n",
    "        * [if wanted]: gold events"
   ]
  },
  {
   "cell_type": "code",
   "execution_count": 8,
   "metadata": {
    "collapsed": true
   },
   "outputs": [],
   "source": [
    "from nltk.corpus import wordnet as wn"
   ]
  },
  {
   "cell_type": "code",
   "execution_count": 9,
   "metadata": {
    "collapsed": false
   },
   "outputs": [
    {
     "name": "stdout",
     "output_type": "stream",
     "text": [
      "Synset('match.n.01') lighter consisting of a thin piece of wood or cardboard tipped with combustible chemical; ignites with friction\n",
      "Synset('match.n.02') a formal contest in which two or more persons or teams compete\n",
      "Synset('match.n.03') a burning piece of wood or cardboard\n",
      "Synset('match.n.04') an exact duplicate\n",
      "Synset('match.n.05') the score needed to win a match\n",
      "Synset('catch.n.03') a person regarded as a good matrimonial prospect\n",
      "Synset('peer.n.01') a person who is of equal standing with another in a group\n",
      "Synset('couple.n.02') a pair of people who live together\n",
      "Synset('match.n.09') something that resembles or harmonizes with\n",
      "Synset('match.v.01') be compatible, similar or consistent; coincide in their characteristics\n",
      "Synset('match.v.02') provide funds complementary to\n",
      "Synset('match.v.03') bring two objects, ideas, or people together\n",
      "Synset('equal.v.02') be equal to in quality or ability\n",
      "Synset('match.v.05') make correspond or harmonize\n",
      "Synset('meet.v.06') satisfy or fulfill\n",
      "Synset('match.v.07') give or join in marriage\n",
      "Synset('pit.v.01') set into opposition or rivalry\n",
      "Synset('match.v.09') be equal or harmonize\n",
      "Synset('equal.v.03') make equal, uniform, corresponding, or matching\n"
     ]
    }
   ],
   "source": [
    "for synset in wn.synsets('match'):\n",
    "    print(synset, synset.definition())"
   ]
  },
  {
   "cell_type": "code",
   "execution_count": null,
   "metadata": {
    "collapsed": true
   },
   "outputs": [],
   "source": []
  },
  {
   "cell_type": "code",
   "execution_count": null,
   "metadata": {
    "collapsed": true
   },
   "outputs": [],
   "source": []
  }
 ],
 "metadata": {
  "anaconda-cloud": {},
  "kernelspec": {
   "display_name": "Python [conda root]",
   "language": "python",
   "name": "conda-root-py"
  },
  "language_info": {
   "codemirror_mode": {
    "name": "ipython",
    "version": 3
   },
   "file_extension": ".py",
   "mimetype": "text/x-python",
   "name": "python",
   "nbconvert_exporter": "python",
   "pygments_lexer": "ipython3",
   "version": "3.5.2"
  }
 },
 "nbformat": 4,
 "nbformat_minor": 0
}
