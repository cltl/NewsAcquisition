{
 "cells": [
  {
   "cell_type": "code",
   "execution_count": 16,
   "metadata": {
    "collapsed": false
   },
   "outputs": [],
   "source": [
    "import utils\n",
    "import operator\n",
    "import itertools\n",
    "import pandas\n",
    "# topics: http://www.newsreader-project.eu/files/2013/01/NWR-2014-1.pdf"
   ]
  },
  {
   "cell_type": "code",
   "execution_count": 2,
   "metadata": {
    "collapsed": false
   },
   "outputs": [],
   "source": [
    "topics = {\n",
    "    'crime' : ['escape', 'shoot', 'kill', 'assassination', 'rob', 'vandalism', 'attack', 'riot', 'steal', 'bomb'],\n",
    "    'life': ['die'],\n",
    "    'employment': ['hire', 'fire'],\n",
    "    'business': ['profit', 'takeover', 'merge', 'release', 'sales'],\n",
    "    'disasters' : ['earthquake', 'fire', 'flood', 'storm', 'explosion']\n",
    "}"
   ]
  },
  {
   "cell_type": "code",
   "execution_count": 19,
   "metadata": {
    "collapsed": false,
    "scrolled": true
   },
   "outputs": [
    {
     "name": "stdout",
     "output_type": "stream",
     "text": [
      "['earthquake', 'fire', 'flood', 'storm', 'explosion']\n"
     ]
    },
    {
     "data": {
      "text/html": [
       "<div>\n",
       "<table border=\"1\" class=\"dataframe\">\n",
       "  <thead>\n",
       "    <tr style=\"text-align: right;\">\n",
       "      <th></th>\n",
       "      <th>number_of_terms</th>\n",
       "      <th>terms</th>\n",
       "      <th>number_of_articles</th>\n",
       "    </tr>\n",
       "  </thead>\n",
       "  <tbody>\n",
       "    <tr>\n",
       "      <th>0</th>\n",
       "      <td>1</td>\n",
       "      <td>disasters earthquake</td>\n",
       "      <td>301</td>\n",
       "    </tr>\n",
       "    <tr>\n",
       "      <th>1</th>\n",
       "      <td>1</td>\n",
       "      <td>disasters fire</td>\n",
       "      <td>362</td>\n",
       "    </tr>\n",
       "    <tr>\n",
       "      <th>2</th>\n",
       "      <td>1</td>\n",
       "      <td>disasters flood</td>\n",
       "      <td>195</td>\n",
       "    </tr>\n",
       "    <tr>\n",
       "      <th>3</th>\n",
       "      <td>1</td>\n",
       "      <td>disasters storm</td>\n",
       "      <td>243</td>\n",
       "    </tr>\n",
       "    <tr>\n",
       "      <th>4</th>\n",
       "      <td>1</td>\n",
       "      <td>disasters explosion</td>\n",
       "      <td>83</td>\n",
       "    </tr>\n",
       "    <tr>\n",
       "      <th>5</th>\n",
       "      <td>2</td>\n",
       "      <td>disasters earthquake fire</td>\n",
       "      <td>65</td>\n",
       "    </tr>\n",
       "    <tr>\n",
       "      <th>6</th>\n",
       "      <td>2</td>\n",
       "      <td>disasters earthquake flood</td>\n",
       "      <td>38</td>\n",
       "    </tr>\n",
       "    <tr>\n",
       "      <th>7</th>\n",
       "      <td>2</td>\n",
       "      <td>disasters earthquake storm</td>\n",
       "      <td>38</td>\n",
       "    </tr>\n",
       "    <tr>\n",
       "      <th>8</th>\n",
       "      <td>2</td>\n",
       "      <td>disasters earthquake explosion</td>\n",
       "      <td>23</td>\n",
       "    </tr>\n",
       "    <tr>\n",
       "      <th>9</th>\n",
       "      <td>2</td>\n",
       "      <td>disasters fire flood</td>\n",
       "      <td>44</td>\n",
       "    </tr>\n",
       "    <tr>\n",
       "      <th>10</th>\n",
       "      <td>2</td>\n",
       "      <td>disasters fire storm</td>\n",
       "      <td>62</td>\n",
       "    </tr>\n",
       "    <tr>\n",
       "      <th>11</th>\n",
       "      <td>2</td>\n",
       "      <td>disasters fire explosion</td>\n",
       "      <td>50</td>\n",
       "    </tr>\n",
       "    <tr>\n",
       "      <th>12</th>\n",
       "      <td>2</td>\n",
       "      <td>disasters flood storm</td>\n",
       "      <td>71</td>\n",
       "    </tr>\n",
       "    <tr>\n",
       "      <th>13</th>\n",
       "      <td>2</td>\n",
       "      <td>disasters flood explosion</td>\n",
       "      <td>2</td>\n",
       "    </tr>\n",
       "    <tr>\n",
       "      <th>14</th>\n",
       "      <td>2</td>\n",
       "      <td>disasters storm explosion</td>\n",
       "      <td>6</td>\n",
       "    </tr>\n",
       "    <tr>\n",
       "      <th>15</th>\n",
       "      <td>3</td>\n",
       "      <td>disasters earthquake fire flood</td>\n",
       "      <td>18</td>\n",
       "    </tr>\n",
       "    <tr>\n",
       "      <th>16</th>\n",
       "      <td>3</td>\n",
       "      <td>disasters earthquake fire storm</td>\n",
       "      <td>15</td>\n",
       "    </tr>\n",
       "    <tr>\n",
       "      <th>17</th>\n",
       "      <td>3</td>\n",
       "      <td>disasters earthquake fire explosion</td>\n",
       "      <td>19</td>\n",
       "    </tr>\n",
       "    <tr>\n",
       "      <th>18</th>\n",
       "      <td>3</td>\n",
       "      <td>disasters earthquake flood storm</td>\n",
       "      <td>19</td>\n",
       "    </tr>\n",
       "    <tr>\n",
       "      <th>19</th>\n",
       "      <td>3</td>\n",
       "      <td>disasters earthquake flood explosion</td>\n",
       "      <td>1</td>\n",
       "    </tr>\n",
       "    <tr>\n",
       "      <th>20</th>\n",
       "      <td>3</td>\n",
       "      <td>disasters earthquake storm explosion</td>\n",
       "      <td>2</td>\n",
       "    </tr>\n",
       "    <tr>\n",
       "      <th>21</th>\n",
       "      <td>3</td>\n",
       "      <td>disasters fire flood storm</td>\n",
       "      <td>22</td>\n",
       "    </tr>\n",
       "    <tr>\n",
       "      <th>22</th>\n",
       "      <td>3</td>\n",
       "      <td>disasters fire flood explosion</td>\n",
       "      <td>0</td>\n",
       "    </tr>\n",
       "    <tr>\n",
       "      <th>23</th>\n",
       "      <td>3</td>\n",
       "      <td>disasters fire storm explosion</td>\n",
       "      <td>1</td>\n",
       "    </tr>\n",
       "    <tr>\n",
       "      <th>24</th>\n",
       "      <td>3</td>\n",
       "      <td>disasters flood storm explosion</td>\n",
       "      <td>2</td>\n",
       "    </tr>\n",
       "    <tr>\n",
       "      <th>25</th>\n",
       "      <td>4</td>\n",
       "      <td>disasters earthquake fire flood storm</td>\n",
       "      <td>12</td>\n",
       "    </tr>\n",
       "    <tr>\n",
       "      <th>26</th>\n",
       "      <td>4</td>\n",
       "      <td>disasters earthquake fire flood explosion</td>\n",
       "      <td>0</td>\n",
       "    </tr>\n",
       "    <tr>\n",
       "      <th>27</th>\n",
       "      <td>4</td>\n",
       "      <td>disasters earthquake fire storm explosion</td>\n",
       "      <td>0</td>\n",
       "    </tr>\n",
       "    <tr>\n",
       "      <th>28</th>\n",
       "      <td>4</td>\n",
       "      <td>disasters earthquake flood storm explosion</td>\n",
       "      <td>1</td>\n",
       "    </tr>\n",
       "    <tr>\n",
       "      <th>29</th>\n",
       "      <td>4</td>\n",
       "      <td>disasters fire flood storm explosion</td>\n",
       "      <td>0</td>\n",
       "    </tr>\n",
       "    <tr>\n",
       "      <th>30</th>\n",
       "      <td>5</td>\n",
       "      <td>disasters earthquake fire flood storm explosion</td>\n",
       "      <td>0</td>\n",
       "    </tr>\n",
       "  </tbody>\n",
       "</table>\n",
       "</div>"
      ],
      "text/plain": [
       "    number_of_terms                                            terms  \\\n",
       "0                 1                             disasters earthquake   \n",
       "1                 1                                   disasters fire   \n",
       "2                 1                                  disasters flood   \n",
       "3                 1                                  disasters storm   \n",
       "4                 1                              disasters explosion   \n",
       "5                 2                        disasters earthquake fire   \n",
       "6                 2                       disasters earthquake flood   \n",
       "7                 2                       disasters earthquake storm   \n",
       "8                 2                   disasters earthquake explosion   \n",
       "9                 2                             disasters fire flood   \n",
       "10                2                             disasters fire storm   \n",
       "11                2                         disasters fire explosion   \n",
       "12                2                            disasters flood storm   \n",
       "13                2                        disasters flood explosion   \n",
       "14                2                        disasters storm explosion   \n",
       "15                3                  disasters earthquake fire flood   \n",
       "16                3                  disasters earthquake fire storm   \n",
       "17                3              disasters earthquake fire explosion   \n",
       "18                3                 disasters earthquake flood storm   \n",
       "19                3             disasters earthquake flood explosion   \n",
       "20                3             disasters earthquake storm explosion   \n",
       "21                3                       disasters fire flood storm   \n",
       "22                3                   disasters fire flood explosion   \n",
       "23                3                   disasters fire storm explosion   \n",
       "24                3                  disasters flood storm explosion   \n",
       "25                4            disasters earthquake fire flood storm   \n",
       "26                4        disasters earthquake fire flood explosion   \n",
       "27                4        disasters earthquake fire storm explosion   \n",
       "28                4       disasters earthquake flood storm explosion   \n",
       "29                4             disasters fire flood storm explosion   \n",
       "30                5  disasters earthquake fire flood storm explosion   \n",
       "\n",
       "    number_of_articles  \n",
       "0                  301  \n",
       "1                  362  \n",
       "2                  195  \n",
       "3                  243  \n",
       "4                   83  \n",
       "5                   65  \n",
       "6                   38  \n",
       "7                   38  \n",
       "8                   23  \n",
       "9                   44  \n",
       "10                  62  \n",
       "11                  50  \n",
       "12                  71  \n",
       "13                   2  \n",
       "14                   6  \n",
       "15                  18  \n",
       "16                  15  \n",
       "17                  19  \n",
       "18                  19  \n",
       "19                   1  \n",
       "20                   2  \n",
       "21                  22  \n",
       "22                   0  \n",
       "23                   1  \n",
       "24                   2  \n",
       "25                  12  \n",
       "26                   0  \n",
       "27                   0  \n",
       "28                   1  \n",
       "29                   0  \n",
       "30                   0  "
      ]
     },
     "execution_count": 19,
     "metadata": {},
     "output_type": "execute_result"
    }
   ],
   "source": [
    "topic='employment'\n",
    "topic='business'\n",
    "topic='crime'\n",
    "topic='life'\n",
    "topic='disasters'\n",
    "lex_exps=topics[topic]\n",
    "print(lex_exps)\n",
    "combs = []\n",
    "for i in range(1, len(lex_exps)+1):\n",
    "    els = [list(x) for x in itertools.combinations(lex_exps, i)]\n",
    "    for combo in els:\n",
    "        q = topic + ' ' + ' '.join(list(combo))\n",
    "        combs.append([i, q, utils.count_for_query(q)])\n",
    "\n",
    "headers = ['number_of_terms',  'terms', 'number_of_articles']\n",
    "df = pandas.DataFrame(combs, columns=headers)\n",
    "df\n",
    "\n",
    "#table = utils.show_me(df, keys, headers, meta={'number_of_articles'})\n",
    "#display(HTML(table))"
   ]
  },
  {
   "cell_type": "code",
   "execution_count": null,
   "metadata": {
    "collapsed": false
   },
   "outputs": [],
   "source": []
  },
  {
   "cell_type": "markdown",
   "metadata": {},
   "source": [
    "## Inspect sources"
   ]
  },
  {
   "cell_type": "code",
   "execution_count": 4,
   "metadata": {
    "collapsed": false
   },
   "outputs": [
    {
     "name": "stdout",
     "output_type": "stream",
     "text": [
      "WGOW 1150 AM 1\n",
      "International Business Times India 1\n",
      "Taranaki Daily News 1\n",
      "EIN News 1\n",
      "Naija Lately 1\n",
      "Trailer / Body Builders 1\n",
      "Kenly News 1\n",
      "Times-Courier 1\n",
      "KETV.com 1\n",
      "Hubii 1\n",
      "Worcester Telegram & Gazette 1\n"
     ]
    }
   ],
   "source": [
    "sources_freq = utils.count_sources(all_results)\n",
    "utils.print_first_x(sources_freq)"
   ]
  },
  {
   "cell_type": "markdown",
   "metadata": {},
   "source": [
    "## Inspect time"
   ]
  },
  {
   "cell_type": "code",
   "execution_count": 5,
   "metadata": {
    "collapsed": false
   },
   "outputs": [
    {
     "name": "stdout",
     "output_type": "stream",
     "text": [
      "2015 20\n"
     ]
    }
   ],
   "source": [
    "dates_freq = utils.count_times(all_results)\n",
    "utils.print_first_x(dates_freq)"
   ]
  },
  {
   "cell_type": "markdown",
   "metadata": {},
   "source": [
    "## Length article"
   ]
  },
  {
   "cell_type": "code",
   "execution_count": 6,
   "metadata": {
    "collapsed": false
   },
   "outputs": [
    {
     "name": "stdout",
     "output_type": "stream",
     "text": [
      "300 5\n",
      "100 4\n",
      "900 3\n",
      "600 2\n",
      "200 2\n",
      "400 1\n",
      "1700 1\n",
      "500 1\n",
      "800 1\n"
     ]
    }
   ],
   "source": [
    "length_freq = utils.count_lenght(all_results)\n",
    "utils.print_first_x(length_freq)"
   ]
  },
  {
   "cell_type": "markdown",
   "metadata": {},
   "source": [
    "## One example"
   ]
  },
  {
   "cell_type": "code",
   "execution_count": 7,
   "metadata": {
    "collapsed": false
   },
   "outputs": [
    {
     "name": "stdout",
     "output_type": "stream",
     "text": [
      "{'_source': {'media-type': 'News', 'title': 'Meredith, Media General merging TV stations in $2.4 billion deal', 'content': 'In the latest sign of ongoing local media consolidation, two owners of local TV stations, Meredith and Media General, said Tuesday that they are merging in a $2.4 billion transaction.\\n\\nMedia General\\'s 71 stations and Meredith\\'s 17 stations will be combined under a new holding company called Meredith Media General. It\\'ll be the No. 3 owner of TV affiliates in the United States behind Sinclair and Nexstar.\\n\\nThe move is intriguing because many analysts had speculated that Meredith, the owner of famed magazines like Better Homes and Gardens, would merge with magazine giant Time Inc. \\n\\nInstead Meredith seems to be prioritizing its TV and digital businesses. \\n\\n\"This merger creates greater opportunities for profitable growth than either company could achieve on its own,\" Media General\\'s chairman J. Stewart Bryan III said in a statement.\\n\\nOperators of TV stations have been bulking up for several years, partly as a response to broader advertising and subscriber revenue trends. Government regulators have generally supported the mergers. \\n\\nIn 2013, for example, Gannett bought Belo and Tribune bought Local TV Holdings. In 2014 E.W. Scripps bought Journal Broadcast Group and Sinclair bought Allbritton\\'s stations. \\n\\nMeredith and Media General said they expected the new merger to clear regulatory hurdles by next June. \\n\\nMedia General\\'s Bryan will be the chairman of the combined company. \\n\\nMeredith\\'s CEO Stephen Lacy will be the CEO and president. \\n\\nThe companies are predicting more than $800 million in \"total synergies\" within the first two years.', 'id': 'a98e578f-e091-4a65-8660-5ee79f36f7ed', 'source': 'KETV.com', 'published': '2015-09-08T12:26:29Z'}, '_index': 'news', '_score': 3.6658447, '_id': 'AVZ491Zpy1kBQQb2F1yl', '_type': 'sm'}\n"
     ]
    }
   ],
   "source": [
    "for value in all_results.values():\n",
    "    print(value)\n",
    "    break"
   ]
  },
  {
   "cell_type": "markdown",
   "metadata": {},
   "source": [
    "## What long tail effect(s) do we want to introduce:\n",
    "    * lemma: same | different\n",
    "    * publishing date: same | different"
   ]
  },
  {
   "cell_type": "markdown",
   "metadata": {
    "collapsed": true
   },
   "source": [
    "## Discussion\n",
    "* comparison per year\n",
    "* German's data has clusters (articles that belong to the same cluster)\n",
    "    * [question]: how did they cluster the data?"
   ]
  },
  {
   "cell_type": "markdown",
   "metadata": {},
   "source": [
    "## Idea:\n",
    "    * Event mention detection:\n",
    "    * Event coreference:\n",
    "        * gold event mentions\n",
    "    * Q&A:\n",
    "        * gold event mentions\n",
    "        * [if wanted]: gold events"
   ]
  },
  {
   "cell_type": "code",
   "execution_count": 8,
   "metadata": {
    "collapsed": true
   },
   "outputs": [],
   "source": [
    "from nltk.corpus import wordnet as wn"
   ]
  },
  {
   "cell_type": "code",
   "execution_count": 9,
   "metadata": {
    "collapsed": false
   },
   "outputs": [
    {
     "name": "stdout",
     "output_type": "stream",
     "text": [
      "Synset('fire.n.02') the act of firing weapons or artillery at an enemy\n",
      "Synset('discharge.n.09') the act of discharging a gun\n",
      "Synset('ignition.n.03') the act of setting something on fire\n",
      "Synset('dismissal.n.04') the termination of someone's employment (leaving them free to depart)\n",
      "Synset('open_fire.v.01') start firing a weapon\n",
      "Synset('fire.v.02') cause to go off\n",
      "Synset('fire.v.03') bake in a kiln so as to harden\n",
      "Synset('displace.v.03') terminate the employment of; discharge from an office or position\n",
      "Synset('fire.v.05') go off or discharge\n",
      "Synset('fire.v.06') drive out or away by or as if by fire\n",
      "Synset('arouse.v.01') call forth (emotions, feelings, and responses)\n",
      "Synset('burn.v.01') destroy by fire\n",
      "Synset('fuel.v.02') provide with fuel\n"
     ]
    }
   ],
   "source": [
    "for synset in wn.synsets('firing'):\n",
    "    print(synset, synset.definition())"
   ]
  },
  {
   "cell_type": "code",
   "execution_count": null,
   "metadata": {
    "collapsed": true
   },
   "outputs": [],
   "source": []
  },
  {
   "cell_type": "code",
   "execution_count": null,
   "metadata": {
    "collapsed": true
   },
   "outputs": [],
   "source": []
  }
 ],
 "metadata": {
  "anaconda-cloud": {},
  "kernelspec": {
   "display_name": "Python [Root]",
   "language": "python",
   "name": "Python [Root]"
  },
  "language_info": {
   "codemirror_mode": {
    "name": "ipython",
    "version": 3
   },
   "file_extension": ".py",
   "mimetype": "text/x-python",
   "name": "python",
   "nbconvert_exporter": "python",
   "pygments_lexer": "ipython3",
   "version": "3.5.2"
  }
 },
 "nbformat": 4,
 "nbformat_minor": 0
}
