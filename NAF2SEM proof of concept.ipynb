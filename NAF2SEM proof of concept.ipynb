{
 "cells": [
  {
   "cell_type": "code",
   "execution_count": 1,
   "metadata": {
    "collapsed": true
   },
   "outputs": [],
   "source": [
    "import utils"
   ]
  },
  {
   "cell_type": "code",
   "execution_count": 2,
   "metadata": {
    "collapsed": true
   },
   "outputs": [],
   "source": [
    "labels=\"'earthquake', 'quake', 'temblor', 'seism', 'tremor'\"\n",
    "time=True\n",
    "participants=False\n",
    "location=True"
   ]
  },
  {
   "cell_type": "code",
   "execution_count": 3,
   "metadata": {
    "collapsed": false
   },
   "outputs": [
    {
     "name": "stdout",
     "output_type": "stream",
     "text": [
      "\n",
      "\tPREFIX sem: <http://semanticweb.cs.vu.nl/2009/11/sem/>\n",
      "\tPREFIX skos: <http://www.w3.org/2004/02/skos/core#>\n",
      "\tPREFIX dbpedia: <http://dbpedia.org/resource/>\n",
      "\tPREFIX owltime: <http://www.w3.org/TR/owl-time#>\n",
      "\tSELECT ?event ?location ?time ?participant WHERE {\n",
      "    \n",
      "\t\t?event a sem:Event .\n",
      "\t\t{ ?event rdfs:label ?label .\n",
      "\t\tFILTER (?label IN ('earthquake', 'quake', 'temblor', 'seism', 'tremor')) } \n",
      "\t\tUNION\n",
      "\t\t{ ?event sem:hasActor ?nonentity .\n",
      "\t\t?nonentity skos:relatedMatch dbpedia:Earthquake } . \n",
      "\t\t?event sem:hasTime ?tmx . ?tmx owltime:inDateTime ?time .  \n",
      "\t\t?event sem:hasPlace ?location .  \n",
      "    \n",
      "\t}\n",
      "    \n"
     ]
    }
   ],
   "source": [
    "res=utils.get_news_from_nowhere(labels, time, location, participants)"
   ]
  },
  {
   "cell_type": "code",
   "execution_count": 4,
   "metadata": {
    "collapsed": false
   },
   "outputs": [
    {
     "data": {
      "text/plain": [
       "542"
      ]
     },
     "execution_count": 4,
     "metadata": {},
     "output_type": "execute_result"
    }
   ],
   "source": [
    "len(res)"
   ]
  },
  {
   "cell_type": "code",
   "execution_count": null,
   "metadata": {
    "collapsed": true
   },
   "outputs": [],
   "source": []
  }
 ],
 "metadata": {
  "kernelspec": {
   "display_name": "Python [Root]",
   "language": "python",
   "name": "Python [Root]"
  },
  "language_info": {
   "codemirror_mode": {
    "name": "ipython",
    "version": 3
   },
   "file_extension": ".py",
   "mimetype": "text/x-python",
   "name": "python",
   "nbconvert_exporter": "python",
   "pygments_lexer": "ipython3",
   "version": "3.5.2"
  }
 },
 "nbformat": 4,
 "nbformat_minor": 0
}
