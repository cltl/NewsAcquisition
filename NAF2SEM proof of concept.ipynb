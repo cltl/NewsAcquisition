{
 "cells": [
  {
   "cell_type": "code",
   "execution_count": 32,
   "metadata": {
    "collapsed": true
   },
   "outputs": [],
   "source": [
    "import utils"
   ]
  },
  {
   "cell_type": "code",
   "execution_count": 33,
   "metadata": {
    "collapsed": true
   },
   "outputs": [],
   "source": [
    "labels=\"'earthquake', 'quake', 'temblor'\"\n",
    "time=True\n",
    "participants=False\n",
    "location=True\n",
    "strictLocations=True"
   ]
  },
  {
   "cell_type": "code",
   "execution_count": 34,
   "metadata": {
    "collapsed": false
   },
   "outputs": [
    {
     "name": "stdout",
     "output_type": "stream",
     "text": [
      "\n",
      "\tPREFIX sem: <http://semanticweb.cs.vu.nl/2009/11/sem/>\n",
      "\tPREFIX skos: <http://www.w3.org/2004/02/skos/core#>\n",
      "\tPREFIX dbpedia: <http://dbpedia.org/resource/>\n",
      "\tPREFIX owltime: <http://www.w3.org/TR/owl-time#>\n",
      "\tPREFIX rdfs: <http://www.w3.org/2000/01/rdf-schema#>\n",
      "\tPREFIX dbo: <http://dbpedia.org/ontology/>\n",
      "\tSELECT ?event ?location ?time ?participant WHERE {\n",
      "    \n",
      "\t\t?event a sem:Event .\n",
      "\t\t{ ?event rdfs:label ?label .\n",
      "\t\tFILTER (?label IN ('earthquake', 'quake', 'temblor')) } \n",
      "\t\tUNION\n",
      "\t\t{ ?event sem:hasActor ?nonentity .\n",
      "\t\t?nonentity skos:relatedMatch dbpedia:Earthquake } . \n",
      "\t\t?event sem:hasTime ?tmx . ?tmx owltime:inDateTime ?time .  \n",
      "\t\t?event sem:hasPlace ?location .  \n",
      "\t\t?location a ?x . ?x rdfs:subClassOf* dbo:Place .  \n",
      "    \n",
      "\t}\n",
      "    \n"
     ]
    }
   ],
   "source": [
    "query=utils.get_me_a_query(labels, time, location, participants, strictLocations)\n",
    "print(query)"
   ]
  },
  {
   "cell_type": "code",
   "execution_count": 35,
   "metadata": {
    "collapsed": false
   },
   "outputs": [
    {
     "data": {
      "text/plain": [
       "219"
      ]
     },
     "execution_count": 35,
     "metadata": {},
     "output_type": "execute_result"
    }
   ],
   "source": [
    "res=utils.get_sparql_results(query)\n",
    "len(res)"
   ]
  },
  {
   "cell_type": "code",
   "execution_count": 36,
   "metadata": {
    "collapsed": false
   },
   "outputs": [],
   "source": [
    "from collections import Counter\n",
    "from collections import defaultdict\n",
    "import operator"
   ]
  },
  {
   "cell_type": "code",
   "execution_count": 37,
   "metadata": {
    "collapsed": false
   },
   "outputs": [
    {
     "data": {
      "text/plain": [
       "{'event': {'type': 'uri',\n",
       "  'value': 'http://www.newsreader-project.eu/data/wikinews/sigmed/data/f27337cd-a9b8-4ce4-b55a-247069253d68.in.naf#ev112'},\n",
       " 'location': {'type': 'uri',\n",
       "  'value': 'http://dbpedia.org/resource/San_Francisco'},\n",
       " 'time': {'type': 'uri',\n",
       "  'value': 'http://www.newsreader-project.eu/time/1906'}}"
      ]
     },
     "execution_count": 37,
     "metadata": {},
     "output_type": "execute_result"
    }
   ],
   "source": [
    "res[0]"
   ]
  },
  {
   "cell_type": "code",
   "execution_count": 38,
   "metadata": {
    "collapsed": false
   },
   "outputs": [],
   "source": [
    "results = defaultdict(set)\n",
    "for item in res:\n",
    "    key = (item['location']['value'], item['time']['value'])\n",
    "    results[key].add(item['event']['value'])"
   ]
  },
  {
   "cell_type": "code",
   "execution_count": 39,
   "metadata": {
    "collapsed": false
   },
   "outputs": [
    {
     "name": "stdout",
     "output_type": "stream",
     "text": [
      "\n",
      "('http://dbpedia.org/resource/California', 'http://www.newsreader-project.eu/time/20150927')\n",
      "{'http://www.newsreader-project.eu/data/wikinews/sigmed/data/c409f808-fa27-431e-ba96-2933f2112a37.in.naf#ev7', 'http://www.newsreader-project.eu/data/wikinews/sigmed/data/e1ba081b-c1ca-4adc-9723-8159e3fc77a4.in.naf#ev7', 'http://www.newsreader-project.eu/data/wikinews/sigmed/data/712d3c67-320c-49c8-801a-c03e14b5b486.in.naf#ev7'}\n",
      "\n",
      "('http://dbpedia.org/resource/Canada', 'http://www.newsreader-project.eu/time/2012')\n",
      "{'http://www.newsreader-project.eu/data/wikinews/sigmed/data/3ae8df7b-a146-4b21-8258-ce3a8752e439.in.naf#ev50', 'http://www.newsreader-project.eu/data/wikinews/sigmed/data/9a422977-f83e-475d-884c-f3be1aa5d483.in.naf#ev50'}\n",
      "\n",
      "('http://dbpedia.org/resource/Iquique', 'http://www.newsreader-project.eu/time/201404')\n",
      "{'http://www.newsreader-project.eu/data/wikinews/sigmed/data/4cb38254-176e-4968-8467-e26c0694026e.in.naf#ev21', 'http://www.newsreader-project.eu/data/wikinews/sigmed/data/8eb75880-c6ae-4197-befd-67687e2c6cb7.in.naf#ev68', 'http://www.newsreader-project.eu/data/wikinews/sigmed/data/460706c6-1cce-42af-9c96-f74d5e4523aa.in.naf#ev77', 'http://www.newsreader-project.eu/data/wikinews/sigmed/data/33fbbc91-fa87-4d2d-b76f-4502e924c0b7.in.naf#ev65'}\n",
      "\n",
      "('http://dbpedia.org/resource/Cushing,_Oklahoma', 'http://www.newsreader-project.eu/time/20150918')\n",
      "{'http://www.newsreader-project.eu/data/wikinews/sigmed/data/9aa009a7-efa8-43ba-bd5f-e4d4e751cd45.in.naf#ev145', 'http://www.newsreader-project.eu/data/wikinews/sigmed/data/80242441-59ba-44a4-844b-b92755318585.in.naf#ev150', 'http://www.newsreader-project.eu/data/wikinews/sigmed/data/5c526c8a-7af1-4869-a78b-6bd1f253cbbd.in.naf#ev150'}\n",
      "\n",
      "('http://dbpedia.org/resource/Baja_California', 'http://www.newsreader-project.eu/time/20150913')\n",
      "{'http://www.newsreader-project.eu/data/wikinews/sigmed/data/3e6b4446-13fb-471e-bc5e-f38679a73ec9.in.naf#ev4', 'http://www.newsreader-project.eu/data/wikinews/sigmed/data/8371cc39-f52a-449e-b24b-8912f14075fc.in.naf#ev2'}\n",
      "\n",
      "('http://dbpedia.org/resource/California', 'http://www.newsreader-project.eu/time/20141127')\n",
      "{'http://www.newsreader-project.eu/data/wikinews/sigmed/data/c409f808-fa27-431e-ba96-2933f2112a37.in.naf#ev7', 'http://www.newsreader-project.eu/data/wikinews/sigmed/data/e1ba081b-c1ca-4adc-9723-8159e3fc77a4.in.naf#ev7', 'http://www.newsreader-project.eu/data/wikinews/sigmed/data/712d3c67-320c-49c8-801a-c03e14b5b486.in.naf#ev7'}\n",
      "\n",
      "('http://dbpedia.org/resource/Chile', 'http://www.newsreader-project.eu/time/20150917')\n",
      "{'http://www.newsreader-project.eu/data/wikinews/sigmed/data/33426676-f157-4419-a977-92af6440d899.in.naf#ev12', 'http://www.newsreader-project.eu/data/wikinews/sigmed/data/0ea03b00-eb66-486d-ad96-c6166ec55160.in.naf#ev28', 'http://www.newsreader-project.eu/data/wikinews/sigmed/data/524526ce-6ae7-4593-a272-219ad20a8e78.in.naf#ev18', 'http://www.newsreader-project.eu/data/wikinews/sigmed/data/92a513eb-eef3-4577-ba74-b8e4640e9b6f.in.naf#ev25', 'http://www.newsreader-project.eu/data/wikinews/sigmed/data/5224abb2-728d-4562-a653-91b775b946d9.in.naf#ev15', 'http://www.newsreader-project.eu/data/wikinews/sigmed/data/9dac9c4e-e9cb-4c43-a589-97ce1673ae30.in.naf#ev18', 'http://www.newsreader-project.eu/data/wikinews/sigmed/data/bd8332f3-fb31-4fc6-b9c4-a5f497a4dc18.in.naf#ev6', 'http://www.newsreader-project.eu/data/wikinews/sigmed/data/e639ef5d-6687-414e-bfe6-613a57c26839.in.naf#ev21'}\n",
      "\n",
      "('http://dbpedia.org/resource/Canada', 'http://www.newsreader-project.eu/time/1970')\n",
      "{'http://www.newsreader-project.eu/data/wikinews/sigmed/data/3ae8df7b-a146-4b21-8258-ce3a8752e439.in.naf#ev50', 'http://www.newsreader-project.eu/data/wikinews/sigmed/data/9a422977-f83e-475d-884c-f3be1aa5d483.in.naf#ev50'}\n",
      "\n",
      "('http://dbpedia.org/resource/Papua_(province)', 'http://www.newsreader-project.eu/time/20150925')\n",
      "{'http://www.newsreader-project.eu/data/wikinews/sigmed/data/324b7895-efde-4d74-bf49-8fd03261dd12.in.naf#ev26', 'http://www.newsreader-project.eu/data/wikinews/sigmed/data/da5dc3b5-5744-4c5f-bbcf-7366ff581594.in.naf#ev28'}\n",
      "\n",
      "('http://dbpedia.org/resource/Grand_Coulee_Dam', 'http://www.newsreader-project.eu/time/20150901')\n",
      "{'http://www.newsreader-project.eu/data/wikinews/sigmed/data/671b4492-c327-4c83-8aa2-ee54b6447dd2.in.naf#ev5', 'http://www.newsreader-project.eu/data/wikinews/sigmed/data/275f9b6f-2d14-4b1d-a1b1-dbc1bb30916e.in.naf#ev9', 'http://www.newsreader-project.eu/data/wikinews/sigmed/data/dba66689-bc5d-4076-abe8-5aff79309235.in.naf#ev6'}\n",
      "\n",
      "('http://dbpedia.org/resource/Chile', 'http://www.newsreader-project.eu/time/1960')\n",
      "{'http://www.newsreader-project.eu/data/wikinews/sigmed/data/b5889a4a-d12b-4e0e-8518-094e4a4529ae.in.naf#ev128', 'http://www.newsreader-project.eu/data/wikinews/sigmed/data/8879e89f-a75d-4640-b3c2-52a38a749aa9.in.naf#ev139', 'http://www.newsreader-project.eu/data/wikinews/sigmed/data/2737f022-e8d1-4e22-ad84-dd5b4132aead.in.naf#ev51', 'http://www.newsreader-project.eu/data/wikinews/sigmed/data/aa2bdb4c-0ebc-4c4f-a284-e3ae89fcd655.in.naf#ev123', 'http://www.newsreader-project.eu/data/wikinews/sigmed/data/416a2f25-0257-4c56-95a0-7466dd4f4a5b.in.naf#ev118', 'http://www.newsreader-project.eu/data/wikinews/sigmed/data/411cf2c8-966e-4a97-89f3-31ae35a44de9.in.naf#ev106', 'http://www.newsreader-project.eu/data/wikinews/sigmed/data/91ebd9cc-29af-4e3a-bce5-94d859b8ca24.in.naf#ev136'}\n",
      "\n",
      "('http://dbpedia.org/resource/Sinaloa', 'http://www.newsreader-project.eu/time/20150913')\n",
      "{'http://www.newsreader-project.eu/data/wikinews/sigmed/data/3e6b4446-13fb-471e-bc5e-f38679a73ec9.in.naf#ev4', 'http://www.newsreader-project.eu/data/wikinews/sigmed/data/8371cc39-f52a-449e-b24b-8912f14075fc.in.naf#ev2', 'http://www.newsreader-project.eu/data/wikinews/sigmed/data/f23d3f4c-2d11-4659-a01c-4770a51a028e.in.naf#ev5'}\n",
      "\n",
      "('http://dbpedia.org/resource/Fraser_Island', 'http://www.newsreader-project.eu/time/20150801')\n",
      "{'http://www.newsreader-project.eu/data/wikinews/sigmed/data/ee3ce871-8cb6-4d0d-9fd0-4cf9b575488f.in.naf#ev2', 'http://www.newsreader-project.eu/data/wikinews/sigmed/data/ea04ca8e-c774-42ac-9b1f-7d6a4caf5433.in.naf#ev2'}\n",
      "\n",
      "('http://dbpedia.org/resource/Chile', 'http://www.newsreader-project.eu/time/2010')\n",
      "{'http://www.newsreader-project.eu/data/wikinews/sigmed/data/91ebd9cc-29af-4e3a-bce5-94d859b8ca24.in.naf#ev123', 'http://www.newsreader-project.eu/data/wikinews/sigmed/data/3553d45c-1919-4a70-9aa8-4f7db122f886.in.naf#ev20', 'http://www.newsreader-project.eu/data/wikinews/sigmed/data/8879e89f-a75d-4640-b3c2-52a38a749aa9.in.naf#ev126', 'http://www.newsreader-project.eu/data/wikinews/sigmed/data/b5889a4a-d12b-4e0e-8518-094e4a4529ae.in.naf#ev113', 'http://www.newsreader-project.eu/data/wikinews/sigmed/data/416a2f25-0257-4c56-95a0-7466dd4f4a5b.in.naf#ev68', 'http://www.newsreader-project.eu/data/wikinews/sigmed/data/9dac9c4e-e9cb-4c43-a589-97ce1673ae30.in.naf#ev18', 'http://www.newsreader-project.eu/data/wikinews/sigmed/data/aa2bdb4c-0ebc-4c4f-a284-e3ae89fcd655.in.naf#ev70', 'http://www.newsreader-project.eu/data/wikinews/sigmed/data/523742c9-224c-486d-9fc1-018153e09ca5.in.naf#ev68'}\n",
      "\n",
      "('http://dbpedia.org/resource/Azerbaijan', 'http://www.newsreader-project.eu/time/20150929')\n",
      "{'http://www.newsreader-project.eu/data/wikinews/sigmed/data/4d04e345-55b7-45bb-8e0b-7aaa79d0207b.in.naf#ev31', 'http://www.newsreader-project.eu/data/wikinews/sigmed/data/a748a118-b204-4cd6-bdda-17a1e2c02d32.in.naf#ev31', 'http://www.newsreader-project.eu/data/wikinews/sigmed/data/2efdb926-a617-41db-8499-71b3fbe4dfb5.in.naf#ev31', 'http://www.newsreader-project.eu/data/wikinews/sigmed/data/4dbc053f-491a-4cb7-9f63-088475467b8c.in.naf#ev31', 'http://www.newsreader-project.eu/data/wikinews/sigmed/data/8ea9bd99-3159-48d6-bf5b-a302b64f9ff7.in.naf#ev31', 'http://www.newsreader-project.eu/data/wikinews/sigmed/data/d041bda8-c5c6-44aa-9c15-28ef1cccccc8.in.naf#ev31', 'http://www.newsreader-project.eu/data/wikinews/sigmed/data/ebd09d94-93d2-4ca6-ad5d-d299817cd89e.in.naf#ev31', 'http://www.newsreader-project.eu/data/wikinews/sigmed/data/0a3c4d1a-a61e-434d-9952-fd7775d07410.in.naf#ev31', 'http://www.newsreader-project.eu/data/wikinews/sigmed/data/6b9c7da7-0836-410b-87ed-60c362bb35d8.in.naf#ev31', 'http://www.newsreader-project.eu/data/wikinews/sigmed/data/f6728b9c-9fc0-47b2-ac05-51171fecbdf3.in.naf#ev31'}\n",
      "\n",
      "('http://dbpedia.org/resource/Oklahoma', 'http://www.newsreader-project.eu/time/201508')\n",
      "{'http://www.newsreader-project.eu/data/wikinews/sigmed/data/80242441-59ba-44a4-844b-b92755318585.in.naf#ev56', 'http://www.newsreader-project.eu/data/wikinews/sigmed/data/5c526c8a-7af1-4869-a78b-6bd1f253cbbd.in.naf#ev56', 'http://www.newsreader-project.eu/data/wikinews/sigmed/data/9aa009a7-efa8-43ba-bd5f-e4d4e751cd45.in.naf#ev56'}\n",
      "\n",
      "('http://dbpedia.org/resource/United_Kingdom', 'http://www.newsreader-project.eu/time/2012')\n",
      "{'http://www.newsreader-project.eu/data/wikinews/sigmed/data/3ae8df7b-a146-4b21-8258-ce3a8752e439.in.naf#ev45', 'http://www.newsreader-project.eu/data/wikinews/sigmed/data/9a422977-f83e-475d-884c-f3be1aa5d483.in.naf#ev45'}\n",
      "\n",
      "('http://dbpedia.org/resource/South_America', 'http://www.newsreader-project.eu/time/20150917')\n",
      "{'http://www.newsreader-project.eu/data/wikinews/sigmed/data/523742c9-224c-486d-9fc1-018153e09ca5.in.naf#ev34', 'http://www.newsreader-project.eu/data/wikinews/sigmed/data/0943076f-d131-49ef-9490-e075b1e799a5.in.naf#ev8'}\n",
      "\n",
      "('http://dbpedia.org/resource/Fraser_Island', 'http://www.newsreader-project.eu/time/20150731')\n",
      "{'http://www.newsreader-project.eu/data/wikinews/sigmed/data/ee3ce871-8cb6-4d0d-9fd0-4cf9b575488f.in.naf#ev2', 'http://www.newsreader-project.eu/data/wikinews/sigmed/data/ea04ca8e-c774-42ac-9b1f-7d6a4caf5433.in.naf#ev2'}\n",
      "\n",
      "('http://dbpedia.org/resource/Nepal', 'http://www.newsreader-project.eu/time/20150907')\n",
      "{'http://www.newsreader-project.eu/data/wikinews/sigmed/data/003939bf-0842-4522-95ca-b25410d6cff3.in.naf#ev13', 'http://www.newsreader-project.eu/data/wikinews/sigmed/data/003939bf-0842-4522-95ca-b25410d6cff3.in.naf#ev14'}\n",
      "\n",
      "('http://dbpedia.org/resource/United_Kingdom', 'http://www.newsreader-project.eu/time/1999')\n",
      "{'http://www.newsreader-project.eu/data/wikinews/sigmed/data/0901be40-13dc-4847-addc-3eddf63d4760.in.naf#ev9', 'http://www.newsreader-project.eu/data/wikinews/sigmed/data/a271f506-8913-4a8e-a463-099358a55c9b.in.naf#ev9'}\n",
      "\n",
      "('http://dbpedia.org/resource/Washington_(state)', 'http://www.newsreader-project.eu/time/20150901')\n",
      "{'http://www.newsreader-project.eu/data/wikinews/sigmed/data/671b4492-c327-4c83-8aa2-ee54b6447dd2.in.naf#ev5', 'http://www.newsreader-project.eu/data/wikinews/sigmed/data/275f9b6f-2d14-4b1d-a1b1-dbc1bb30916e.in.naf#ev9', 'http://www.newsreader-project.eu/data/wikinews/sigmed/data/dba66689-bc5d-4076-abe8-5aff79309235.in.naf#ev6'}\n",
      "\n",
      "('http://dbpedia.org/resource/North_America', 'http://www.newsreader-project.eu/time/20150924')\n",
      "{'http://www.newsreader-project.eu/data/wikinews/sigmed/data/19e2418f-41a1-4b58-a330-92cafa2ed9c8.in.naf#ev18', 'http://www.newsreader-project.eu/data/wikinews/sigmed/data/a5e80a5f-f96b-40f5-aa82-db89655e7da4.in.naf#ev18'}\n",
      "\n",
      "('http://dbpedia.org/resource/Canada', 'http://www.newsreader-project.eu/time/1991')\n",
      "{'http://www.newsreader-project.eu/data/wikinews/sigmed/data/3ae8df7b-a146-4b21-8258-ce3a8752e439.in.naf#ev50', 'http://www.newsreader-project.eu/data/wikinews/sigmed/data/9a422977-f83e-475d-884c-f3be1aa5d483.in.naf#ev50'}\n",
      "\n",
      "('http://dbpedia.org/resource/Canada', 'http://www.newsreader-project.eu/time/2014')\n",
      "{'http://www.newsreader-project.eu/data/wikinews/sigmed/data/3ae8df7b-a146-4b21-8258-ce3a8752e439.in.naf#ev50', 'http://www.newsreader-project.eu/data/wikinews/sigmed/data/9a422977-f83e-475d-884c-f3be1aa5d483.in.naf#ev50'}\n",
      "\n",
      "('http://dbpedia.org/resource/Nepal', 'http://www.newsreader-project.eu/time/2015')\n",
      "{'http://www.newsreader-project.eu/data/wikinews/sigmed/data/3d66953e-e7a4-4cd1-9402-d86fb3d04273.in.naf#ev19', 'http://www.newsreader-project.eu/data/wikinews/sigmed/data/e8ab3dc7-b26f-4788-97ba-bc9356c58d99.in.naf#ev19'}\n",
      "\n",
      "('http://dbpedia.org/resource/Illapel', 'http://www.newsreader-project.eu/time/20150917')\n",
      "{'http://www.newsreader-project.eu/data/wikinews/sigmed/data/524526ce-6ae7-4593-a272-219ad20a8e78.in.naf#ev9', 'http://www.newsreader-project.eu/data/wikinews/sigmed/data/e639ef5d-6687-414e-bfe6-613a57c26839.in.naf#ev21'}\n",
      "\n",
      "('http://dbpedia.org/resource/California', 'http://www.newsreader-project.eu/time/20150914')\n",
      "{'http://www.newsreader-project.eu/data/wikinews/sigmed/data/c409f808-fa27-431e-ba96-2933f2112a37.in.naf#ev7', 'http://www.newsreader-project.eu/data/wikinews/sigmed/data/e1ba081b-c1ca-4adc-9723-8159e3fc77a4.in.naf#ev7', 'http://www.newsreader-project.eu/data/wikinews/sigmed/data/712d3c67-320c-49c8-801a-c03e14b5b486.in.naf#ev7'}\n",
      "\n",
      "('http://dbpedia.org/resource/Chile', 'http://www.newsreader-project.eu/time/20150916')\n",
      "{'http://www.newsreader-project.eu/data/wikinews/sigmed/data/55584e03-15cc-473a-a040-2a2d0174ae81.in.naf#ev7', 'http://www.newsreader-project.eu/data/wikinews/sigmed/data/7d8ccc58-fdd0-40c6-9d5b-8b66d009636d.in.naf#ev15', 'http://www.newsreader-project.eu/data/wikinews/sigmed/data/0fd78387-ee66-485f-bcee-03efc8b6bccf.in.naf#ev8', 'http://www.newsreader-project.eu/data/wikinews/sigmed/data/0fd78387-ee66-485f-bcee-03efc8b6bccf.in.naf#ev9', 'http://www.newsreader-project.eu/data/wikinews/sigmed/data/92a513eb-eef3-4577-ba74-b8e4640e9b6f.in.naf#ev25', 'http://www.newsreader-project.eu/data/wikinews/sigmed/data/4d1e889a-a8ef-481b-8be1-8eff55b96af5.in.naf#ev103', 'http://www.newsreader-project.eu/data/wikinews/sigmed/data/af748619-feb4-4f40-9766-a83bfae7b003.in.naf#ev17', 'http://www.newsreader-project.eu/data/wikinews/sigmed/data/b59abe26-169a-4e90-824c-176e2695b2a2.in.naf#ev118'}\n",
      "\n",
      "('http://dbpedia.org/resource/Queensland', 'http://www.newsreader-project.eu/time/20150731')\n",
      "{'http://www.newsreader-project.eu/data/wikinews/sigmed/data/ee3ce871-8cb6-4d0d-9fd0-4cf9b575488f.in.naf#ev2', 'http://www.newsreader-project.eu/data/wikinews/sigmed/data/ea04ca8e-c774-42ac-9b1f-7d6a4caf5433.in.naf#ev2'}\n",
      "\n",
      "('http://dbpedia.org/resource/Queensland', 'http://www.newsreader-project.eu/time/20150801')\n",
      "{'http://www.newsreader-project.eu/data/wikinews/sigmed/data/ee3ce871-8cb6-4d0d-9fd0-4cf9b575488f.in.naf#ev2', 'http://www.newsreader-project.eu/data/wikinews/sigmed/data/ea04ca8e-c774-42ac-9b1f-7d6a4caf5433.in.naf#ev2'}\n",
      "\n",
      "('http://dbpedia.org/resource/United_Kingdom', 'http://www.newsreader-project.eu/time/1970')\n",
      "{'http://www.newsreader-project.eu/data/wikinews/sigmed/data/3ae8df7b-a146-4b21-8258-ce3a8752e439.in.naf#ev45', 'http://www.newsreader-project.eu/data/wikinews/sigmed/data/9a422977-f83e-475d-884c-f3be1aa5d483.in.naf#ev45'}\n"
     ]
    }
   ],
   "source": [
    "counter = 0\n",
    "for key, value in results.items():\n",
    "    if len(value) >= 2:\n",
    "        print()\n",
    "        print(key)\n",
    "        print(value)"
   ]
  },
  {
   "cell_type": "code",
   "execution_count": null,
   "metadata": {
    "collapsed": true
   },
   "outputs": [],
   "source": []
  },
  {
   "cell_type": "code",
   "execution_count": null,
   "metadata": {
    "collapsed": true
   },
   "outputs": [],
   "source": []
  }
 ],
 "metadata": {
  "anaconda-cloud": {},
  "kernelspec": {
   "display_name": "Python [conda root]",
   "language": "python",
   "name": "conda-root-py"
  },
  "language_info": {
   "codemirror_mode": {
    "name": "ipython",
    "version": 3
   },
   "file_extension": ".py",
   "mimetype": "text/x-python",
   "name": "python",
   "nbconvert_exporter": "python",
   "pygments_lexer": "ipython3",
   "version": "3.5.2"
  }
 },
 "nbformat": 4,
 "nbformat_minor": 0
}
