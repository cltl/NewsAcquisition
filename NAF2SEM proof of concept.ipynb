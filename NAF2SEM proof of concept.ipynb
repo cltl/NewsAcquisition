{
 "cells": [
  {
   "cell_type": "code",
   "execution_count": 1,
   "metadata": {
    "collapsed": true
   },
   "outputs": [],
   "source": [
    "import utils"
   ]
  },
  {
   "cell_type": "code",
   "execution_count": 2,
   "metadata": {
    "collapsed": true
   },
   "outputs": [],
   "source": [
    "labels=\"'earthquake', 'quake', 'temblor'\"\n",
    "time=True\n",
    "participants=False\n",
    "location=True\n",
    "strictLocations=True\n",
    "pageRankFilter=True\n",
    "pr_limit=500.0"
   ]
  },
  {
   "cell_type": "code",
   "execution_count": 3,
   "metadata": {
    "collapsed": false
   },
   "outputs": [
    {
     "name": "stdout",
     "output_type": "stream",
     "text": [
      "\n",
      "\tPREFIX sem: <http://semanticweb.cs.vu.nl/2009/11/sem/>\n",
      "\tPREFIX skos: <http://www.w3.org/2004/02/skos/core#>\n",
      "\tPREFIX dbpedia: <http://dbpedia.org/resource/>\n",
      "\tPREFIX owltime: <http://www.w3.org/TR/owl-time#>\n",
      "\tPREFIX rdfs: <http://www.w3.org/2000/01/rdf-schema#>\n",
      "\tPREFIX dbo: <http://dbpedia.org/ontology/>\n",
      "\tPREFIX vrank: <http://purl.org/voc/vrank#>\n",
      "\tSELECT ?event ?location ?time ?participant WHERE {\n",
      "    \n",
      "\t\t?event a sem:Event .\n",
      "\t\t{ ?event rdfs:label ?label .\n",
      "\t\tFILTER (?label IN ('earthquake', 'quake', 'temblor')) } \n",
      "\t\tUNION\n",
      "\t\t{ ?event sem:hasActor ?nonentity .\n",
      "\t\t?nonentity skos:relatedMatch dbpedia:Earthquake } . \n",
      "\t\t?event sem:hasTime ?tmx . ?tmx owltime:inDateTime ?time .  \n",
      "\t\t?event sem:hasPlace ?location .  \n",
      "\t\t?location a ?x . ?x rdfs:subClassOf* dbo:Place . \n",
      "\t\tFILTER (!REGEX(STR(?x), 'http://dbpedia.org/ontology/Country')) .\n",
      "\t\tFILTER NOT EXISTS { ?x rdfs:subClassOf* dbo:Country  } .   \n",
      "\t\t?location vrank:hasRank/vrank:rankValue ?pagerank .\n",
      "\t\tFILTER (xsd:float(?pagerank)<=500.000000) .\n",
      "    \n",
      "    \n",
      "\t}\n",
      "    \n"
     ]
    }
   ],
   "source": [
    "query=utils.get_me_a_query(labels, time, location, participants, strictLocations, pageRankFilter, pr_limit)\n",
    "print(query)"
   ]
  },
  {
   "cell_type": "code",
   "execution_count": 4,
   "metadata": {
    "collapsed": false
   },
   "outputs": [
    {
     "data": {
      "text/plain": [
       "84"
      ]
     },
     "execution_count": 4,
     "metadata": {},
     "output_type": "execute_result"
    }
   ],
   "source": [
    "res=utils.get_sparql_results(query)\n",
    "len(res)"
   ]
  },
  {
   "cell_type": "code",
   "execution_count": 5,
   "metadata": {
    "collapsed": false
   },
   "outputs": [],
   "source": [
    "from collections import Counter\n",
    "from collections import defaultdict\n",
    "import operator"
   ]
  },
  {
   "cell_type": "code",
   "execution_count": 6,
   "metadata": {
    "collapsed": false
   },
   "outputs": [
    {
     "data": {
      "text/plain": [
       "{'event': {'type': 'uri',\n",
       "  'value': 'http://www.newsreader-project.eu/data/wikinews/sigmed/data/d7ddc614-701e-4700-917a-0efc25aa3459.in.naf#ev59'},\n",
       " 'location': {'type': 'uri',\n",
       "  'value': 'http://dbpedia.org/resource/Banda_Aceh'},\n",
       " 'time': {'type': 'uri',\n",
       "  'value': 'http://www.newsreader-project.eu/time/2004'}}"
      ]
     },
     "execution_count": 6,
     "metadata": {},
     "output_type": "execute_result"
    }
   ],
   "source": [
    "res[0]"
   ]
  },
  {
   "cell_type": "code",
   "execution_count": 7,
   "metadata": {
    "collapsed": false
   },
   "outputs": [],
   "source": [
    "results = defaultdict(set)\n",
    "for item in res:\n",
    "    key = (item['location']['value'], item['time']['value'])\n",
    "    results[key].add(item['event']['value'])"
   ]
  },
  {
   "cell_type": "code",
   "execution_count": 8,
   "metadata": {
    "collapsed": false
   },
   "outputs": [
    {
     "name": "stdout",
     "output_type": "stream",
     "text": [
      "\n",
      "('http://dbpedia.org/resource/Fraser_Island', 'http://www.newsreader-project.eu/time/20150801')\n",
      "{'http://www.newsreader-project.eu/data/wikinews/sigmed/data/ea04ca8e-c774-42ac-9b1f-7d6a4caf5433.in.naf#ev2', 'http://www.newsreader-project.eu/data/wikinews/sigmed/data/ee3ce871-8cb6-4d0d-9fd0-4cf9b575488f.in.naf#ev2'}\n",
      "\n",
      "('http://dbpedia.org/resource/Cushing,_Oklahoma', 'http://www.newsreader-project.eu/time/20150918')\n",
      "{'http://www.newsreader-project.eu/data/wikinews/sigmed/data/5c526c8a-7af1-4869-a78b-6bd1f253cbbd.in.naf#ev150', 'http://www.newsreader-project.eu/data/wikinews/sigmed/data/9aa009a7-efa8-43ba-bd5f-e4d4e751cd45.in.naf#ev145', 'http://www.newsreader-project.eu/data/wikinews/sigmed/data/80242441-59ba-44a4-844b-b92755318585.in.naf#ev150'}\n",
      "\n",
      "('http://dbpedia.org/resource/Illapel', 'http://www.newsreader-project.eu/time/20150917')\n",
      "{'http://www.newsreader-project.eu/data/wikinews/sigmed/data/524526ce-6ae7-4593-a272-219ad20a8e78.in.naf#ev9', 'http://www.newsreader-project.eu/data/wikinews/sigmed/data/e639ef5d-6687-414e-bfe6-613a57c26839.in.naf#ev21'}\n",
      "\n",
      "('http://dbpedia.org/resource/Fraser_Island', 'http://www.newsreader-project.eu/time/20150731')\n",
      "{'http://www.newsreader-project.eu/data/wikinews/sigmed/data/ea04ca8e-c774-42ac-9b1f-7d6a4caf5433.in.naf#ev2', 'http://www.newsreader-project.eu/data/wikinews/sigmed/data/ee3ce871-8cb6-4d0d-9fd0-4cf9b575488f.in.naf#ev2'}\n",
      "\n",
      "('http://dbpedia.org/resource/Oklahoma', 'http://www.newsreader-project.eu/time/201508')\n",
      "{'http://www.newsreader-project.eu/data/wikinews/sigmed/data/5c526c8a-7af1-4869-a78b-6bd1f253cbbd.in.naf#ev56', 'http://www.newsreader-project.eu/data/wikinews/sigmed/data/80242441-59ba-44a4-844b-b92755318585.in.naf#ev56', 'http://www.newsreader-project.eu/data/wikinews/sigmed/data/9aa009a7-efa8-43ba-bd5f-e4d4e751cd45.in.naf#ev56'}\n",
      "\n",
      "('http://dbpedia.org/resource/Iquique', 'http://www.newsreader-project.eu/time/201404')\n",
      "{'http://www.newsreader-project.eu/data/wikinews/sigmed/data/8eb75880-c6ae-4197-befd-67687e2c6cb7.in.naf#ev68', 'http://www.newsreader-project.eu/data/wikinews/sigmed/data/33fbbc91-fa87-4d2d-b76f-4502e924c0b7.in.naf#ev65', 'http://www.newsreader-project.eu/data/wikinews/sigmed/data/460706c6-1cce-42af-9c96-f74d5e4523aa.in.naf#ev77', 'http://www.newsreader-project.eu/data/wikinews/sigmed/data/4cb38254-176e-4968-8467-e26c0694026e.in.naf#ev21'}\n",
      "\n",
      "('http://dbpedia.org/resource/Papua_(province)', 'http://www.newsreader-project.eu/time/20150925')\n",
      "{'http://www.newsreader-project.eu/data/wikinews/sigmed/data/324b7895-efde-4d74-bf49-8fd03261dd12.in.naf#ev26', 'http://www.newsreader-project.eu/data/wikinews/sigmed/data/da5dc3b5-5744-4c5f-bbcf-7366ff581594.in.naf#ev28'}\n",
      "\n",
      "('http://dbpedia.org/resource/Queensland', 'http://www.newsreader-project.eu/time/20150801')\n",
      "{'http://www.newsreader-project.eu/data/wikinews/sigmed/data/ea04ca8e-c774-42ac-9b1f-7d6a4caf5433.in.naf#ev2', 'http://www.newsreader-project.eu/data/wikinews/sigmed/data/ee3ce871-8cb6-4d0d-9fd0-4cf9b575488f.in.naf#ev2'}\n",
      "\n",
      "('http://dbpedia.org/resource/Baja_California', 'http://www.newsreader-project.eu/time/20150913')\n",
      "{'http://www.newsreader-project.eu/data/wikinews/sigmed/data/8371cc39-f52a-449e-b24b-8912f14075fc.in.naf#ev2', 'http://www.newsreader-project.eu/data/wikinews/sigmed/data/3e6b4446-13fb-471e-bc5e-f38679a73ec9.in.naf#ev4'}\n",
      "\n",
      "('http://dbpedia.org/resource/Washington_(state)', 'http://www.newsreader-project.eu/time/20150901')\n",
      "{'http://www.newsreader-project.eu/data/wikinews/sigmed/data/671b4492-c327-4c83-8aa2-ee54b6447dd2.in.naf#ev5', 'http://www.newsreader-project.eu/data/wikinews/sigmed/data/dba66689-bc5d-4076-abe8-5aff79309235.in.naf#ev6', 'http://www.newsreader-project.eu/data/wikinews/sigmed/data/275f9b6f-2d14-4b1d-a1b1-dbc1bb30916e.in.naf#ev9'}\n",
      "\n",
      "('http://dbpedia.org/resource/Sinaloa', 'http://www.newsreader-project.eu/time/20150913')\n",
      "{'http://www.newsreader-project.eu/data/wikinews/sigmed/data/8371cc39-f52a-449e-b24b-8912f14075fc.in.naf#ev2', 'http://www.newsreader-project.eu/data/wikinews/sigmed/data/f23d3f4c-2d11-4659-a01c-4770a51a028e.in.naf#ev5', 'http://www.newsreader-project.eu/data/wikinews/sigmed/data/3e6b4446-13fb-471e-bc5e-f38679a73ec9.in.naf#ev4'}\n",
      "\n",
      "('http://dbpedia.org/resource/Grand_Coulee_Dam', 'http://www.newsreader-project.eu/time/20150901')\n",
      "{'http://www.newsreader-project.eu/data/wikinews/sigmed/data/671b4492-c327-4c83-8aa2-ee54b6447dd2.in.naf#ev5', 'http://www.newsreader-project.eu/data/wikinews/sigmed/data/dba66689-bc5d-4076-abe8-5aff79309235.in.naf#ev6', 'http://www.newsreader-project.eu/data/wikinews/sigmed/data/275f9b6f-2d14-4b1d-a1b1-dbc1bb30916e.in.naf#ev9'}\n",
      "\n",
      "('http://dbpedia.org/resource/Queensland', 'http://www.newsreader-project.eu/time/20150731')\n",
      "{'http://www.newsreader-project.eu/data/wikinews/sigmed/data/ea04ca8e-c774-42ac-9b1f-7d6a4caf5433.in.naf#ev2', 'http://www.newsreader-project.eu/data/wikinews/sigmed/data/ee3ce871-8cb6-4d0d-9fd0-4cf9b575488f.in.naf#ev2'}\n"
     ]
    }
   ],
   "source": [
    "counter = 0\n",
    "for key, value in results.items():\n",
    "    if len(value) >= 2:\n",
    "        print()\n",
    "        print(key)\n",
    "        print(value)"
   ]
  },
  {
   "cell_type": "code",
   "execution_count": null,
   "metadata": {
    "collapsed": true
   },
   "outputs": [],
   "source": []
  },
  {
   "cell_type": "code",
   "execution_count": null,
   "metadata": {
    "collapsed": true
   },
   "outputs": [],
   "source": []
  }
 ],
 "metadata": {
  "anaconda-cloud": {},
  "kernelspec": {
   "display_name": "Python [Root]",
   "language": "python",
   "name": "Python [Root]"
  },
  "language_info": {
   "codemirror_mode": {
    "name": "ipython",
    "version": 3
   },
   "file_extension": ".py",
   "mimetype": "text/x-python",
   "name": "python",
   "nbconvert_exporter": "python",
   "pygments_lexer": "ipython3",
   "version": "3.5.2"
  }
 },
 "nbformat": 4,
 "nbformat_minor": 0
}
