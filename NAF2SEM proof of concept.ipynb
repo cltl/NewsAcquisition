{
 "cells": [
  {
   "cell_type": "code",
   "execution_count": 1,
   "metadata": {
    "collapsed": true
   },
   "outputs": [],
   "source": [
    "import utils"
   ]
  },
  {
   "cell_type": "code",
   "execution_count": 2,
   "metadata": {
    "collapsed": true
   },
   "outputs": [],
   "source": [
    "labels=\"'earthquake', 'quake', 'temblor'\"\n",
    "time=True\n",
    "participants=False\n",
    "location=True\n",
    "strictLocations=True\n",
    "pageRankFilter=True\n",
    "pr_limit=500.0"
   ]
  },
  {
   "cell_type": "code",
   "execution_count": 3,
   "metadata": {
    "collapsed": false
   },
   "outputs": [
    {
     "name": "stdout",
     "output_type": "stream",
     "text": [
      "\n",
      "\tPREFIX sem: <http://semanticweb.cs.vu.nl/2009/11/sem/>\n",
      "\tPREFIX skos: <http://www.w3.org/2004/02/skos/core#>\n",
      "\tPREFIX dbpedia: <http://dbpedia.org/resource/>\n",
      "\tPREFIX owltime: <http://www.w3.org/TR/owl-time#>\n",
      "\tPREFIX rdfs: <http://www.w3.org/2000/01/rdf-schema#>\n",
      "\tPREFIX dbo: <http://dbpedia.org/ontology/>\n",
      "\tPREFIX vrank: <http://purl.org/voc/vrank#>\n",
      "\tSELECT ?event ?location ?time ?participant WHERE {\n",
      "    \n",
      "\t\t?event a sem:Event .\n",
      "\t\t{ ?event rdfs:label ?label .\n",
      "\t\tFILTER (?label IN ('earthquake', 'quake', 'temblor')) } \n",
      "\t\tUNION\n",
      "\t\t{ ?event sem:hasActor ?nonentity .\n",
      "\t\t?nonentity skos:relatedMatch dbpedia:Earthquake } . \n",
      "\t\t?event sem:hasTime ?tmx . ?tmx owltime:inDateTime ?time .  \n",
      "\t\t?event sem:hasPlace ?location .  \n",
      "\t\t?location a ?x . ?x rdfs:subClassOf* dbo:Place . \n",
      "\t\tFILTER (!REGEX(STR(?x), 'http://dbpedia.org/ontology/Country')) .\n",
      "\t\tFILTER NOT EXISTS { ?x rdfs:subClassOf* dbo:Country  } .   \n",
      "\t\t?location vrank:hasRank/vrank:rankValue ?pagerank .\n",
      "\t\tFILTER (xsd:float(?pagerank)<=500.000000) .\n",
      "    \n",
      "    \n",
      "\t}\n",
      "    \n"
     ]
    }
   ],
   "source": [
    "query=utils.get_me_a_query(labels, time, location, participants, strictLocations, pageRankFilter, pr_limit)\n",
    "print(query)"
   ]
  },
  {
   "cell_type": "code",
   "execution_count": 4,
   "metadata": {
    "collapsed": false
   },
   "outputs": [
    {
     "data": {
      "text/plain": [
       "87"
      ]
     },
     "execution_count": 4,
     "metadata": {},
     "output_type": "execute_result"
    }
   ],
   "source": [
    "res=utils.get_sparql_results(query)\n",
    "len(res)"
   ]
  },
  {
   "cell_type": "code",
   "execution_count": 5,
   "metadata": {
    "collapsed": false
   },
   "outputs": [],
   "source": [
    "from collections import Counter\n",
    "from collections import defaultdict\n",
    "import operator\n",
    "import json\n",
    "from Levenshtein import ratio"
   ]
  },
  {
   "cell_type": "code",
   "execution_count": 6,
   "metadata": {
    "collapsed": false
   },
   "outputs": [
    {
     "data": {
      "text/plain": [
       "{'event': {'type': 'uri',\n",
       "  'value': 'http://www.newsreader-project.eu/data/wikinews/sigmed/data/d7ddc614-701e-4700-917a-0efc25aa3459.in.naf#ev59'},\n",
       " 'location': {'type': 'uri',\n",
       "  'value': 'http://dbpedia.org/resource/Banda_Aceh'},\n",
       " 'time': {'type': 'uri',\n",
       "  'value': 'http://www.newsreader-project.eu/time/2004'}}"
      ]
     },
     "execution_count": 6,
     "metadata": {},
     "output_type": "execute_result"
    }
   ],
   "source": [
    "res[0]"
   ]
  },
  {
   "cell_type": "code",
   "execution_count": 7,
   "metadata": {
    "collapsed": false
   },
   "outputs": [],
   "source": [
    "results = defaultdict(set)\n",
    "for item in res:\n",
    "    key = (item['location']['value'], item['time']['value'])\n",
    "    results[key].add(item['event']['value'])"
   ]
  },
  {
   "cell_type": "code",
   "execution_count": 8,
   "metadata": {
    "collapsed": true
   },
   "outputs": [],
   "source": [
    "apath_signal_media_json = 'SignalMedia/signalmedia-1m.jsonl'"
   ]
  },
  {
   "cell_type": "code",
   "execution_count": 9,
   "metadata": {
    "collapsed": false
   },
   "outputs": [],
   "source": [
    "def retrieve_ids(path_signal_media_json, ids):\n",
    "    result_jsons = dict()\n",
    "    \n",
    "    with open(path_signal_media_json) as infile:\n",
    "        for counter, line in enumerate(infile, 1):\n",
    "            a_json = json.loads(line)\n",
    "            if a_json['id'] in ids:\n",
    "                result_jsons[a_json['id']] = a_json\n",
    "            \n",
    "            if set(result_jsons.keys()) == ids:\n",
    "                break\n",
    "    \n",
    "    return result_jsons"
   ]
  },
  {
   "cell_type": "code",
   "execution_count": 10,
   "metadata": {
    "collapsed": true
   },
   "outputs": [],
   "source": [
    "def find_duplicates(ids, results_json, threshold=0.8):\n",
    "    possible_duplicates = set()\n",
    "    \n",
    "    for an_id1 in ids:\n",
    "        for an_id2 in ids:\n",
    "            if an_id1 != an_id2:\n",
    "                distance = ratio(result_jsons[an_id1]['content'],\n",
    "                                 result_jsons[an_id2]['content'])\n",
    "                if distance > threshold:\n",
    "                    possible_duplicates.add(an_id1)\n",
    "                    possible_duplicates.add(an_id2)\n",
    "    return possible_duplicates\n",
    "    "
   ]
  },
  {
   "cell_type": "code",
   "execution_count": 11,
   "metadata": {
    "collapsed": true
   },
   "outputs": [],
   "source": [
    "needed_ids = {ev_id.split('/')[-1].split('.')[0]\n",
    "              for value in results.values()\n",
    "              for ev_id in value}\n",
    "result_jsons = retrieve_ids(apath_signal_media_json,\n",
    "                            needed_ids)"
   ]
  },
  {
   "cell_type": "code",
   "execution_count": 15,
   "metadata": {
    "collapsed": true
   },
   "outputs": [],
   "source": [
    "done = {('http://dbpedia.org/resource/Cushing,_Oklahoma', 'http://www.newsreader-project.eu/time/20150918'),\n",
    "       ('http://dbpedia.org/resource/Iquique', 'http://www.newsreader-project.eu/time/201404'),    \n",
    "       ('http://dbpedia.org/resource/Queensland', 'http://www.newsreader-project.eu/time/20150801'),\n",
    "       ('http://dbpedia.org/resource/Queensland', 'http://www.newsreader-project.eu/time/20150731'),\n",
    "       ('http://dbpedia.org/resource/Washington_(state)', 'http://www.newsreader-project.eu/time/20150901'),\n",
    "       ('http://dbpedia.org/resource/Oklahoma', 'http://www.newsreader-project.eu/time/201508'),\n",
    "        ('http://dbpedia.org/resource/Sinaloa', 'http://www.newsreader-project.eu/time/20150913'),\n",
    "        ('http://dbpedia.org/resource/Papua_(province)', 'http://www.newsreader-project.eu/time/20150925'),\n",
    "        #('http://dbpedia.org/resource/Grand_Coulee_Dam', 'http://www.newsreader-project.eu/time/20150901'),\n",
    "        ('http://dbpedia.org/resource/Baja_California', 'http://www.newsreader-project.eu/time/20150913'),\n",
    "        ('http://dbpedia.org/resource/Illapel', 'http://www.newsreader-project.eu/time/20150917'),\n",
    "        ('http://dbpedia.org/resource/Fraser_Island', 'http://www.newsreader-project.eu/time/20150801'),\n",
    "        ('http://dbpedia.org/resource/Fraser_Island', 'http://www.newsreader-project.eu/time/20150731'),\n",
    "        ('http://dbpedia.org/resource/California', 'http://www.newsreader-project.eu/time/20150927'),\n",
    "        ('http://dbpedia.org/resource/South_America', 'http://www.newsreader-project.eu/time/20150917'),\n",
    "        ('http://dbpedia.org/resource/California', 'http://www.newsreader-project.eu/time/20141127'),\n",
    "        ('http://dbpedia.org/resource/California', 'http://www.newsreader-project.eu/time/20150914'),\n",
    "        ('http://dbpedia.org/resource/North_America', 'http://www.newsreader-project.eu/time/20150924')\n",
    "\n",
    "}"
   ]
  },
  {
   "cell_type": "code",
   "execution_count": 16,
   "metadata": {
    "collapsed": false
   },
   "outputs": [
    {
     "name": "stdout",
     "output_type": "stream",
     "text": [
      "3 3 0\n",
      "0 3 3\n",
      "2 2 0\n",
      "3 3 0\n",
      "2 2 0\n",
      "0 2 2\n",
      "2 2 0\n",
      "3 4 1\n",
      "2 4 2\n",
      "\n",
      "('http://dbpedia.org/resource/Grand_Coulee_Dam', 'http://www.newsreader-project.eu/time/20150901')\n",
      "\n",
      "possible duplicates\n",
      "{'dba66689-bc5d-4076-abe8-5aff79309235', '671b4492-c327-4c83-8aa2-ee54b6447dd2'}\n",
      "\n",
      "\n",
      "{'content': '1:03 p.m. CDT \\n \\n(Reuters) - A magnitude 4.2 earthquake struck near Grand Coulee Dam, the largest U.S. hydropower facility, in northeastern Washington state on Tuesday, prompting an immediate inspection of the facility but leaving no visible damage, a spokeswoman said. \\n \\nOperations of the dam, which supplies electricity to 11 Western states, were not disrupted by the tremor 25 miles (40 km) north of the facility, according to the spokeswoman, Lynne Brougher of the U.S. Bureau of Reclamation, the agency that runs the dam. \\n \\n(Reporting by Steve Gorman; Editing by Sandra Maler)', 'source': '1440 WNFL', 'media-type': 'News', 'id': 'dba66689-bc5d-4076-abe8-5aff79309235', 'title': 'Magnitude 4.2 quake strikes near Grand Coulee Dam in Washington', 'published': '2015-09-01T18:03:37Z'}\n",
      "\n",
      "{'content': '(Reuters) - A magnitude 4.2 earthquake struck near Grand Coulee Dam, the largest U.S. hydropower facility, in northeastern Washington state on Tuesday, prompting an immediate inspection of the facility but leaving no visible damage, a spokeswoman said.\\n\\nOperations of the dam, which supplies electricity to 11 Western states, were not disrupted by the tremor 25 miles (40 km) north of the facility, according to the spokeswoman, Lynne Brougher of the U.S. Bureau of Reclamation, the agency that runs the dam.\\n\\n(Reporting by Steve Gorman; Editing by Sandra Maler)', 'source': 'Yahoo! Singapore', 'media-type': 'News', 'id': '671b4492-c327-4c83-8aa2-ee54b6447dd2', 'title': 'Magnitude 4.2 quake strikes near Grand Coulee Dam in Washington', 'published': '2015-09-01T18:03:37Z'}\n",
      "\n",
      "{'content': \"Delaware Democratic senatorial candidate Chris Coons gestures as he speaks during a campaign event in Newark \\n(Reuters) - Democratic U.S. Senator Chris Coons said on Tuesday he will support the Iran nuclear deal, the Washington Post said, leaving the list of senators backing the agreement just one shy of the 34 needed to ensure it will survive congressional review. \\n \\nCoons, a member of the Senate Foreign Relations Committee, holds the Delaware U.S. Senate seat once held by Vice President Joe Biden. He was due to discuss his position on the Iran deal on Tuesday at the University of Delaware. \\n \\nTo date, 31 Senate Democrats and two independents who vote with the Democrats have said they would back the agreement. \\n \\n \\n(Reporting by Patricia Zengerle; Editing by Bill Trott and Emily Stephenson) \\n \\nRead the original article on Reuters .  Copyright 2015. Follow Reuters on Twitter . \\n  More from Reuters:   Alabama police officer on trial for throwing Indian man to ground    Magnitude 4.2 quake strikes near Grand Coulee Dam in Washington    Inflation a reason to keep rates fairly low: Fed's Rosengren    Lawsuit against Uber withdrawn over alleged India rape    Florida Supreme Court weighs solar energy ballot initiative\", 'source': 'Business Insider', 'media-type': 'News', 'id': '4724df8c-839f-4c0c-adb7-f1a04a2ff3bb', 'title': 'U.S. Senator Coons says he will support Iran nuclear deal: Washington Post', 'published': '2015-09-01T18:16:30Z'}\n",
      "\n",
      "{'content': '(Adds details about quake, dam) \\n\\nSept 1 (Reuters) - A magnitude 4.2 earthquake struck near\\nGrand Coulee Dam, the largest U.S. hydropower facility, in\\nnortheastern Washington state on Tuesday, prompting an immediate\\ninspection of the facility but leaving no visible damage, a\\nspokeswoman said. \\n\\nOperation of the Columbia River dam, which supplies\\nelectricity to 11 Western states, was not disrupted by the\\ntremor, according to the spokeswoman, Lynne Brougher of the U.S.\\nBureau of Reclamation, the agency that runs the dam. \\n\\nThe U.S. Geological Survey reported the quake was centered\\nabout 25 miles (40 km) north of the dam near the town of\\nNespelem in heart of the sprawling Coleville Indian Reservation,\\nan area ravaged by a major wildfire in recent days. \\n \\nWeak to light shaking was felt over a wide region, but there\\nwere no immediate reports of damage of injuries. \\n\\nEarthquakes of that magnitude are not uncommon in\\nseismically active Washington state, but Tuesday\\'s 4.2 tremor\\nwas the first to strike this close to the dam \"in quite a\\nwhile,\" Brougher said. \\n \\n\"Oh, it got our attention. Everybody felt it,\" she said,\\nadding that the trembling went on for roughly 30 seconds. \\n\\nShe said it would take several hours for dam officials to\\ncomplete their inspection of the mammoth facility. \\n \\nGrand Coulee stands 5-1/2 stories tall, is 500 feet (152\\nmeters) thick at its base, and stretches nearly a mile (1.6\\nkm)across the Columbia River to form Lake Roosevelt, which\\nprovides drinking water and irrigation supplies for communities\\nand farms in the region. \\n\\nThe dam includes three major hydroelectric power-generating\\nplants and a pump-generating plant that average a combined 21\\nbillion kilowatt hours of electrical output a year. It also\\ncontrols stream flow for flood management, fish migration and\\nrecreation downstream. \\n\\nThe original dam structure was completed in 1941, with\\nadditions made in the 1960s and \\'70s.\\n\\n (Reporting by Steve Gorman from Los Angeles; Editing by Sandra\\nMaler)', 'source': 'Reuters India', 'media-type': 'News', 'id': '275f9b6f-2d14-4b1d-a1b1-dbc1bb30916e', 'title': 'UPDATE 1-Magnitude 4.2 quake strikes near Grand Coulee Dam in Washington', 'published': '2015-09-01T19:11:48Z'}\n"
     ]
    }
   ],
   "source": [
    "counter = 0\n",
    "debug = True\n",
    "\n",
    "for key, value in results.items():\n",
    "    if len(value) >= 2:\n",
    "        ids = {ev_id.split('/')[-1].split('.')[0]\n",
    "               for ev_id in value}\n",
    "        duplicates = find_duplicates(ids, result_jsons, threshold=0.8)\n",
    "        \n",
    "        print(len(duplicates), len(value), len(value)-len(duplicates))\n",
    "        \n",
    "        if all([debug,\n",
    "                key not in done]):\n",
    "            print()\n",
    "            print(key)\n",
    "\n",
    "            print()\n",
    "            print('possible duplicates')\n",
    "            print(duplicates)\n",
    "            print()\n",
    "            for an_id in ids:\n",
    "                print()\n",
    "                print(result_jsons[an_id])\n",
    "            break\n",
    "        \n"
   ]
  },
  {
   "cell_type": "code",
   "execution_count": null,
   "metadata": {
    "collapsed": true
   },
   "outputs": [],
   "source": []
  },
  {
   "cell_type": "code",
   "execution_count": null,
   "metadata": {
    "collapsed": true
   },
   "outputs": [],
   "source": []
  }
 ],
 "metadata": {
  "anaconda-cloud": {},
  "kernelspec": {
   "display_name": "Python [conda root]",
   "language": "python",
   "name": "conda-root-py"
  },
  "language_info": {
   "codemirror_mode": {
    "name": "ipython",
    "version": 3
   },
   "file_extension": ".py",
   "mimetype": "text/x-python",
   "name": "python",
   "nbconvert_exporter": "python",
   "pygments_lexer": "ipython3",
   "version": "3.5.2"
  }
 },
 "nbformat": 4,
 "nbformat_minor": 0
}
