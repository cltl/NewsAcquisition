{
 "cells": [
  {
   "cell_type": "code",
   "execution_count": 1,
   "metadata": {
    "collapsed": true
   },
   "outputs": [],
   "source": [
    "import utils"
   ]
  },
  {
   "cell_type": "code",
   "execution_count": 2,
   "metadata": {
    "collapsed": true
   },
   "outputs": [],
   "source": [
    "labels=\"'earthquake', 'quake', 'temblor'\"\n",
    "time=True\n",
    "participants=False\n",
    "location=True\n",
    "strictLocations=True\n",
    "pageRankFilter=True\n",
    "pr_limit=500.0"
   ]
  },
  {
   "cell_type": "code",
   "execution_count": 3,
   "metadata": {
    "collapsed": false
   },
   "outputs": [
    {
     "name": "stdout",
     "output_type": "stream",
     "text": [
      "\n",
      "\tPREFIX sem: <http://semanticweb.cs.vu.nl/2009/11/sem/>\n",
      "\tPREFIX skos: <http://www.w3.org/2004/02/skos/core#>\n",
      "\tPREFIX dbpedia: <http://dbpedia.org/resource/>\n",
      "\tPREFIX owltime: <http://www.w3.org/TR/owl-time#>\n",
      "\tPREFIX rdfs: <http://www.w3.org/2000/01/rdf-schema#>\n",
      "\tPREFIX dbo: <http://dbpedia.org/ontology/>\n",
      "\tPREFIX vrank: <http://purl.org/voc/vrank#>\n",
      "\tSELECT ?event ?location ?time ?participant WHERE {\n",
      "    \n",
      "\t\t?event a sem:Event .\n",
      "\t\t{ ?event rdfs:label ?label .\n",
      "\t\tFILTER (?label IN ('earthquake', 'quake', 'temblor')) } \n",
      "\t\tUNION\n",
      "\t\t{ ?event sem:hasActor ?nonentity .\n",
      "\t\t?nonentity skos:relatedMatch dbpedia:Earthquake } . \n",
      "\t\t?event sem:hasTime ?tmx . ?tmx owltime:inDateTime ?time .  \n",
      "\t\t?event sem:hasPlace ?location .  \n",
      "\t\t?location a ?x . ?x rdfs:subClassOf* dbo:Place . \n",
      "\t\tFILTER (!REGEX(STR(?x), 'http://dbpedia.org/ontology/Country')) .\n",
      "\t\tFILTER NOT EXISTS { ?x rdfs:subClassOf* dbo:Country  } .   \n",
      "\t\t?location vrank:hasRank/vrank:rankValue ?pagerank .\n",
      "\t\tFILTER (xsd:float(?pagerank)<=500.000000) .\n",
      "    \n",
      "    \n",
      "\t}\n",
      "    \n"
     ]
    }
   ],
   "source": [
    "query=utils.get_me_a_query(labels, time, location, participants, strictLocations, pageRankFilter, pr_limit)\n",
    "print(query)"
   ]
  },
  {
   "cell_type": "code",
   "execution_count": 4,
   "metadata": {
    "collapsed": false
   },
   "outputs": [
    {
     "data": {
      "text/plain": [
       "84"
      ]
     },
     "execution_count": 4,
     "metadata": {},
     "output_type": "execute_result"
    }
   ],
   "source": [
    "res=utils.get_sparql_results(query)\n",
    "len(res)"
   ]
  },
  {
   "cell_type": "code",
   "execution_count": 36,
   "metadata": {
    "collapsed": false
   },
   "outputs": [],
   "source": [
    "from collections import Counter\n",
    "from collections import defaultdict\n",
    "import operator\n",
    "import json\n",
    "from Levenshtein import ratio"
   ]
  },
  {
   "cell_type": "code",
   "execution_count": 21,
   "metadata": {
    "collapsed": false
   },
   "outputs": [
    {
     "data": {
      "text/plain": [
       "{'event': {'type': 'uri',\n",
       "  'value': 'http://www.newsreader-project.eu/data/wikinews/sigmed/data/d7ddc614-701e-4700-917a-0efc25aa3459.in.naf#ev59'},\n",
       " 'location': {'type': 'uri',\n",
       "  'value': 'http://dbpedia.org/resource/Banda_Aceh'},\n",
       " 'time': {'type': 'uri',\n",
       "  'value': 'http://www.newsreader-project.eu/time/2004'}}"
      ]
     },
     "execution_count": 21,
     "metadata": {},
     "output_type": "execute_result"
    }
   ],
   "source": [
    "res[0]"
   ]
  },
  {
   "cell_type": "code",
   "execution_count": 27,
   "metadata": {
    "collapsed": false
   },
   "outputs": [],
   "source": [
    "results = defaultdict(set)\n",
    "for item in res:\n",
    "    key = (item['location']['value'], item['time']['value'])\n",
    "    results[key].add(item['event']['value'])"
   ]
  },
  {
   "cell_type": "code",
   "execution_count": 23,
   "metadata": {
    "collapsed": true
   },
   "outputs": [],
   "source": [
    "apath_signal_media_json = 'SignalMedia/signalmedia-1m.jsonl'"
   ]
  },
  {
   "cell_type": "code",
   "execution_count": 42,
   "metadata": {
    "collapsed": false
   },
   "outputs": [],
   "source": [
    "def retrieve_ids(path_signal_media_json, ids):\n",
    "    result_jsons = dict()\n",
    "    \n",
    "    with open(path_signal_media_json) as infile:\n",
    "        for counter, line in enumerate(infile, 1):\n",
    "            a_json = json.loads(line)\n",
    "            if a_json['id'] in ids:\n",
    "                result_jsons[a_json['id']] = a_json\n",
    "            \n",
    "            if set(result_jsons.keys()) == ids:\n",
    "                break\n",
    "    \n",
    "    return result_jsons"
   ]
  },
  {
   "cell_type": "code",
   "execution_count": 43,
   "metadata": {
    "collapsed": true
   },
   "outputs": [],
   "source": [
    "def find_duplicates(ids, results_json, threshold=0.8):\n",
    "    possible_duplicates = set()\n",
    "    \n",
    "    for an_id1 in ids:\n",
    "        for an_id2 in ids:\n",
    "            if an_id1 != an_id2:\n",
    "                distance = ratio(result_jsons[an_id1]['content'],\n",
    "                                 result_jsons[an_id2]['content'])\n",
    "                if distance > threshold:\n",
    "                    possible_duplicates.add(an_id1)\n",
    "                    possible_duplicates.add(an_id2)\n",
    "    return possible_duplicates\n",
    "    "
   ]
  },
  {
   "cell_type": "code",
   "execution_count": 28,
   "metadata": {
    "collapsed": true
   },
   "outputs": [],
   "source": [
    "needed_ids = {ev_id.split('/')[-1].split('.')[0]\n",
    "              for value in results.values()\n",
    "              for ev_id in value}\n",
    "result_jsons = retrieve_ids(apath_signal_media_json,\n",
    "                            needed_ids)"
   ]
  },
  {
   "cell_type": "code",
   "execution_count": 71,
   "metadata": {
    "collapsed": true
   },
   "outputs": [],
   "source": [
    "done = {('http://dbpedia.org/resource/Cushing,_Oklahoma', 'http://www.newsreader-project.eu/time/20150918'),\n",
    "       ('http://dbpedia.org/resource/Iquique', 'http://www.newsreader-project.eu/time/201404'),    \n",
    "       ('http://dbpedia.org/resource/Queensland', 'http://www.newsreader-project.eu/time/20150801'),\n",
    "       ('http://dbpedia.org/resource/Queensland', 'http://www.newsreader-project.eu/time/20150731'),\n",
    "       ('http://dbpedia.org/resource/Washington_(state)', 'http://www.newsreader-project.eu/time/20150901'),\n",
    "       ('http://dbpedia.org/resource/Oklahoma', 'http://www.newsreader-project.eu/time/201508'),\n",
    "        ('http://dbpedia.org/resource/Sinaloa', 'http://www.newsreader-project.eu/time/20150913'),\n",
    "('http://dbpedia.org/resource/Papua_(province)', 'http://www.newsreader-project.eu/time/20150925'),\n",
    "        ('http://dbpedia.org/resource/Grand_Coulee_Dam', 'http://www.newsreader-project.eu/time/20150901'),\n",
    "        ('http://dbpedia.org/resource/Baja_California', 'http://www.newsreader-project.eu/time/20150913'),\n",
    "        ('http://dbpedia.org/resource/Illapel', 'http://www.newsreader-project.eu/time/20150917'),\n",
    "        ('http://dbpedia.org/resource/Fraser_Island', 'http://www.newsreader-project.eu/time/20150801'),\n",
    "        ('http://dbpedia.org/resource/Fraser_Island', 'http://www.newsreader-project.eu/time/20150731')\n",
    "\n",
    "}"
   ]
  },
  {
   "cell_type": "code",
   "execution_count": 72,
   "metadata": {
    "collapsed": false
   },
   "outputs": [],
   "source": [
    "counter = 0\n",
    "for key, value in results.items():\n",
    "    if all([len(value) >= 2,\n",
    "            key not in done]):\n",
    "        ids = {ev_id.split('/')[-1].split('.')[0]\n",
    "               for ev_id in value}\n",
    "        print()\n",
    "        print(key)\n",
    "        duplicates = find_duplicates(ids, result_jsons, threshold=0.8)\n",
    "        print()\n",
    "        print('possible duplicates')\n",
    "        print(duplicates)\n",
    "        print()\n",
    "        for an_id in ids:\n",
    "            print()\n",
    "            print(result_jsons[an_id])\n",
    "        break\n",
    "        \n"
   ]
  }
 ],
 "metadata": {
  "anaconda-cloud": {},
  "kernelspec": {
   "display_name": "Python [conda root]",
   "language": "python",
   "name": "conda-root-py"
  },
  "language_info": {
   "codemirror_mode": {
    "name": "ipython",
    "version": 3
   },
   "file_extension": ".py",
   "mimetype": "text/x-python",
   "name": "python",
   "nbconvert_exporter": "python",
   "pygments_lexer": "ipython3",
   "version": "3.5.2"
  }
 },
 "nbformat": 4,
 "nbformat_minor": 0
}
